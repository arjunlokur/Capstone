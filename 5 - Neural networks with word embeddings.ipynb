{
 "cells": [
  {
   "cell_type": "markdown",
   "id": "765e430a-2f79-4fbd-8865-4a71ad04bd8b",
   "metadata": {
    "id": "765e430a-2f79-4fbd-8865-4a71ad04bd8b"
   },
   "source": [
    "# Notebook 5 : Word Embedding and Neural Network"
   ]
  },
  {
   "cell_type": "markdown",
   "id": "e1492fc8",
   "metadata": {},
   "source": [
    "### Introduction to Notebook: \n",
    "\n",
    "This notebook is an attempt at Neural networks, combined with an alternate approach to feature engineering the 2 text columns Description and Title, by using word embedding instead of Count Vectorizer.\n"
   ]
  },
  {
   "cell_type": "markdown",
   "id": "47bf7e16",
   "metadata": {},
   "source": [
    "## Table of Contents\n",
    "\n",
    "[1 - Loading in the Lexvec word embedding model](#1)\n",
    "\n",
    "[2 - Embedding the Description column](#2)\n",
    "\n",
    "[3 - Embedding the Title column](#3)\n",
    "\n",
    "[4 - Modeling IMDB Votes using Scikit Learn](#4)\n",
    "\n",
    "[5 - Modeling IMDB Votes using Tensor Flow](#5)\n",
    "\n",
    "[6 - Modeling IMDB Score using Tensor Flow](#6)\n",
    "\n",
    "[7 - Conclusion](#7)"
   ]
  },
  {
   "cell_type": "code",
   "execution_count": 1,
   "id": "508819e0-4947-45cd-83d5-ca4214b4ffb7",
   "metadata": {
    "id": "508819e0-4947-45cd-83d5-ca4214b4ffb7"
   },
   "outputs": [],
   "source": [
    "# Installing Basic packages\n",
    "import numpy as np\n",
    "import pandas as pd\n",
    "import matplotlib.pyplot as plt\n",
    "import seaborn as sns\n",
    "\n",
    "# To split the data as necessary for modelling\n",
    "from sklearn.model_selection import train_test_split\n",
    "\n",
    "# To get rid of logistic regression default solver warnings that appear if sklearn hasn't been updated\n",
    "import warnings\n",
    "warnings.filterwarnings('ignore')\n",
    "\n",
    "# To \"pickle\" things, like accuracies or even an entire fitted model\n",
    "import joblib\n",
    "\n",
    "# To set up a temporary directory for caching pipeline results\n",
    "from tempfile import mkdtemp\n",
    "\n",
    "# To try scaling the data in various ways\n",
    "from sklearn.preprocessing import StandardScaler\n",
    "from sklearn.preprocessing import MinMaxScaler\n",
    "from sklearn.preprocessing import RobustScaler\n",
    "\n",
    "# To try dimensionality reduction\n",
    "from sklearn.decomposition import PCA"
   ]
  },
  {
   "cell_type": "code",
   "execution_count": 2,
   "id": "7b867d15-9189-4057-b366-ceb124055956",
   "metadata": {
    "id": "7b867d15-9189-4057-b366-ceb124055956"
   },
   "outputs": [],
   "source": [
    "df = pd.read_csv('data/data_for_word_embedding_modeling.csv')"
   ]
  },
  {
   "cell_type": "code",
   "execution_count": 3,
   "id": "adc9ca4c-c0a6-46f8-8722-330ab32b10e8",
   "metadata": {
    "id": "adc9ca4c-c0a6-46f8-8722-330ab32b10e8",
    "outputId": "bb152572-f575-46d4-e0c9-23b464ae0bb7"
   },
   "outputs": [
    {
     "data": {
      "text/html": [
       "<div>\n",
       "<style scoped>\n",
       "    .dataframe tbody tr th:only-of-type {\n",
       "        vertical-align: middle;\n",
       "    }\n",
       "\n",
       "    .dataframe tbody tr th {\n",
       "        vertical-align: top;\n",
       "    }\n",
       "\n",
       "    .dataframe thead th {\n",
       "        text-align: right;\n",
       "    }\n",
       "</style>\n",
       "<table border=\"1\" class=\"dataframe\">\n",
       "  <thead>\n",
       "    <tr style=\"text-align: right;\">\n",
       "      <th></th>\n",
       "      <th>id</th>\n",
       "      <th>title</th>\n",
       "      <th>type</th>\n",
       "      <th>description</th>\n",
       "      <th>release_year</th>\n",
       "      <th>runtime</th>\n",
       "      <th>seasons</th>\n",
       "      <th>imdb_score</th>\n",
       "      <th>imdb_votes</th>\n",
       "      <th>Superstars</th>\n",
       "      <th>...</th>\n",
       "      <th>prod_country_ph</th>\n",
       "      <th>prod_country_pl</th>\n",
       "      <th>prod_country_ru</th>\n",
       "      <th>prod_country_se</th>\n",
       "      <th>prod_country_th</th>\n",
       "      <th>prod_country_tr</th>\n",
       "      <th>prod_country_tw</th>\n",
       "      <th>prod_country_us</th>\n",
       "      <th>prod_country_xx</th>\n",
       "      <th>prod_country_za</th>\n",
       "    </tr>\n",
       "  </thead>\n",
       "  <tbody>\n",
       "    <tr>\n",
       "      <th>0</th>\n",
       "      <td>tm84618</td>\n",
       "      <td>Taxi Driver</td>\n",
       "      <td>1</td>\n",
       "      <td>A mentally unstable Vietnam War veteran works ...</td>\n",
       "      <td>1976</td>\n",
       "      <td>114</td>\n",
       "      <td>0.0</td>\n",
       "      <td>8.2</td>\n",
       "      <td>808582.0</td>\n",
       "      <td>1</td>\n",
       "      <td>...</td>\n",
       "      <td>0</td>\n",
       "      <td>0</td>\n",
       "      <td>0</td>\n",
       "      <td>0</td>\n",
       "      <td>0</td>\n",
       "      <td>0</td>\n",
       "      <td>0</td>\n",
       "      <td>1</td>\n",
       "      <td>0</td>\n",
       "      <td>0</td>\n",
       "    </tr>\n",
       "    <tr>\n",
       "      <th>1</th>\n",
       "      <td>tm154986</td>\n",
       "      <td>Deliverance</td>\n",
       "      <td>1</td>\n",
       "      <td>Intent on seeing the Cahulawassee River before...</td>\n",
       "      <td>1972</td>\n",
       "      <td>109</td>\n",
       "      <td>0.0</td>\n",
       "      <td>7.7</td>\n",
       "      <td>107673.0</td>\n",
       "      <td>0</td>\n",
       "      <td>...</td>\n",
       "      <td>0</td>\n",
       "      <td>0</td>\n",
       "      <td>0</td>\n",
       "      <td>0</td>\n",
       "      <td>0</td>\n",
       "      <td>0</td>\n",
       "      <td>0</td>\n",
       "      <td>1</td>\n",
       "      <td>0</td>\n",
       "      <td>0</td>\n",
       "    </tr>\n",
       "  </tbody>\n",
       "</table>\n",
       "<p>2 rows × 75 columns</p>\n",
       "</div>"
      ],
      "text/plain": [
       "         id        title  type  \\\n",
       "0   tm84618  Taxi Driver     1   \n",
       "1  tm154986  Deliverance     1   \n",
       "\n",
       "                                         description  release_year  runtime  \\\n",
       "0  A mentally unstable Vietnam War veteran works ...          1976      114   \n",
       "1  Intent on seeing the Cahulawassee River before...          1972      109   \n",
       "\n",
       "   seasons  imdb_score  imdb_votes  Superstars  ...  prod_country_ph  \\\n",
       "0      0.0         8.2    808582.0           1  ...                0   \n",
       "1      0.0         7.7    107673.0           0  ...                0   \n",
       "\n",
       "   prod_country_pl  prod_country_ru  prod_country_se  prod_country_th  \\\n",
       "0                0                0                0                0   \n",
       "1                0                0                0                0   \n",
       "\n",
       "   prod_country_tr  prod_country_tw  prod_country_us  prod_country_xx  \\\n",
       "0                0                0                1                0   \n",
       "1                0                0                1                0   \n",
       "\n",
       "   prod_country_za  \n",
       "0                0  \n",
       "1                0  \n",
       "\n",
       "[2 rows x 75 columns]"
      ]
     },
     "execution_count": 3,
     "metadata": {},
     "output_type": "execute_result"
    }
   ],
   "source": [
    "df.head(2)"
   ]
  },
  {
   "cell_type": "markdown",
   "id": "8eb37294-f731-43e2-9ff6-309639751ae6",
   "metadata": {
    "id": "8eb37294-f731-43e2-9ff6-309639751ae6"
   },
   "source": [
    "Looks like it got read in correctly. Now let's try the word embedding."
   ]
  },
  {
   "cell_type": "markdown",
   "id": "0e8d967b",
   "metadata": {},
   "source": [
    "### 1"
   ]
  },
  {
   "cell_type": "markdown",
   "id": "fd6fea1b",
   "metadata": {},
   "source": [
    "### Loading in the Lexvec word embedding model"
   ]
  },
  {
   "cell_type": "code",
   "execution_count": 3,
   "id": "ed332f3e-c21b-4ab5-9746-c0cb676982c8",
   "metadata": {
    "id": "ed332f3e-c21b-4ab5-9746-c0cb676982c8"
   },
   "outputs": [],
   "source": [
    "import gensim"
   ]
  },
  {
   "cell_type": "code",
   "execution_count": 4,
   "id": "3a3e392d-6dc9-4c1a-9062-fac98928b842",
   "metadata": {
    "id": "3a3e392d-6dc9-4c1a-9062-fac98928b842"
   },
   "outputs": [],
   "source": [
    "model = gensim.models.KeyedVectors.load_word2vec_format(\n",
    "    'data/lexvec-wikipedia-word-vectors', binary=False\n",
    ")"
   ]
  },
  {
   "cell_type": "markdown",
   "id": "1af477c4-bc7d-432d-832c-5b10d12a7774",
   "metadata": {
    "id": "1af477c4-bc7d-432d-832c-5b10d12a7774"
   },
   "source": [
    "Checking if this got done correctly - creating a heat map for the same word as in the notebook (turtle)"
   ]
  },
  {
   "cell_type": "code",
   "execution_count": null,
   "id": "7506bc2e-3ece-4de2-a661-0e4140296714",
   "metadata": {
    "id": "7506bc2e-3ece-4de2-a661-0e4140296714",
    "outputId": "4be608b8-6fc4-48d8-8ab7-770003078ab7"
   },
   "outputs": [
    {
     "data": {
      "text/plain": [
       "array([ 1.68337e-01, -6.07340e-02, -1.13089e-01, -1.93138e-01,\n",
       "        1.45056e-01,  3.44000e-03,  1.19876e-01,  4.71450e-02,\n",
       "       -1.08717e-01, -1.36544e-01,  1.55300e-03,  1.27815e-01,\n",
       "       -1.80432e-01,  1.85429e-01,  2.89327e-01, -2.06343e-01,\n",
       "       -9.88010e-02, -2.28690e-02,  1.70756e-01,  4.59096e-01,\n",
       "       -3.62160e-02,  4.58580e-02,  1.53405e-01, -1.99162e-01,\n",
       "       -4.59473e-01,  3.37650e-02, -1.08214e-01,  9.95190e-02,\n",
       "        1.27169e-01,  5.09100e-02, -2.82432e-01, -1.05779e-01,\n",
       "       -1.03657e-01, -1.04305e-01, -1.39600e-03,  1.26930e-02,\n",
       "       -2.21794e-01,  1.21372e-01, -3.52156e-01,  3.01924e-01,\n",
       "        6.04080e-02, -2.15454e-01, -2.34705e-01,  1.02799e-01,\n",
       "       -2.71996e-01, -2.12982e-01, -3.09037e-01, -4.44920e-02,\n",
       "       -1.78825e-01, -6.63130e-02,  4.46350e-02, -3.18267e-01,\n",
       "       -4.05890e-02, -2.58692e-01, -5.36960e-02,  2.40580e-01,\n",
       "        2.24187e-01,  4.64624e-01,  1.42377e-01, -5.90000e-04,\n",
       "        4.05554e-01,  7.75500e-03, -1.04347e-01, -3.58282e-01,\n",
       "       -3.02381e-01,  8.60030e-02,  6.66170e-02,  7.23700e-03,\n",
       "        6.76200e-03, -2.57590e-02,  9.09600e-02,  5.83360e-02,\n",
       "       -7.43490e-02, -1.62773e-01,  1.62554e-01,  1.76701e-01,\n",
       "       -1.45090e-02,  1.03874e-01,  3.83340e-02,  9.65450e-02,\n",
       "        5.79860e-02,  8.19550e-02,  2.00922e-01, -1.82760e-02,\n",
       "       -5.62839e-01,  7.97970e-02,  2.23530e-01, -1.99643e-01,\n",
       "       -2.82900e-03, -2.99299e-01, -6.22260e-02, -7.49240e-02,\n",
       "        1.53128e-01, -1.64654e-01,  2.95103e-01, -2.32880e-02,\n",
       "       -7.22610e-02, -3.66810e-02,  2.00276e-01, -2.35752e-01,\n",
       "        2.15357e-01,  1.97399e-01,  8.66940e-02,  1.62279e-01,\n",
       "        1.65050e-01,  2.30154e-01, -2.81834e-01, -1.88573e-01,\n",
       "        7.54540e-02, -9.73350e-02,  4.92330e-02, -2.04652e-01,\n",
       "       -1.33310e-01, -1.23904e-01,  3.02950e-01,  3.55076e-01,\n",
       "        1.25416e-01,  1.84895e-01,  1.96077e-01, -3.17070e-02,\n",
       "       -3.20982e-01, -6.51600e-02, -8.03350e-02,  1.24699e-01,\n",
       "       -1.70787e-01,  1.03459e-01,  5.63730e-02,  1.93981e-01,\n",
       "       -2.22028e-01,  2.72481e-01, -6.56720e-02, -3.17064e-01,\n",
       "        8.24930e-02,  8.00090e-02, -1.56010e-01,  1.11249e-01,\n",
       "       -7.37020e-02,  2.14670e-02,  3.79804e-01,  7.02220e-02,\n",
       "       -3.08320e-02, -1.53491e-01,  1.40644e-01, -2.74903e-01,\n",
       "       -2.16810e-01, -4.79270e-02, -1.20830e-02,  1.57548e-01,\n",
       "        2.18800e-02,  4.53570e-02,  1.08709e-01,  2.94295e-01,\n",
       "       -1.79133e-01, -4.02910e-02, -2.51100e-03, -4.08929e-01,\n",
       "        1.60380e-01,  3.28800e-02, -3.08641e-01, -3.23980e-02,\n",
       "       -1.14710e-02,  6.02260e-02,  1.61134e-01, -1.35269e-01,\n",
       "        6.81960e-02,  1.79502e-01,  9.77140e-02, -2.16090e-02,\n",
       "       -1.20660e-02, -4.02426e-01,  1.33085e-01, -1.82296e-01,\n",
       "        1.61450e-02, -1.71295e-01, -2.81200e-02,  2.99480e-02,\n",
       "       -1.22930e-01,  1.11660e-01,  1.64458e-01,  2.26003e-01,\n",
       "       -9.27020e-02,  6.11140e-02,  1.74550e-02, -2.36540e-02,\n",
       "        2.88453e-01, -1.02490e-01, -1.16344e-01, -4.42700e-03,\n",
       "       -2.15400e-01, -1.94910e-02,  6.28400e-03, -8.82670e-02,\n",
       "       -1.27135e-01,  7.17020e-02,  1.51914e-01, -8.33000e-04,\n",
       "       -1.38415e-01,  6.30880e-02,  1.29443e-01,  2.40865e-01,\n",
       "       -1.92210e-01,  3.69119e-01, -1.11247e-01,  1.94134e-01,\n",
       "        3.84478e-01, -8.55140e-02,  8.97650e-02, -2.11240e-02,\n",
       "       -9.75650e-02, -1.31309e-01,  9.80200e-02,  3.11670e-02,\n",
       "        3.82901e-01, -3.91711e-01,  2.05372e-01, -2.53775e-01,\n",
       "        5.31510e-02, -1.54391e-01,  1.58148e-01,  1.05495e-01,\n",
       "        1.23034e-01,  2.22887e-01, -1.44431e-01,  1.37556e-01,\n",
       "       -5.34890e-01, -5.97080e-02, -2.80050e-02, -6.63870e-02,\n",
       "       -8.37640e-02,  3.53020e-02,  5.12210e-02, -7.00560e-02,\n",
       "       -4.86890e-02, -3.61550e-02, -1.60964e-01,  6.92520e-02,\n",
       "       -9.03700e-02,  1.39880e-01, -4.63520e-02, -2.05374e-01,\n",
       "        5.36020e-02,  4.73020e-02,  6.25770e-02, -2.13630e-01,\n",
       "       -1.86997e-01,  1.10333e-01,  1.53064e-01,  1.53278e-01,\n",
       "        9.62240e-02,  2.31205e-01,  1.52168e-01, -4.03280e-02,\n",
       "       -2.00912e-01, -1.08334e-01, -6.82650e-02, -8.12790e-02,\n",
       "        1.68473e-01,  6.72570e-02,  6.62600e-02, -1.02172e-01,\n",
       "       -2.57258e-01,  1.15627e-01, -1.78655e-01,  2.64490e-02,\n",
       "       -1.10064e-01, -1.39742e-01,  1.04947e-01,  2.97860e-02,\n",
       "       -4.13920e-02, -3.25470e-02,  2.19360e-02,  6.84820e-02,\n",
       "       -3.01290e-02, -3.71205e-01,  2.70048e-01, -6.56620e-02,\n",
       "       -4.65140e-02,  2.35600e-03, -6.38468e-01, -1.75757e-01,\n",
       "       -2.52758e-01,  8.55230e-02, -2.23981e-01,  3.70250e-02,\n",
       "       -2.22846e-01,  6.24660e-02, -2.06931e-01,  5.96120e-02,\n",
       "       -2.60172e-01,  6.41110e-02, -9.97480e-02,  2.43149e-01,\n",
       "        7.04560e-02, -1.44060e-01, -1.51669e-01,  2.16498e-01,\n",
       "       -4.63380e-02,  2.88480e-01,  1.06191e-01, -1.83531e-01],\n",
       "      dtype=float32)"
      ]
     },
     "execution_count": 13,
     "metadata": {},
     "output_type": "execute_result"
    }
   ],
   "source": [
    "turtle_vector = model[\"turtle\"]\n",
    "turtle_vector"
   ]
  },
  {
   "cell_type": "code",
   "execution_count": null,
   "id": "3a2f3181-48de-4e97-8560-fb66ab742857",
   "metadata": {
    "id": "3a2f3181-48de-4e97-8560-fb66ab742857",
    "outputId": "8db07aad-257d-41af-b0db-87f4778e1113"
   },
   "outputs": [
    {
     "data": {
      "image/png": "[encoded data removed]",
      "text/plain": [
       "<Figure size 2000x500 with 1 Axes>"
      ]
     },
     "metadata": {},
     "output_type": "display_data"
    }
   ],
   "source": [
    "plt.figure(figsize=(20, 5))\n",
    "plt.imshow(np.tile(model[\"turtle\"], (10, 1)))\n",
    "plt.xticks([])\n",
    "plt.yticks([])\n",
    "plt.title(f\"\\\"turtle\\\" embedding vector\")\n",
    "plt.show()"
   ]
  },
  {
   "cell_type": "markdown",
   "id": "2287feef",
   "metadata": {},
   "source": [
    "### 2"
   ]
  },
  {
   "cell_type": "markdown",
   "id": "b750115c-bda2-45ee-b033-736cd4eedbff",
   "metadata": {
    "id": "b750115c-bda2-45ee-b033-736cd4eedbff"
   },
   "source": [
    "### Embedding the `description` column"
   ]
  },
  {
   "cell_type": "code",
   "execution_count": 6,
   "id": "2123a53e-01ad-4256-8797-763e1ae595b3",
   "metadata": {
    "id": "2123a53e-01ad-4256-8797-763e1ae595b3"
   },
   "outputs": [],
   "source": [
    "from gensim.utils import simple_preprocess"
   ]
  },
  {
   "cell_type": "markdown",
   "id": "fd6c76de-fffd-4451-96cd-e618a604a8c2",
   "metadata": {
    "id": "fd6c76de-fffd-4451-96cd-e618a604a8c2"
   },
   "source": [
    "Checking if this is working fine - looking at the description for the first movie in the dataframe, Taxi Driver."
   ]
  },
  {
   "cell_type": "code",
   "execution_count": null,
   "id": "eb7e52cd-0aa2-4c50-91ce-30af2e3fa437",
   "metadata": {
    "id": "eb7e52cd-0aa2-4c50-91ce-30af2e3fa437"
   },
   "outputs": [],
   "source": []
  },
  {
   "cell_type": "code",
   "execution_count": null,
   "id": "67253cc9-977d-4a3c-b29b-528ee8feec90",
   "metadata": {
    "id": "67253cc9-977d-4a3c-b29b-528ee8feec90",
    "outputId": "8fe42215-429a-4f0d-9b7a-aab86803534b"
   },
   "outputs": [
    {
     "name": "stdout",
     "output_type": "stream",
     "text": [
      "['mentally', 'unstable', 'vietnam', 'war', 'veteran', 'works', 'as', 'night', 'time', 'taxi', 'driver', 'in', 'new', 'york', 'city', 'where', 'the', 'perceived', 'decadence', 'and', 'sleaze', 'feed', 'his', 'urge', 'for', 'violent', 'action']\n"
     ]
    }
   ],
   "source": [
    "tokenized = simple_preprocess(df['description'][0])\n",
    "\n",
    "print(tokenized)"
   ]
  },
  {
   "cell_type": "markdown",
   "id": "58746721-31d0-4efa-aea0-cee8dd0fecb6",
   "metadata": {
    "id": "58746721-31d0-4efa-aea0-cee8dd0fecb6"
   },
   "source": [
    "Seems to have worked correctly."
   ]
  },
  {
   "cell_type": "code",
   "execution_count": 7,
   "id": "9caa9180-3636-49a3-addd-018dcc8a1fce",
   "metadata": {
    "id": "9caa9180-3636-49a3-addd-018dcc8a1fce"
   },
   "outputs": [],
   "source": [
    "def sentence2vec(text):\n",
    "    \"\"\"\n",
    "    Embed a sentence by averaging the word vectors of the tokenized text. Out-of-vocabulary words are replaced by the zero-vector.\n",
    "    -----\n",
    "    \n",
    "    Input: text (string)\n",
    "    Output: embedding vector (np.array)\n",
    "    \"\"\"\n",
    "    tokenized = simple_preprocess(text)\n",
    "    \n",
    "    word_embeddings = [np.zeros(300)]\n",
    "    for word in tokenized:\n",
    "        # if the word is in the model then embed\n",
    "        if word in model:\n",
    "            vector = model[word]\n",
    "        # add zeros for out-of-vocab words\n",
    "        else:\n",
    "            vector = np.zeros(300)\n",
    "            \n",
    "        word_embeddings.append(vector)\n",
    "    \n",
    "    # average the word vectors\n",
    "    sentence_embedding = np.stack(word_embeddings).mean(axis=0)\n",
    "    \n",
    "    return sentence_embedding"
   ]
  },
  {
   "cell_type": "code",
   "execution_count": 9,
   "id": "6e422658-0159-40de-a01f-c4edc00d224b",
   "metadata": {
    "id": "6e422658-0159-40de-a01f-c4edc00d224b"
   },
   "outputs": [],
   "source": [
    "n = len(df)"
   ]
  },
  {
   "cell_type": "code",
   "execution_count": 10,
   "id": "6be0311f-07fb-4aa3-8fef-ff0a78927400",
   "metadata": {
    "id": "6be0311f-07fb-4aa3-8fef-ff0a78927400"
   },
   "outputs": [],
   "source": [
    "descr_vect = pd.DataFrame(columns=range(300), index=range(0,n))"
   ]
  },
  {
   "cell_type": "code",
   "execution_count": 11,
   "id": "d646350e-ee37-41bc-a6d1-0bd860edce0a",
   "metadata": {
    "id": "d646350e-ee37-41bc-a6d1-0bd860edce0a"
   },
   "outputs": [],
   "source": [
    "for i in range(0,n):\n",
    "    descr_vect.loc[i] = sentence2vec(df['description'][i])"
   ]
  },
  {
   "cell_type": "code",
   "execution_count": 12,
   "id": "46b1a145-f2c3-4f4f-b28a-45b0da5515db",
   "metadata": {
    "id": "46b1a145-f2c3-4f4f-b28a-45b0da5515db",
    "outputId": "c6e76ed1-933c-477c-d4e1-7633666f3415"
   },
   "outputs": [
    {
     "data": {
      "text/html": [
       "<div>\n",
       "<style scoped>\n",
       "    .dataframe tbody tr th:only-of-type {\n",
       "        vertical-align: middle;\n",
       "    }\n",
       "\n",
       "    .dataframe tbody tr th {\n",
       "        vertical-align: top;\n",
       "    }\n",
       "\n",
       "    .dataframe thead th {\n",
       "        text-align: right;\n",
       "    }\n",
       "</style>\n",
       "<table border=\"1\" class=\"dataframe\">\n",
       "  <thead>\n",
       "    <tr style=\"text-align: right;\">\n",
       "      <th></th>\n",
       "      <th>0</th>\n",
       "      <th>1</th>\n",
       "      <th>2</th>\n",
       "      <th>3</th>\n",
       "      <th>4</th>\n",
       "      <th>5</th>\n",
       "      <th>6</th>\n",
       "      <th>7</th>\n",
       "      <th>8</th>\n",
       "      <th>9</th>\n",
       "      <th>...</th>\n",
       "      <th>290</th>\n",
       "      <th>291</th>\n",
       "      <th>292</th>\n",
       "      <th>293</th>\n",
       "      <th>294</th>\n",
       "      <th>295</th>\n",
       "      <th>296</th>\n",
       "      <th>297</th>\n",
       "      <th>298</th>\n",
       "      <th>299</th>\n",
       "    </tr>\n",
       "  </thead>\n",
       "  <tbody>\n",
       "    <tr>\n",
       "      <th>2158</th>\n",
       "      <td>0.036582</td>\n",
       "      <td>0.032198</td>\n",
       "      <td>-0.007443</td>\n",
       "      <td>-0.017023</td>\n",
       "      <td>-0.026217</td>\n",
       "      <td>0.024179</td>\n",
       "      <td>-0.039567</td>\n",
       "      <td>-0.008268</td>\n",
       "      <td>0.007583</td>\n",
       "      <td>0.04805</td>\n",
       "      <td>...</td>\n",
       "      <td>0.020128</td>\n",
       "      <td>-0.053325</td>\n",
       "      <td>-0.0582</td>\n",
       "      <td>-0.125772</td>\n",
       "      <td>-0.025454</td>\n",
       "      <td>-0.050099</td>\n",
       "      <td>0.052679</td>\n",
       "      <td>0.01869</td>\n",
       "      <td>-0.002775</td>\n",
       "      <td>-0.020458</td>\n",
       "    </tr>\n",
       "    <tr>\n",
       "      <th>3216</th>\n",
       "      <td>0.041665</td>\n",
       "      <td>0.051141</td>\n",
       "      <td>0.048943</td>\n",
       "      <td>-0.064907</td>\n",
       "      <td>-0.066236</td>\n",
       "      <td>0.016159</td>\n",
       "      <td>-0.039083</td>\n",
       "      <td>0.001737</td>\n",
       "      <td>-0.001867</td>\n",
       "      <td>-0.011619</td>\n",
       "      <td>...</td>\n",
       "      <td>-0.023317</td>\n",
       "      <td>-0.047854</td>\n",
       "      <td>-0.044965</td>\n",
       "      <td>-0.060307</td>\n",
       "      <td>-0.055428</td>\n",
       "      <td>0.014561</td>\n",
       "      <td>0.029082</td>\n",
       "      <td>0.003846</td>\n",
       "      <td>-0.025931</td>\n",
       "      <td>-0.030312</td>\n",
       "    </tr>\n",
       "    <tr>\n",
       "      <th>16506</th>\n",
       "      <td>0.04456</td>\n",
       "      <td>0.03678</td>\n",
       "      <td>0.04178</td>\n",
       "      <td>0.008937</td>\n",
       "      <td>-0.071094</td>\n",
       "      <td>0.055518</td>\n",
       "      <td>-0.068727</td>\n",
       "      <td>-0.071236</td>\n",
       "      <td>0.004741</td>\n",
       "      <td>-0.009214</td>\n",
       "      <td>...</td>\n",
       "      <td>-0.030026</td>\n",
       "      <td>-0.046401</td>\n",
       "      <td>-0.041129</td>\n",
       "      <td>-0.1103</td>\n",
       "      <td>-0.049097</td>\n",
       "      <td>-0.043043</td>\n",
       "      <td>0.031228</td>\n",
       "      <td>-0.003533</td>\n",
       "      <td>-0.006702</td>\n",
       "      <td>-0.016392</td>\n",
       "    </tr>\n",
       "    <tr>\n",
       "      <th>12972</th>\n",
       "      <td>0.012366</td>\n",
       "      <td>-0.001929</td>\n",
       "      <td>0.003485</td>\n",
       "      <td>-0.028967</td>\n",
       "      <td>-0.062216</td>\n",
       "      <td>0.013218</td>\n",
       "      <td>-0.047121</td>\n",
       "      <td>-0.035553</td>\n",
       "      <td>0.017753</td>\n",
       "      <td>0.039908</td>\n",
       "      <td>...</td>\n",
       "      <td>-0.014232</td>\n",
       "      <td>-0.016923</td>\n",
       "      <td>-0.02986</td>\n",
       "      <td>-0.088603</td>\n",
       "      <td>-0.048286</td>\n",
       "      <td>0.011057</td>\n",
       "      <td>0.095961</td>\n",
       "      <td>-0.003546</td>\n",
       "      <td>0.005559</td>\n",
       "      <td>-0.021131</td>\n",
       "    </tr>\n",
       "    <tr>\n",
       "      <th>15591</th>\n",
       "      <td>0.0481</td>\n",
       "      <td>0.038106</td>\n",
       "      <td>0.03584</td>\n",
       "      <td>-0.038637</td>\n",
       "      <td>-0.029915</td>\n",
       "      <td>0.037703</td>\n",
       "      <td>-0.037553</td>\n",
       "      <td>-0.010651</td>\n",
       "      <td>0.013986</td>\n",
       "      <td>0.011068</td>\n",
       "      <td>...</td>\n",
       "      <td>-0.009657</td>\n",
       "      <td>-0.01431</td>\n",
       "      <td>-0.01644</td>\n",
       "      <td>-0.063744</td>\n",
       "      <td>-0.075619</td>\n",
       "      <td>0.0003</td>\n",
       "      <td>0.061635</td>\n",
       "      <td>0.008101</td>\n",
       "      <td>-0.000952</td>\n",
       "      <td>-0.059071</td>\n",
       "    </tr>\n",
       "  </tbody>\n",
       "</table>\n",
       "<p>5 rows × 300 columns</p>\n",
       "</div>"
      ],
      "text/plain": [
       "            0         1         2         3         4         5         6    \\\n",
       "2158   0.036582  0.032198 -0.007443 -0.017023 -0.026217  0.024179 -0.039567   \n",
       "3216   0.041665  0.051141  0.048943 -0.064907 -0.066236  0.016159 -0.039083   \n",
       "16506   0.04456   0.03678   0.04178  0.008937 -0.071094  0.055518 -0.068727   \n",
       "12972  0.012366 -0.001929  0.003485 -0.028967 -0.062216  0.013218 -0.047121   \n",
       "15591    0.0481  0.038106   0.03584 -0.038637 -0.029915  0.037703 -0.037553   \n",
       "\n",
       "            7         8         9    ...       290       291       292  \\\n",
       "2158  -0.008268  0.007583   0.04805  ...  0.020128 -0.053325   -0.0582   \n",
       "3216   0.001737 -0.001867 -0.011619  ... -0.023317 -0.047854 -0.044965   \n",
       "16506 -0.071236  0.004741 -0.009214  ... -0.030026 -0.046401 -0.041129   \n",
       "12972 -0.035553  0.017753  0.039908  ... -0.014232 -0.016923  -0.02986   \n",
       "15591 -0.010651  0.013986  0.011068  ... -0.009657  -0.01431  -0.01644   \n",
       "\n",
       "            293       294       295       296       297       298       299  \n",
       "2158  -0.125772 -0.025454 -0.050099  0.052679   0.01869 -0.002775 -0.020458  \n",
       "3216  -0.060307 -0.055428  0.014561  0.029082  0.003846 -0.025931 -0.030312  \n",
       "16506   -0.1103 -0.049097 -0.043043  0.031228 -0.003533 -0.006702 -0.016392  \n",
       "12972 -0.088603 -0.048286  0.011057  0.095961 -0.003546  0.005559 -0.021131  \n",
       "15591 -0.063744 -0.075619    0.0003  0.061635  0.008101 -0.000952 -0.059071  \n",
       "\n",
       "[5 rows x 300 columns]"
      ]
     },
     "execution_count": 12,
     "metadata": {},
     "output_type": "execute_result"
    }
   ],
   "source": [
    "descr_vect.sample(5)"
   ]
  },
  {
   "cell_type": "code",
   "execution_count": 13,
   "id": "5a0db012-8f42-427a-bcfc-0bc46bdeb0ec",
   "metadata": {
    "id": "5a0db012-8f42-427a-bcfc-0bc46bdeb0ec"
   },
   "outputs": [],
   "source": [
    "new_column_names = [f'dv{i}' for i in range(1, 301)]"
   ]
  },
  {
   "cell_type": "code",
   "execution_count": 14,
   "id": "e11b90d0-953d-462b-93f0-0e20e6eb7648",
   "metadata": {
    "id": "e11b90d0-953d-462b-93f0-0e20e6eb7648"
   },
   "outputs": [],
   "source": [
    "descr_vect.columns = new_column_names"
   ]
  },
  {
   "cell_type": "code",
   "execution_count": 15,
   "id": "b35d6921-3a2d-4473-9a02-8256ce59a02e",
   "metadata": {
    "id": "b35d6921-3a2d-4473-9a02-8256ce59a02e",
    "outputId": "7ab35b41-6272-48d2-8849-1489c9adaa05"
   },
   "outputs": [
    {
     "data": {
      "text/html": [
       "<div>\n",
       "<style scoped>\n",
       "    .dataframe tbody tr th:only-of-type {\n",
       "        vertical-align: middle;\n",
       "    }\n",
       "\n",
       "    .dataframe tbody tr th {\n",
       "        vertical-align: top;\n",
       "    }\n",
       "\n",
       "    .dataframe thead th {\n",
       "        text-align: right;\n",
       "    }\n",
       "</style>\n",
       "<table border=\"1\" class=\"dataframe\">\n",
       "  <thead>\n",
       "    <tr style=\"text-align: right;\">\n",
       "      <th></th>\n",
       "      <th>dv1</th>\n",
       "      <th>dv2</th>\n",
       "      <th>dv3</th>\n",
       "      <th>dv4</th>\n",
       "      <th>dv5</th>\n",
       "      <th>dv6</th>\n",
       "      <th>dv7</th>\n",
       "      <th>dv8</th>\n",
       "      <th>dv9</th>\n",
       "      <th>dv10</th>\n",
       "      <th>...</th>\n",
       "      <th>dv291</th>\n",
       "      <th>dv292</th>\n",
       "      <th>dv293</th>\n",
       "      <th>dv294</th>\n",
       "      <th>dv295</th>\n",
       "      <th>dv296</th>\n",
       "      <th>dv297</th>\n",
       "      <th>dv298</th>\n",
       "      <th>dv299</th>\n",
       "      <th>dv300</th>\n",
       "    </tr>\n",
       "  </thead>\n",
       "  <tbody>\n",
       "    <tr>\n",
       "      <th>8206</th>\n",
       "      <td>0.023463</td>\n",
       "      <td>0.020932</td>\n",
       "      <td>0.018058</td>\n",
       "      <td>-0.043865</td>\n",
       "      <td>-0.047643</td>\n",
       "      <td>0.039793</td>\n",
       "      <td>-0.031772</td>\n",
       "      <td>-0.018827</td>\n",
       "      <td>0.027765</td>\n",
       "      <td>0.02525</td>\n",
       "      <td>...</td>\n",
       "      <td>0.026153</td>\n",
       "      <td>-0.053574</td>\n",
       "      <td>-0.013827</td>\n",
       "      <td>-0.054313</td>\n",
       "      <td>-0.044906</td>\n",
       "      <td>-0.018657</td>\n",
       "      <td>0.047687</td>\n",
       "      <td>0.022093</td>\n",
       "      <td>-0.034811</td>\n",
       "      <td>-0.009411</td>\n",
       "    </tr>\n",
       "    <tr>\n",
       "      <th>729</th>\n",
       "      <td>-0.008831</td>\n",
       "      <td>0.032645</td>\n",
       "      <td>0.042656</td>\n",
       "      <td>-0.033262</td>\n",
       "      <td>-0.025595</td>\n",
       "      <td>0.051453</td>\n",
       "      <td>-0.050186</td>\n",
       "      <td>-0.020239</td>\n",
       "      <td>0.005802</td>\n",
       "      <td>0.017739</td>\n",
       "      <td>...</td>\n",
       "      <td>-0.024026</td>\n",
       "      <td>0.008416</td>\n",
       "      <td>-0.022882</td>\n",
       "      <td>-0.078455</td>\n",
       "      <td>-0.06696</td>\n",
       "      <td>0.008728</td>\n",
       "      <td>0.091284</td>\n",
       "      <td>-0.063337</td>\n",
       "      <td>0.012251</td>\n",
       "      <td>-0.039543</td>\n",
       "    </tr>\n",
       "    <tr>\n",
       "      <th>10373</th>\n",
       "      <td>0.038263</td>\n",
       "      <td>-0.004907</td>\n",
       "      <td>0.041104</td>\n",
       "      <td>-0.065374</td>\n",
       "      <td>-0.071906</td>\n",
       "      <td>0.037439</td>\n",
       "      <td>-0.027142</td>\n",
       "      <td>-0.037981</td>\n",
       "      <td>0.01991</td>\n",
       "      <td>0.006706</td>\n",
       "      <td>...</td>\n",
       "      <td>0.024026</td>\n",
       "      <td>0.001166</td>\n",
       "      <td>-0.030163</td>\n",
       "      <td>-0.09042</td>\n",
       "      <td>-0.049992</td>\n",
       "      <td>0.034355</td>\n",
       "      <td>0.044013</td>\n",
       "      <td>-0.007574</td>\n",
       "      <td>0.013922</td>\n",
       "      <td>-0.029388</td>\n",
       "    </tr>\n",
       "    <tr>\n",
       "      <th>9833</th>\n",
       "      <td>0.047471</td>\n",
       "      <td>-0.01318</td>\n",
       "      <td>-0.011155</td>\n",
       "      <td>0.000402</td>\n",
       "      <td>-0.034889</td>\n",
       "      <td>0.011787</td>\n",
       "      <td>-0.039994</td>\n",
       "      <td>-0.00261</td>\n",
       "      <td>0.027179</td>\n",
       "      <td>0.056209</td>\n",
       "      <td>...</td>\n",
       "      <td>-0.013421</td>\n",
       "      <td>0.028766</td>\n",
       "      <td>-0.01411</td>\n",
       "      <td>-0.074724</td>\n",
       "      <td>-0.030311</td>\n",
       "      <td>0.008052</td>\n",
       "      <td>0.073031</td>\n",
       "      <td>0.00118</td>\n",
       "      <td>0.001833</td>\n",
       "      <td>0.007476</td>\n",
       "    </tr>\n",
       "    <tr>\n",
       "      <th>7102</th>\n",
       "      <td>0.064554</td>\n",
       "      <td>0.010909</td>\n",
       "      <td>0.008923</td>\n",
       "      <td>0.022747</td>\n",
       "      <td>-0.069933</td>\n",
       "      <td>0.036591</td>\n",
       "      <td>-0.029753</td>\n",
       "      <td>-0.061267</td>\n",
       "      <td>-0.032187</td>\n",
       "      <td>-0.01147</td>\n",
       "      <td>...</td>\n",
       "      <td>0.031132</td>\n",
       "      <td>0.005802</td>\n",
       "      <td>-0.038758</td>\n",
       "      <td>-0.061091</td>\n",
       "      <td>-0.077828</td>\n",
       "      <td>-0.027089</td>\n",
       "      <td>0.028061</td>\n",
       "      <td>-0.022079</td>\n",
       "      <td>-0.017212</td>\n",
       "      <td>-0.018915</td>\n",
       "    </tr>\n",
       "  </tbody>\n",
       "</table>\n",
       "<p>5 rows × 300 columns</p>\n",
       "</div>"
      ],
      "text/plain": [
       "            dv1       dv2       dv3       dv4       dv5       dv6       dv7  \\\n",
       "8206   0.023463  0.020932  0.018058 -0.043865 -0.047643  0.039793 -0.031772   \n",
       "729   -0.008831  0.032645  0.042656 -0.033262 -0.025595  0.051453 -0.050186   \n",
       "10373  0.038263 -0.004907  0.041104 -0.065374 -0.071906  0.037439 -0.027142   \n",
       "9833   0.047471  -0.01318 -0.011155  0.000402 -0.034889  0.011787 -0.039994   \n",
       "7102   0.064554  0.010909  0.008923  0.022747 -0.069933  0.036591 -0.029753   \n",
       "\n",
       "            dv8       dv9      dv10  ...     dv291     dv292     dv293  \\\n",
       "8206  -0.018827  0.027765   0.02525  ...  0.026153 -0.053574 -0.013827   \n",
       "729   -0.020239  0.005802  0.017739  ... -0.024026  0.008416 -0.022882   \n",
       "10373 -0.037981   0.01991  0.006706  ...  0.024026  0.001166 -0.030163   \n",
       "9833   -0.00261  0.027179  0.056209  ... -0.013421  0.028766  -0.01411   \n",
       "7102  -0.061267 -0.032187  -0.01147  ...  0.031132  0.005802 -0.038758   \n",
       "\n",
       "          dv294     dv295     dv296     dv297     dv298     dv299     dv300  \n",
       "8206  -0.054313 -0.044906 -0.018657  0.047687  0.022093 -0.034811 -0.009411  \n",
       "729   -0.078455  -0.06696  0.008728  0.091284 -0.063337  0.012251 -0.039543  \n",
       "10373  -0.09042 -0.049992  0.034355  0.044013 -0.007574  0.013922 -0.029388  \n",
       "9833  -0.074724 -0.030311  0.008052  0.073031   0.00118  0.001833  0.007476  \n",
       "7102  -0.061091 -0.077828 -0.027089  0.028061 -0.022079 -0.017212 -0.018915  \n",
       "\n",
       "[5 rows x 300 columns]"
      ]
     },
     "execution_count": 15,
     "metadata": {},
     "output_type": "execute_result"
    }
   ],
   "source": [
    "descr_vect.sample(5)"
   ]
  },
  {
   "cell_type": "code",
   "execution_count": 17,
   "id": "7d1d79b8",
   "metadata": {},
   "outputs": [
    {
     "data": {
      "text/plain": [
       "(16840, 300)"
      ]
     },
     "execution_count": 17,
     "metadata": {},
     "output_type": "execute_result"
    }
   ],
   "source": [
    "descr_vect.shape"
   ]
  },
  {
   "cell_type": "markdown",
   "id": "25841ebc",
   "metadata": {},
   "source": [
    "### 3"
   ]
  },
  {
   "cell_type": "markdown",
   "id": "f36ca639-d33d-470b-a422-4acbe107f96b",
   "metadata": {
    "id": "f36ca639-d33d-470b-a422-4acbe107f96b"
   },
   "source": [
    "### Embedding the `titles` column"
   ]
  },
  {
   "cell_type": "code",
   "execution_count": 18,
   "id": "ee853a9d-6553-4a75-9fcd-c0893ae06063",
   "metadata": {
    "id": "ee853a9d-6553-4a75-9fcd-c0893ae06063"
   },
   "outputs": [],
   "source": [
    "title_vect = pd.DataFrame(columns=range(300), index=range(0,n))"
   ]
  },
  {
   "cell_type": "code",
   "execution_count": 19,
   "id": "cc0fceb8-ad70-4983-9f22-ac178de21ced",
   "metadata": {
    "id": "cc0fceb8-ad70-4983-9f22-ac178de21ced"
   },
   "outputs": [],
   "source": [
    "for i in range(0,n):\n",
    "    title_vect.loc[i] = sentence2vec(df['title'][i])"
   ]
  },
  {
   "cell_type": "code",
   "execution_count": 20,
   "id": "1e8aef4d-51ee-4c34-94fb-cebfe11c9f0f",
   "metadata": {
    "id": "1e8aef4d-51ee-4c34-94fb-cebfe11c9f0f"
   },
   "outputs": [],
   "source": [
    "title_column_names = [f'tv{i}' for i in range(1, 301)]"
   ]
  },
  {
   "cell_type": "code",
   "execution_count": 22,
   "id": "e6712e34-dee5-4435-9e89-f8a010963021",
   "metadata": {
    "id": "e6712e34-dee5-4435-9e89-f8a010963021",
    "outputId": "24c49b20-88e0-438c-d628-856874c5cbdf"
   },
   "outputs": [
    {
     "data": {
      "text/html": [
       "<div>\n",
       "<style scoped>\n",
       "    .dataframe tbody tr th:only-of-type {\n",
       "        vertical-align: middle;\n",
       "    }\n",
       "\n",
       "    .dataframe tbody tr th {\n",
       "        vertical-align: top;\n",
       "    }\n",
       "\n",
       "    .dataframe thead th {\n",
       "        text-align: right;\n",
       "    }\n",
       "</style>\n",
       "<table border=\"1\" class=\"dataframe\">\n",
       "  <thead>\n",
       "    <tr style=\"text-align: right;\">\n",
       "      <th></th>\n",
       "      <th>tv1</th>\n",
       "      <th>tv2</th>\n",
       "      <th>tv3</th>\n",
       "      <th>tv4</th>\n",
       "      <th>tv5</th>\n",
       "      <th>tv6</th>\n",
       "      <th>tv7</th>\n",
       "      <th>tv8</th>\n",
       "      <th>tv9</th>\n",
       "      <th>tv10</th>\n",
       "      <th>...</th>\n",
       "      <th>tv291</th>\n",
       "      <th>tv292</th>\n",
       "      <th>tv293</th>\n",
       "      <th>tv294</th>\n",
       "      <th>tv295</th>\n",
       "      <th>tv296</th>\n",
       "      <th>tv297</th>\n",
       "      <th>tv298</th>\n",
       "      <th>tv299</th>\n",
       "      <th>tv300</th>\n",
       "    </tr>\n",
       "  </thead>\n",
       "  <tbody>\n",
       "    <tr>\n",
       "      <th>16835</th>\n",
       "      <td>0.0</td>\n",
       "      <td>0.0</td>\n",
       "      <td>0.0</td>\n",
       "      <td>0.0</td>\n",
       "      <td>0.0</td>\n",
       "      <td>0.0</td>\n",
       "      <td>0.0</td>\n",
       "      <td>0.0</td>\n",
       "      <td>0.0</td>\n",
       "      <td>0.0</td>\n",
       "      <td>...</td>\n",
       "      <td>0.0</td>\n",
       "      <td>0.0</td>\n",
       "      <td>0.0</td>\n",
       "      <td>0.0</td>\n",
       "      <td>0.0</td>\n",
       "      <td>0.0</td>\n",
       "      <td>0.0</td>\n",
       "      <td>0.0</td>\n",
       "      <td>0.0</td>\n",
       "      <td>0.0</td>\n",
       "    </tr>\n",
       "    <tr>\n",
       "      <th>16836</th>\n",
       "      <td>0.070372</td>\n",
       "      <td>-0.026427</td>\n",
       "      <td>0.037351</td>\n",
       "      <td>-0.061837</td>\n",
       "      <td>-0.025578</td>\n",
       "      <td>-0.008567</td>\n",
       "      <td>-0.075019</td>\n",
       "      <td>-0.031244</td>\n",
       "      <td>-0.060465</td>\n",
       "      <td>0.00726</td>\n",
       "      <td>...</td>\n",
       "      <td>-0.096398</td>\n",
       "      <td>-0.033591</td>\n",
       "      <td>-0.01974</td>\n",
       "      <td>-0.099657</td>\n",
       "      <td>-0.035509</td>\n",
       "      <td>0.09315</td>\n",
       "      <td>-0.045835</td>\n",
       "      <td>-0.023357</td>\n",
       "      <td>-0.067016</td>\n",
       "      <td>-0.003426</td>\n",
       "    </tr>\n",
       "    <tr>\n",
       "      <th>16837</th>\n",
       "      <td>0.078078</td>\n",
       "      <td>0.051633</td>\n",
       "      <td>-0.009849</td>\n",
       "      <td>0.023164</td>\n",
       "      <td>0.036062</td>\n",
       "      <td>0.084217</td>\n",
       "      <td>0.018601</td>\n",
       "      <td>-0.071427</td>\n",
       "      <td>0.018901</td>\n",
       "      <td>0.05638</td>\n",
       "      <td>...</td>\n",
       "      <td>-0.014627</td>\n",
       "      <td>-0.067086</td>\n",
       "      <td>-0.108349</td>\n",
       "      <td>-0.176916</td>\n",
       "      <td>0.146331</td>\n",
       "      <td>0.047881</td>\n",
       "      <td>0.019671</td>\n",
       "      <td>0.139235</td>\n",
       "      <td>-0.026572</td>\n",
       "      <td>0.016755</td>\n",
       "    </tr>\n",
       "    <tr>\n",
       "      <th>16838</th>\n",
       "      <td>0.028696</td>\n",
       "      <td>0.116732</td>\n",
       "      <td>-0.019205</td>\n",
       "      <td>0.048051</td>\n",
       "      <td>-0.030186</td>\n",
       "      <td>0.088906</td>\n",
       "      <td>-0.05428</td>\n",
       "      <td>-0.035945</td>\n",
       "      <td>0.069805</td>\n",
       "      <td>0.053608</td>\n",
       "      <td>...</td>\n",
       "      <td>0.086428</td>\n",
       "      <td>-0.001467</td>\n",
       "      <td>0.065887</td>\n",
       "      <td>0.039057</td>\n",
       "      <td>-0.030547</td>\n",
       "      <td>0.118104</td>\n",
       "      <td>-0.027732</td>\n",
       "      <td>-0.053983</td>\n",
       "      <td>-0.065594</td>\n",
       "      <td>-0.021546</td>\n",
       "    </tr>\n",
       "    <tr>\n",
       "      <th>16839</th>\n",
       "      <td>0.0</td>\n",
       "      <td>0.0</td>\n",
       "      <td>0.0</td>\n",
       "      <td>0.0</td>\n",
       "      <td>0.0</td>\n",
       "      <td>0.0</td>\n",
       "      <td>0.0</td>\n",
       "      <td>0.0</td>\n",
       "      <td>0.0</td>\n",
       "      <td>0.0</td>\n",
       "      <td>...</td>\n",
       "      <td>0.0</td>\n",
       "      <td>0.0</td>\n",
       "      <td>0.0</td>\n",
       "      <td>0.0</td>\n",
       "      <td>0.0</td>\n",
       "      <td>0.0</td>\n",
       "      <td>0.0</td>\n",
       "      <td>0.0</td>\n",
       "      <td>0.0</td>\n",
       "      <td>0.0</td>\n",
       "    </tr>\n",
       "  </tbody>\n",
       "</table>\n",
       "<p>5 rows × 300 columns</p>\n",
       "</div>"
      ],
      "text/plain": [
       "            tv1       tv2       tv3       tv4       tv5       tv6       tv7  \\\n",
       "16835       0.0       0.0       0.0       0.0       0.0       0.0       0.0   \n",
       "16836  0.070372 -0.026427  0.037351 -0.061837 -0.025578 -0.008567 -0.075019   \n",
       "16837  0.078078  0.051633 -0.009849  0.023164  0.036062  0.084217  0.018601   \n",
       "16838  0.028696  0.116732 -0.019205  0.048051 -0.030186  0.088906  -0.05428   \n",
       "16839       0.0       0.0       0.0       0.0       0.0       0.0       0.0   \n",
       "\n",
       "            tv8       tv9      tv10  ...     tv291     tv292     tv293  \\\n",
       "16835       0.0       0.0       0.0  ...       0.0       0.0       0.0   \n",
       "16836 -0.031244 -0.060465   0.00726  ... -0.096398 -0.033591  -0.01974   \n",
       "16837 -0.071427  0.018901   0.05638  ... -0.014627 -0.067086 -0.108349   \n",
       "16838 -0.035945  0.069805  0.053608  ...  0.086428 -0.001467  0.065887   \n",
       "16839       0.0       0.0       0.0  ...       0.0       0.0       0.0   \n",
       "\n",
       "          tv294     tv295     tv296     tv297     tv298     tv299     tv300  \n",
       "16835       0.0       0.0       0.0       0.0       0.0       0.0       0.0  \n",
       "16836 -0.099657 -0.035509   0.09315 -0.045835 -0.023357 -0.067016 -0.003426  \n",
       "16837 -0.176916  0.146331  0.047881  0.019671  0.139235 -0.026572  0.016755  \n",
       "16838  0.039057 -0.030547  0.118104 -0.027732 -0.053983 -0.065594 -0.021546  \n",
       "16839       0.0       0.0       0.0       0.0       0.0       0.0       0.0  \n",
       "\n",
       "[5 rows x 300 columns]"
      ]
     },
     "execution_count": 22,
     "metadata": {},
     "output_type": "execute_result"
    }
   ],
   "source": [
    "title_vect.columns = title_column_names\n",
    "title_vect.tail(5)"
   ]
  },
  {
   "cell_type": "markdown",
   "id": "187dfe42-7926-4241-acf4-8b7de96d5139",
   "metadata": {
    "id": "187dfe42-7926-4241-acf4-8b7de96d5139"
   },
   "source": [
    "Interesting to note that the last row and 5th last row seems to be all 0 values for the title. Let's see what these titles are."
   ]
  },
  {
   "cell_type": "code",
   "execution_count": null,
   "id": "47648f46-ce7e-47dd-b6b9-42e25db61810",
   "metadata": {
    "id": "47648f46-ce7e-47dd-b6b9-42e25db61810",
    "outputId": "428589c5-6416-458a-f6c3-cb43efa9cf8c"
   },
   "outputs": [
    {
     "data": {
      "text/html": [
       "<div>\n",
       "<style scoped>\n",
       "    .dataframe tbody tr th:only-of-type {\n",
       "        vertical-align: middle;\n",
       "    }\n",
       "\n",
       "    .dataframe tbody tr th {\n",
       "        vertical-align: top;\n",
       "    }\n",
       "\n",
       "    .dataframe thead th {\n",
       "        text-align: right;\n",
       "    }\n",
       "</style>\n",
       "<table border=\"1\" class=\"dataframe\">\n",
       "  <thead>\n",
       "    <tr style=\"text-align: right;\">\n",
       "      <th></th>\n",
       "      <th>id</th>\n",
       "      <th>title</th>\n",
       "      <th>type</th>\n",
       "      <th>description</th>\n",
       "      <th>release_year</th>\n",
       "      <th>runtime</th>\n",
       "      <th>seasons</th>\n",
       "      <th>imdb_score</th>\n",
       "      <th>imdb_votes</th>\n",
       "      <th>Superstars</th>\n",
       "      <th>...</th>\n",
       "      <th>prod_country_ph</th>\n",
       "      <th>prod_country_pl</th>\n",
       "      <th>prod_country_ru</th>\n",
       "      <th>prod_country_se</th>\n",
       "      <th>prod_country_th</th>\n",
       "      <th>prod_country_tr</th>\n",
       "      <th>prod_country_tw</th>\n",
       "      <th>prod_country_us</th>\n",
       "      <th>prod_country_xx</th>\n",
       "      <th>prod_country_za</th>\n",
       "    </tr>\n",
       "  </thead>\n",
       "  <tbody>\n",
       "    <tr>\n",
       "      <th>16835</th>\n",
       "      <td>tm1049635</td>\n",
       "      <td>Devineni</td>\n",
       "      <td>1</td>\n",
       "      <td>The film explores the life story of the famous...</td>\n",
       "      <td>2021</td>\n",
       "      <td>122</td>\n",
       "      <td>0.0</td>\n",
       "      <td>8.4</td>\n",
       "      <td>1188.0</td>\n",
       "      <td>0</td>\n",
       "      <td>...</td>\n",
       "      <td>0</td>\n",
       "      <td>0</td>\n",
       "      <td>0</td>\n",
       "      <td>0</td>\n",
       "      <td>0</td>\n",
       "      <td>0</td>\n",
       "      <td>0</td>\n",
       "      <td>0</td>\n",
       "      <td>0</td>\n",
       "      <td>0</td>\n",
       "    </tr>\n",
       "    <tr>\n",
       "      <th>16836</th>\n",
       "      <td>tm1078263</td>\n",
       "      <td>Good Boys for Life</td>\n",
       "      <td>1</td>\n",
       "      <td>Toddrick Frank, a hustler, living his life unt...</td>\n",
       "      <td>2021</td>\n",
       "      <td>73</td>\n",
       "      <td>0.0</td>\n",
       "      <td>3.9</td>\n",
       "      <td>50.0</td>\n",
       "      <td>0</td>\n",
       "      <td>...</td>\n",
       "      <td>0</td>\n",
       "      <td>0</td>\n",
       "      <td>0</td>\n",
       "      <td>0</td>\n",
       "      <td>0</td>\n",
       "      <td>0</td>\n",
       "      <td>0</td>\n",
       "      <td>1</td>\n",
       "      <td>0</td>\n",
       "      <td>0</td>\n",
       "    </tr>\n",
       "    <tr>\n",
       "      <th>16837</th>\n",
       "      <td>tm822572</td>\n",
       "      <td>Gun and a Hotel Bible</td>\n",
       "      <td>1</td>\n",
       "      <td>Based on the original play, Gun and a Hotel Bi...</td>\n",
       "      <td>2021</td>\n",
       "      <td>58</td>\n",
       "      <td>0.0</td>\n",
       "      <td>4.0</td>\n",
       "      <td>142.0</td>\n",
       "      <td>0</td>\n",
       "      <td>...</td>\n",
       "      <td>0</td>\n",
       "      <td>0</td>\n",
       "      <td>0</td>\n",
       "      <td>0</td>\n",
       "      <td>0</td>\n",
       "      <td>0</td>\n",
       "      <td>0</td>\n",
       "      <td>0</td>\n",
       "      <td>0</td>\n",
       "      <td>0</td>\n",
       "    </tr>\n",
       "    <tr>\n",
       "      <th>16838</th>\n",
       "      <td>tm510327</td>\n",
       "      <td>Lily Is Here</td>\n",
       "      <td>1</td>\n",
       "      <td>Dallas and heroin have one thing in common: Du...</td>\n",
       "      <td>2021</td>\n",
       "      <td>93</td>\n",
       "      <td>0.0</td>\n",
       "      <td>5.3</td>\n",
       "      <td>20.0</td>\n",
       "      <td>0</td>\n",
       "      <td>...</td>\n",
       "      <td>0</td>\n",
       "      <td>0</td>\n",
       "      <td>0</td>\n",
       "      <td>0</td>\n",
       "      <td>0</td>\n",
       "      <td>0</td>\n",
       "      <td>0</td>\n",
       "      <td>1</td>\n",
       "      <td>0</td>\n",
       "      <td>0</td>\n",
       "    </tr>\n",
       "    <tr>\n",
       "      <th>16839</th>\n",
       "      <td>tm1054116</td>\n",
       "      <td>Baikunth</td>\n",
       "      <td>1</td>\n",
       "      <td>This story is about prevalent caste problem, e...</td>\n",
       "      <td>2021</td>\n",
       "      <td>72</td>\n",
       "      <td>0.0</td>\n",
       "      <td>8.4</td>\n",
       "      <td>49.0</td>\n",
       "      <td>0</td>\n",
       "      <td>...</td>\n",
       "      <td>0</td>\n",
       "      <td>0</td>\n",
       "      <td>0</td>\n",
       "      <td>0</td>\n",
       "      <td>0</td>\n",
       "      <td>0</td>\n",
       "      <td>0</td>\n",
       "      <td>0</td>\n",
       "      <td>0</td>\n",
       "      <td>0</td>\n",
       "    </tr>\n",
       "  </tbody>\n",
       "</table>\n",
       "<p>5 rows × 75 columns</p>\n",
       "</div>"
      ],
      "text/plain": [
       "              id                  title  type  \\\n",
       "16835  tm1049635               Devineni     1   \n",
       "16836  tm1078263     Good Boys for Life     1   \n",
       "16837   tm822572  Gun and a Hotel Bible     1   \n",
       "16838   tm510327           Lily Is Here     1   \n",
       "16839  tm1054116               Baikunth     1   \n",
       "\n",
       "                                             description  release_year  \\\n",
       "16835  The film explores the life story of the famous...          2021   \n",
       "16836  Toddrick Frank, a hustler, living his life unt...          2021   \n",
       "16837  Based on the original play, Gun and a Hotel Bi...          2021   \n",
       "16838  Dallas and heroin have one thing in common: Du...          2021   \n",
       "16839  This story is about prevalent caste problem, e...          2021   \n",
       "\n",
       "       runtime  seasons  imdb_score  imdb_votes  Superstars  ...  \\\n",
       "16835      122      0.0         8.4      1188.0           0  ...   \n",
       "16836       73      0.0         3.9        50.0           0  ...   \n",
       "16837       58      0.0         4.0       142.0           0  ...   \n",
       "16838       93      0.0         5.3        20.0           0  ...   \n",
       "16839       72      0.0         8.4        49.0           0  ...   \n",
       "\n",
       "       prod_country_ph  prod_country_pl  prod_country_ru  prod_country_se  \\\n",
       "16835                0                0                0                0   \n",
       "16836                0                0                0                0   \n",
       "16837                0                0                0                0   \n",
       "16838                0                0                0                0   \n",
       "16839                0                0                0                0   \n",
       "\n",
       "       prod_country_th  prod_country_tr  prod_country_tw  prod_country_us  \\\n",
       "16835                0                0                0                0   \n",
       "16836                0                0                0                1   \n",
       "16837                0                0                0                0   \n",
       "16838                0                0                0                1   \n",
       "16839                0                0                0                0   \n",
       "\n",
       "       prod_country_xx  prod_country_za  \n",
       "16835                0                0  \n",
       "16836                0                0  \n",
       "16837                0                0  \n",
       "16838                0                0  \n",
       "16839                0                0  \n",
       "\n",
       "[5 rows x 75 columns]"
      ]
     },
     "execution_count": 19,
     "metadata": {},
     "output_type": "execute_result"
    }
   ],
   "source": [
    "df.tail()"
   ]
  },
  {
   "cell_type": "markdown",
   "id": "aa245a8e-bde7-44e9-a1d3-4365f052631a",
   "metadata": {
    "id": "aa245a8e-bde7-44e9-a1d3-4365f052631a"
   },
   "source": [
    "It's both non-English words and likely proper nouns, which is why they've been vectorized as 0s."
   ]
  },
  {
   "cell_type": "code",
   "execution_count": 23,
   "id": "b00e3464-3251-4fbb-980b-04f0d39cdf26",
   "metadata": {
    "id": "b00e3464-3251-4fbb-980b-04f0d39cdf26"
   },
   "outputs": [],
   "source": [
    "df_processed = pd.concat([df, title_vect, descr_vect], axis=1)"
   ]
  },
  {
   "cell_type": "code",
   "execution_count": 24,
   "id": "9cbd4c02-bea7-40a0-84bc-7c8f05499b0a",
   "metadata": {
    "id": "9cbd4c02-bea7-40a0-84bc-7c8f05499b0a",
    "outputId": "bc24df7b-cc84-448e-8e55-f2c65b72b37c"
   },
   "outputs": [
    {
     "data": {
      "text/html": [
       "<div>\n",
       "<style scoped>\n",
       "    .dataframe tbody tr th:only-of-type {\n",
       "        vertical-align: middle;\n",
       "    }\n",
       "\n",
       "    .dataframe tbody tr th {\n",
       "        vertical-align: top;\n",
       "    }\n",
       "\n",
       "    .dataframe thead th {\n",
       "        text-align: right;\n",
       "    }\n",
       "</style>\n",
       "<table border=\"1\" class=\"dataframe\">\n",
       "  <thead>\n",
       "    <tr style=\"text-align: right;\">\n",
       "      <th></th>\n",
       "      <th>id</th>\n",
       "      <th>title</th>\n",
       "      <th>type</th>\n",
       "      <th>description</th>\n",
       "      <th>release_year</th>\n",
       "      <th>runtime</th>\n",
       "      <th>seasons</th>\n",
       "      <th>imdb_score</th>\n",
       "      <th>imdb_votes</th>\n",
       "      <th>Superstars</th>\n",
       "      <th>...</th>\n",
       "      <th>dv291</th>\n",
       "      <th>dv292</th>\n",
       "      <th>dv293</th>\n",
       "      <th>dv294</th>\n",
       "      <th>dv295</th>\n",
       "      <th>dv296</th>\n",
       "      <th>dv297</th>\n",
       "      <th>dv298</th>\n",
       "      <th>dv299</th>\n",
       "      <th>dv300</th>\n",
       "    </tr>\n",
       "  </thead>\n",
       "  <tbody>\n",
       "    <tr>\n",
       "      <th>0</th>\n",
       "      <td>tm84618</td>\n",
       "      <td>Taxi Driver</td>\n",
       "      <td>1</td>\n",
       "      <td>A mentally unstable Vietnam War veteran works ...</td>\n",
       "      <td>1976</td>\n",
       "      <td>114</td>\n",
       "      <td>0.0</td>\n",
       "      <td>8.2</td>\n",
       "      <td>808582.0</td>\n",
       "      <td>1</td>\n",
       "      <td>...</td>\n",
       "      <td>0.011573</td>\n",
       "      <td>-0.055208</td>\n",
       "      <td>-0.073815</td>\n",
       "      <td>-0.10786</td>\n",
       "      <td>-0.043222</td>\n",
       "      <td>-0.020815</td>\n",
       "      <td>0.115895</td>\n",
       "      <td>0.011991</td>\n",
       "      <td>-0.015812</td>\n",
       "      <td>-0.040378</td>\n",
       "    </tr>\n",
       "    <tr>\n",
       "      <th>1</th>\n",
       "      <td>tm154986</td>\n",
       "      <td>Deliverance</td>\n",
       "      <td>1</td>\n",
       "      <td>Intent on seeing the Cahulawassee River before...</td>\n",
       "      <td>1972</td>\n",
       "      <td>109</td>\n",
       "      <td>0.0</td>\n",
       "      <td>7.7</td>\n",
       "      <td>107673.0</td>\n",
       "      <td>0</td>\n",
       "      <td>...</td>\n",
       "      <td>0.037781</td>\n",
       "      <td>0.001623</td>\n",
       "      <td>-0.040268</td>\n",
       "      <td>-0.078757</td>\n",
       "      <td>-0.034428</td>\n",
       "      <td>0.045272</td>\n",
       "      <td>0.043991</td>\n",
       "      <td>-0.035426</td>\n",
       "      <td>-0.006188</td>\n",
       "      <td>-0.039797</td>\n",
       "    </tr>\n",
       "  </tbody>\n",
       "</table>\n",
       "<p>2 rows × 675 columns</p>\n",
       "</div>"
      ],
      "text/plain": [
       "         id        title  type  \\\n",
       "0   tm84618  Taxi Driver     1   \n",
       "1  tm154986  Deliverance     1   \n",
       "\n",
       "                                         description  release_year  runtime  \\\n",
       "0  A mentally unstable Vietnam War veteran works ...          1976      114   \n",
       "1  Intent on seeing the Cahulawassee River before...          1972      109   \n",
       "\n",
       "   seasons  imdb_score  imdb_votes  Superstars  ...     dv291     dv292  \\\n",
       "0      0.0         8.2    808582.0           1  ...  0.011573 -0.055208   \n",
       "1      0.0         7.7    107673.0           0  ...  0.037781  0.001623   \n",
       "\n",
       "      dv293     dv294     dv295     dv296     dv297     dv298     dv299  \\\n",
       "0 -0.073815  -0.10786 -0.043222 -0.020815  0.115895  0.011991 -0.015812   \n",
       "1 -0.040268 -0.078757 -0.034428  0.045272  0.043991 -0.035426 -0.006188   \n",
       "\n",
       "      dv300  \n",
       "0 -0.040378  \n",
       "1 -0.039797  \n",
       "\n",
       "[2 rows x 675 columns]"
      ]
     },
     "execution_count": 24,
     "metadata": {},
     "output_type": "execute_result"
    }
   ],
   "source": [
    "df_processed.head(2)"
   ]
  },
  {
   "cell_type": "code",
   "execution_count": 25,
   "id": "f2de051b-9f85-4445-84c2-bda2acc425d8",
   "metadata": {
    "id": "f2de051b-9f85-4445-84c2-bda2acc425d8"
   },
   "outputs": [],
   "source": [
    "df_final = df_processed.drop(columns= ['id','title','description'])"
   ]
  },
  {
   "cell_type": "code",
   "execution_count": 26,
   "id": "8babc4ae-8f03-4abf-9253-3b1387c2b879",
   "metadata": {
    "id": "8babc4ae-8f03-4abf-9253-3b1387c2b879",
    "outputId": "c2a3f71f-a94d-4fa3-cd2c-24ab03aa8704"
   },
   "outputs": [
    {
     "name": "stdout",
     "output_type": "stream",
     "text": [
      "<class 'pandas.core.frame.DataFrame'>\n",
      "RangeIndex: 16840 entries, 0 to 16839\n",
      "Columns: 672 entries, type to dv300\n",
      "dtypes: float64(3), int64(69), object(600)\n",
      "memory usage: 86.3+ MB\n"
     ]
    }
   ],
   "source": [
    "df_final.info()"
   ]
  },
  {
   "cell_type": "markdown",
   "id": "d0d49886",
   "metadata": {},
   "source": [
    "### 4"
   ]
  },
  {
   "cell_type": "markdown",
   "id": "8f287c2b-1b24-4e54-b2ae-192f1c079675",
   "metadata": {
    "id": "8f287c2b-1b24-4e54-b2ae-192f1c079675"
   },
   "source": [
    "### Modeling IMDB Votes using Scikit Learn"
   ]
  },
  {
   "cell_type": "markdown",
   "id": "7d8bfe3e-328d-427c-a60a-919fad2a5fdb",
   "metadata": {
    "id": "7d8bfe3e-328d-427c-a60a-919fad2a5fdb"
   },
   "source": [
    "For this we're going to start with a Neural Network model using scikit learn"
   ]
  },
  {
   "cell_type": "code",
   "execution_count": 27,
   "id": "045526f4-9520-4640-8205-848c0b838764",
   "metadata": {
    "id": "045526f4-9520-4640-8205-848c0b838764"
   },
   "outputs": [],
   "source": [
    "#Taking the log of our target variable similar to what we did in Notebook 3\n",
    "df_log = df_final.copy()"
   ]
  },
  {
   "cell_type": "code",
   "execution_count": 29,
   "id": "5a207e99-7b01-4666-942f-8b47c18a4ccd",
   "metadata": {
    "id": "5a207e99-7b01-4666-942f-8b47c18a4ccd"
   },
   "outputs": [],
   "source": [
    "df_log['imdb_votes'] = np.log(df_final['imdb_votes'])"
   ]
  },
  {
   "cell_type": "code",
   "execution_count": null,
   "id": "835b71d7-13b8-4bc6-be26-880a4b02a978",
   "metadata": {
    "id": "835b71d7-13b8-4bc6-be26-880a4b02a978"
   },
   "outputs": [],
   "source": [
    "#Saving the dataframe in case we just need to load it in to run the model\n",
    "\n",
    "df_log.to_csv('data/output_of_word_embeddings.csv',index=False)"
   ]
  },
  {
   "cell_type": "code",
   "execution_count": null,
   "id": "AG9WMS0BUgKl",
   "metadata": {
    "id": "AG9WMS0BUgKl"
   },
   "outputs": [],
   "source": [
    "df_log = pd.read_csv('output_of_word_embeddings.csv')"
   ]
  },
  {
   "cell_type": "code",
   "execution_count": 30,
   "id": "a1da17dd-c477-41a9-b1eb-fdc968b2a3eb",
   "metadata": {
    "colab": {
     "base_uri": "https://localhost:8080/",
     "height": 311
    },
    "id": "a1da17dd-c477-41a9-b1eb-fdc968b2a3eb",
    "outputId": "1b67ae73-2467-4dc3-904c-fa7ff55ab5c8"
   },
   "outputs": [
    {
     "data": {
      "image/png": "[encoded data removed]",
      "text/plain": [
       "<Figure size 1000x300 with 1 Axes>"
      ]
     },
     "metadata": {},
     "output_type": "display_data"
    }
   ],
   "source": [
    "plt.figure(figsize=(10,3))\n",
    "ax = sns.histplot(data=df_log, x='imdb_votes')\n",
    "plt.title('Histogram of IMDB votes')\n",
    "plt.show()"
   ]
  },
  {
   "cell_type": "code",
   "execution_count": null,
   "id": "0d8f6324-dd69-4aaa-95f3-8f0fff3d7b2a",
   "metadata": {
    "id": "0d8f6324-dd69-4aaa-95f3-8f0fff3d7b2a"
   },
   "outputs": [],
   "source": [
    "X = df_log.drop(columns = ['imdb_score','imdb_votes'])\n",
    "y = df_log['imdb_votes']"
   ]
  },
  {
   "cell_type": "code",
   "execution_count": null,
   "id": "a0a904b9-f754-4d83-b0ff-7ab9408dc628",
   "metadata": {
    "colab": {
     "base_uri": "https://localhost:8080/",
     "height": 205
    },
    "id": "a0a904b9-f754-4d83-b0ff-7ab9408dc628",
    "outputId": "dec9d082-a76a-41cf-cc65-bce192d9399d"
   },
   "outputs": [
    {
     "data": {
      "text/html": [
       "\n",
       "  <div id=\"df-1e668ca5-9a9c-449f-8a43-fa614070cf36\">\n",
       "    <div class=\"colab-df-container\">\n",
       "      <div>\n",
       "<style scoped>\n",
       "    .dataframe tbody tr th:only-of-type {\n",
       "        vertical-align: middle;\n",
       "    }\n",
       "\n",
       "    .dataframe tbody tr th {\n",
       "        vertical-align: top;\n",
       "    }\n",
       "\n",
       "    .dataframe thead th {\n",
       "        text-align: right;\n",
       "    }\n",
       "</style>\n",
       "<table border=\"1\" class=\"dataframe\">\n",
       "  <thead>\n",
       "    <tr style=\"text-align: right;\">\n",
       "      <th></th>\n",
       "      <th>type</th>\n",
       "      <th>release_year</th>\n",
       "      <th>runtime</th>\n",
       "      <th>seasons</th>\n",
       "      <th>Superstars</th>\n",
       "      <th>Allstars</th>\n",
       "      <th>Supporting</th>\n",
       "      <th>Other</th>\n",
       "      <th>oscar_acting</th>\n",
       "      <th>oscar_directing</th>\n",
       "      <th>...</th>\n",
       "      <th>dv291</th>\n",
       "      <th>dv292</th>\n",
       "      <th>dv293</th>\n",
       "      <th>dv294</th>\n",
       "      <th>dv295</th>\n",
       "      <th>dv296</th>\n",
       "      <th>dv297</th>\n",
       "      <th>dv298</th>\n",
       "      <th>dv299</th>\n",
       "      <th>dv300</th>\n",
       "    </tr>\n",
       "  </thead>\n",
       "  <tbody>\n",
       "    <tr>\n",
       "      <th>0</th>\n",
       "      <td>1</td>\n",
       "      <td>1976</td>\n",
       "      <td>114</td>\n",
       "      <td>0.0</td>\n",
       "      <td>1</td>\n",
       "      <td>0</td>\n",
       "      <td>1</td>\n",
       "      <td>35</td>\n",
       "      <td>2</td>\n",
       "      <td>1</td>\n",
       "      <td>...</td>\n",
       "      <td>0.011573</td>\n",
       "      <td>-0.055208</td>\n",
       "      <td>-0.073815</td>\n",
       "      <td>-0.107860</td>\n",
       "      <td>-0.043222</td>\n",
       "      <td>-0.020815</td>\n",
       "      <td>0.115895</td>\n",
       "      <td>0.011991</td>\n",
       "      <td>-0.015812</td>\n",
       "      <td>-0.040378</td>\n",
       "    </tr>\n",
       "    <tr>\n",
       "      <th>1</th>\n",
       "      <td>1</td>\n",
       "      <td>1972</td>\n",
       "      <td>109</td>\n",
       "      <td>0.0</td>\n",
       "      <td>0</td>\n",
       "      <td>0</td>\n",
       "      <td>2</td>\n",
       "      <td>21</td>\n",
       "      <td>1</td>\n",
       "      <td>0</td>\n",
       "      <td>...</td>\n",
       "      <td>0.037781</td>\n",
       "      <td>0.001623</td>\n",
       "      <td>-0.040268</td>\n",
       "      <td>-0.078757</td>\n",
       "      <td>-0.034428</td>\n",
       "      <td>0.045272</td>\n",
       "      <td>0.043991</td>\n",
       "      <td>-0.035426</td>\n",
       "      <td>-0.006188</td>\n",
       "      <td>-0.039797</td>\n",
       "    </tr>\n",
       "  </tbody>\n",
       "</table>\n",
       "<p>2 rows × 670 columns</p>\n",
       "</div>\n",
       "      <button class=\"colab-df-convert\" onclick=\"convertToInteractive('df-1e668ca5-9a9c-449f-8a43-fa614070cf36')\"\n",
       "              title=\"Convert this dataframe to an interactive table.\"\n",
       "              style=\"display:none;\">\n",
       "        \n",
       "  <svg xmlns=\"http://www.w3.org/2000/svg\" height=\"24px\"viewBox=\"0 0 24 24\"\n",
       "       width=\"24px\">\n",
       "    <path d=\"M0 0h24v24H0V0z\" fill=\"none\"/>\n",
       "    <path d=\"M18.56 5.44l.94 2.06.94-2.06 2.06-.94-2.06-.94-.94-2.06-.94 2.06-2.06.94zm-11 1L8.5 8.5l.94-2.06 2.06-.94-2.06-.94L8.5 2.5l-.94 2.06-2.06.94zm10 10l.94 2.06.94-2.06 2.06-.94-2.06-.94-.94-2.06-.94 2.06-2.06.94z\"/><path d=\"M17.41 7.96l-1.37-1.37c-.4-.4-.92-.59-1.43-.59-.52 0-1.04.2-1.43.59L10.3 9.45l-7.72 7.72c-.78.78-.78 2.05 0 2.83L4 21.41c.39.39.9.59 1.41.59.51 0 1.02-.2 1.41-.59l7.78-7.78 2.81-2.81c.8-.78.8-2.07 0-2.86zM5.41 20L4 18.59l7.72-7.72 1.47 1.35L5.41 20z\"/>\n",
       "  </svg>\n",
       "      </button>\n",
       "      \n",
       "  <style>\n",
       "    .colab-df-container {\n",
       "      display:flex;\n",
       "      flex-wrap:wrap;\n",
       "      gap: 12px;\n",
       "    }\n",
       "\n",
       "    .colab-df-convert {\n",
       "      background-color: #E8F0FE;\n",
       "      border: none;\n",
       "      border-radius: 50%;\n",
       "      cursor: pointer;\n",
       "      display: none;\n",
       "      fill: #1967D2;\n",
       "      height: 32px;\n",
       "      padding: 0 0 0 0;\n",
       "      width: 32px;\n",
       "    }\n",
       "\n",
       "    .colab-df-convert:hover {\n",
       "      background-color: #E2EBFA;\n",
       "      box-shadow: 0px 1px 2px rgba(60, 64, 67, 0.3), 0px 1px 3px 1px rgba(60, 64, 67, 0.15);\n",
       "      fill: #174EA6;\n",
       "    }\n",
       "\n",
       "    [theme=dark] .colab-df-convert {\n",
       "      background-color: #3B4455;\n",
       "      fill: #D2E3FC;\n",
       "    }\n",
       "\n",
       "    [theme=dark] .colab-df-convert:hover {\n",
       "      background-color: #434B5C;\n",
       "      box-shadow: 0px 1px 3px 1px rgba(0, 0, 0, 0.15);\n",
       "      filter: drop-shadow(0px 1px 2px rgba(0, 0, 0, 0.3));\n",
       "      fill: #FFFFFF;\n",
       "    }\n",
       "  </style>\n",
       "\n",
       "      <script>\n",
       "        const buttonEl =\n",
       "          document.querySelector('#df-1e668ca5-9a9c-449f-8a43-fa614070cf36 button.colab-df-convert');\n",
       "        buttonEl.style.display =\n",
       "          google.colab.kernel.accessAllowed ? 'block' : 'none';\n",
       "\n",
       "        async function convertToInteractive(key) {\n",
       "          const element = document.querySelector('#df-1e668ca5-9a9c-449f-8a43-fa614070cf36');\n",
       "          const dataTable =\n",
       "            await google.colab.kernel.invokeFunction('convertToInteractive',\n",
       "                                                     [key], {});\n",
       "          if (!dataTable) return;\n",
       "\n",
       "          const docLinkHtml = 'Like what you see? Visit the ' +\n",
       "            '<a target=\"_blank\" href=https://colab.research.google.com/notebooks/data_table.ipynb>data table notebook</a>'\n",
       "            + ' to learn more about interactive tables.';\n",
       "          element.innerHTML = '';\n",
       "          dataTable['output_type'] = 'display_data';\n",
       "          await google.colab.output.renderOutput(dataTable, element);\n",
       "          const docLink = document.createElement('div');\n",
       "          docLink.innerHTML = docLinkHtml;\n",
       "          element.appendChild(docLink);\n",
       "        }\n",
       "      </script>\n",
       "    </div>\n",
       "  </div>\n",
       "  "
      ],
      "text/plain": [
       "   type  release_year  runtime  seasons  Superstars  Allstars  Supporting  \\\n",
       "0     1          1976      114      0.0           1         0           1   \n",
       "1     1          1972      109      0.0           0         0           2   \n",
       "\n",
       "   Other  oscar_acting  oscar_directing  ...     dv291     dv292     dv293  \\\n",
       "0     35             2                1  ...  0.011573 -0.055208 -0.073815   \n",
       "1     21             1                0  ...  0.037781  0.001623 -0.040268   \n",
       "\n",
       "      dv294     dv295     dv296     dv297     dv298     dv299     dv300  \n",
       "0 -0.107860 -0.043222 -0.020815  0.115895  0.011991 -0.015812 -0.040378  \n",
       "1 -0.078757 -0.034428  0.045272  0.043991 -0.035426 -0.006188 -0.039797  \n",
       "\n",
       "[2 rows x 670 columns]"
      ]
     },
     "execution_count": 24,
     "metadata": {},
     "output_type": "execute_result"
    }
   ],
   "source": [
    "X.head(2)"
   ]
  },
  {
   "cell_type": "code",
   "execution_count": null,
   "id": "e204df9a-542e-493c-8802-b89e3d44b6e0",
   "metadata": {
    "colab": {
     "base_uri": "https://localhost:8080/"
    },
    "id": "e204df9a-542e-493c-8802-b89e3d44b6e0",
    "outputId": "16f01ffc-bb70-4989-c5d6-d00b6b9199f9"
   },
   "outputs": [
    {
     "data": {
      "text/plain": [
       "0    13.603037\n",
       "1    11.586854\n",
       "Name: imdb_votes, dtype: float64"
      ]
     },
     "execution_count": 26,
     "metadata": {},
     "output_type": "execute_result"
    }
   ],
   "source": [
    "y.head(2)"
   ]
  },
  {
   "cell_type": "code",
   "execution_count": null,
   "id": "690de58a-29d9-4b04-b67c-4d0b63411d11",
   "metadata": {
    "colab": {
     "base_uri": "https://localhost:8080/"
    },
    "id": "690de58a-29d9-4b04-b67c-4d0b63411d11",
    "outputId": "13ff7ed8-5aaf-4a95-83c8-a1e71d5eb27b"
   },
   "outputs": [
    {
     "data": {
      "text/plain": [
       "(16840, 670)"
      ]
     },
     "execution_count": 25,
     "metadata": {},
     "output_type": "execute_result"
    }
   ],
   "source": [
    "X.shape"
   ]
  },
  {
   "cell_type": "code",
   "execution_count": null,
   "id": "254ba86d-8add-4124-8750-f1800f77723e",
   "metadata": {
    "colab": {
     "base_uri": "https://localhost:8080/"
    },
    "id": "254ba86d-8add-4124-8750-f1800f77723e",
    "outputId": "e1cfae00-b4ef-4e26-f0cf-0c67fb9f5fce"
   },
   "outputs": [
    {
     "data": {
      "text/plain": [
       "(16840,)"
      ]
     },
     "execution_count": 27,
     "metadata": {},
     "output_type": "execute_result"
    }
   ],
   "source": [
    "y.shape"
   ]
  },
  {
   "cell_type": "code",
   "execution_count": null,
   "id": "c31ff8c3-c8e4-4af3-8020-31e03a2d5f71",
   "metadata": {
    "id": "c31ff8c3-c8e4-4af3-8020-31e03a2d5f71"
   },
   "outputs": [],
   "source": [
    "#Not using stratify=y as giving an error, plus this is a regression problem\n",
    "#not a classification one\n",
    "\n",
    "X_rem, X_test, y_rem, y_test = \\\n",
    "train_test_split(X, y, \\\n",
    "                 test_size=0.2, random_state=23)\n",
    "\n",
    "X_train, X_val, y_train, y_val = \\\n",
    "train_test_split(X_rem, y_rem, \\\n",
    "                 test_size=0.2, random_state=23)"
   ]
  },
  {
   "cell_type": "markdown",
   "id": "10bce4df-6e4c-48db-9ca9-4e0c830e81dd",
   "metadata": {
    "id": "10bce4df-6e4c-48db-9ca9-4e0c830e81dd"
   },
   "source": [
    "Further splitting into train and validation, if required."
   ]
  },
  {
   "cell_type": "code",
   "execution_count": null,
   "id": "f3b61a99-7126-441a-bb92-1458d5fed9c9",
   "metadata": {
    "id": "f3b61a99-7126-441a-bb92-1458d5fed9c9"
   },
   "outputs": [],
   "source": [
    "X_train, X_val, y_train, y_val = \\\n",
    "train_test_split(X_rem, y_rem, \\\n",
    "                 test_size=0.2, random_state=23)"
   ]
  },
  {
   "cell_type": "code",
   "execution_count": null,
   "id": "c67a1af8-2b6e-47c9-82b2-209af7e63d70",
   "metadata": {
    "colab": {
     "base_uri": "https://localhost:8080/"
    },
    "id": "c67a1af8-2b6e-47c9-82b2-209af7e63d70",
    "outputId": "3f9832cd-08f0-441e-f633-70d6312ab553"
   },
   "outputs": [
    {
     "name": "stdout",
     "output_type": "stream",
     "text": [
      "(10777, 670),(10777,),(2695, 670),(2695,)\n"
     ]
    }
   ],
   "source": [
    "print(f'{X_train.shape},{y_train.shape},{X_val.shape},{y_val.shape}')"
   ]
  },
  {
   "cell_type": "markdown",
   "id": "7680ce94-6b4b-452e-9c8f-26caee2cd9df",
   "metadata": {
    "id": "7680ce94-6b4b-452e-9c8f-26caee2cd9df"
   },
   "source": [
    "We know neural networks benefit significantly from scaling, so doing that prior to modeling."
   ]
  },
  {
   "cell_type": "code",
   "execution_count": null,
   "id": "9eebe13a-13a2-43dc-b955-52d08f65d09d",
   "metadata": {
    "id": "9eebe13a-13a2-43dc-b955-52d08f65d09d"
   },
   "outputs": [],
   "source": [
    "scaler = StandardScaler().fit(X_train)\n",
    "\n",
    "X_train_ss = scaler.transform(X_train)\n",
    "X_val_ss = scaler.transform(X_val)"
   ]
  },
  {
   "cell_type": "code",
   "execution_count": null,
   "id": "4a8240ac-94ea-4410-ba83-85d8b701645a",
   "metadata": {
    "colab": {
     "base_uri": "https://localhost:8080/"
    },
    "id": "4a8240ac-94ea-4410-ba83-85d8b701645a",
    "outputId": "c80a1d43-7a89-47a1-d8a5-63679ae52410"
   },
   "outputs": [
    {
     "name": "stdout",
     "output_type": "stream",
     "text": [
      "(10777, 670),(2695, 670)\n"
     ]
    }
   ],
   "source": [
    "print(f'{X_train_ss.shape},{X_val_ss.shape}')"
   ]
  },
  {
   "cell_type": "markdown",
   "id": "6b075b19-0a61-4346-99c0-ee9629fbfbdd",
   "metadata": {
    "id": "6b075b19-0a61-4346-99c0-ee9629fbfbdd"
   },
   "source": [
    "First using the standard neural network model within Scikit-Learn."
   ]
  },
  {
   "cell_type": "code",
   "execution_count": null,
   "id": "3638f00e-a1ab-4c74-9d4e-e9bb5b29dfec",
   "metadata": {
    "id": "3638f00e-a1ab-4c74-9d4e-e9bb5b29dfec"
   },
   "outputs": [],
   "source": [
    "from sklearn.neural_network import MLPRegressor\n",
    "from sklearn.metrics import mean_squared_error, r2_score"
   ]
  },
  {
   "cell_type": "code",
   "execution_count": null,
   "id": "61e2ab04-f4a6-4a9d-a032-3fc5d44a62a3",
   "metadata": {
    "id": "61e2ab04-f4a6-4a9d-a032-3fc5d44a62a3"
   },
   "outputs": [],
   "source": [
    "mlp = MLPRegressor(hidden_layer_sizes=(50, 30), \\\n",
    "                   activation='relu', solver='adam', random_state=42, verbose=1)"
   ]
  },
  {
   "cell_type": "code",
   "execution_count": null,
   "id": "220311ab-17fa-4363-9161-18a6c2a46786",
   "metadata": {
    "id": "220311ab-17fa-4363-9161-18a6c2a46786",
    "outputId": "8fcd2585-62c7-4c3a-ac22-6b66d031427e"
   },
   "outputs": [
    {
     "name": "stdout",
     "output_type": "stream",
     "text": [
      "Iteration 1, loss = 12.82226862\n",
      "Iteration 2, loss = 2.77893002\n",
      "Iteration 3, loss = 2.02043026\n",
      "Iteration 4, loss = 1.68729808\n",
      "Iteration 5, loss = 1.45499937\n",
      "Iteration 6, loss = 1.27807453\n",
      "Iteration 7, loss = 1.13606637\n",
      "Iteration 8, loss = 1.01904744\n",
      "Iteration 9, loss = 0.91869382\n",
      "Iteration 10, loss = 0.83141876\n",
      "Iteration 11, loss = 0.74669971\n",
      "Iteration 12, loss = 0.67478756\n",
      "Iteration 13, loss = 0.60752573\n",
      "Iteration 14, loss = 0.55356578\n",
      "Iteration 15, loss = 0.49949734\n",
      "Iteration 16, loss = 0.45060647\n",
      "Iteration 17, loss = 0.40512464\n",
      "Iteration 18, loss = 0.37030445\n",
      "Iteration 19, loss = 0.33212588\n",
      "Iteration 20, loss = 0.30105917\n",
      "Iteration 21, loss = 0.27238001\n",
      "Iteration 22, loss = 0.24518508\n",
      "Iteration 23, loss = 0.22324134\n",
      "Iteration 24, loss = 0.19979515\n",
      "Iteration 25, loss = 0.18172604\n",
      "Iteration 26, loss = 0.16656036\n",
      "Iteration 27, loss = 0.14874670\n",
      "Iteration 28, loss = 0.13743864\n",
      "Iteration 29, loss = 0.12236818\n",
      "Iteration 30, loss = 0.11226199\n",
      "Iteration 31, loss = 0.10299987\n",
      "Iteration 32, loss = 0.09393130\n",
      "Iteration 33, loss = 0.08337129\n",
      "Iteration 34, loss = 0.07678246\n",
      "Iteration 35, loss = 0.07139838\n",
      "Iteration 36, loss = 0.06671444\n",
      "Iteration 37, loss = 0.06110196\n",
      "Iteration 38, loss = 0.05682233\n",
      "Iteration 39, loss = 0.05337937\n",
      "Iteration 40, loss = 0.05098335\n",
      "Iteration 41, loss = 0.04583884\n",
      "Iteration 42, loss = 0.04335269\n",
      "Iteration 43, loss = 0.04217941\n",
      "Iteration 44, loss = 0.04110376\n",
      "Iteration 45, loss = 0.03855245\n",
      "Iteration 46, loss = 0.03610306\n",
      "Iteration 47, loss = 0.03574964\n",
      "Iteration 48, loss = 0.03670231\n",
      "Iteration 49, loss = 0.03754354\n",
      "Iteration 50, loss = 0.04094751\n",
      "Iteration 51, loss = 0.04649124\n",
      "Iteration 52, loss = 0.04628871\n",
      "Iteration 53, loss = 0.04540809\n",
      "Iteration 54, loss = 0.05377800\n",
      "Iteration 55, loss = 0.05524338\n",
      "Iteration 56, loss = 0.04852598\n",
      "Iteration 57, loss = 0.04055462\n",
      "Iteration 58, loss = 0.04139039\n",
      "Training loss did not improve more than tol=0.000100 for 10 consecutive epochs. Stopping.\n"
     ]
    },
    {
     "data": {
      "text/html": [
       "<style>#sk-container-id-2 {color: black;background-color: white;}#sk-container-id-2 pre{padding: 0;}#sk-container-id-2 div.sk-toggleable {background-color: white;}#sk-container-id-2 label.sk-toggleable__label {cursor: pointer;display: block;width: 100%;margin-bottom: 0;padding: 0.3em;box-sizing: border-box;text-align: center;}#sk-container-id-2 label.sk-toggleable__label-arrow:before {content: \"▸\";float: left;margin-right: 0.25em;color: #696969;}#sk-container-id-2 label.sk-toggleable__label-arrow:hover:before {color: black;}#sk-container-id-2 div.sk-estimator:hover label.sk-toggleable__label-arrow:before {color: black;}#sk-container-id-2 div.sk-toggleable__content {max-height: 0;max-width: 0;overflow: hidden;text-align: left;background-color: #f0f8ff;}#sk-container-id-2 div.sk-toggleable__content pre {margin: 0.2em;color: black;border-radius: 0.25em;background-color: #f0f8ff;}#sk-container-id-2 input.sk-toggleable__control:checked~div.sk-toggleable__content {max-height: 200px;max-width: 100%;overflow: auto;}#sk-container-id-2 input.sk-toggleable__control:checked~label.sk-toggleable__label-arrow:before {content: \"▾\";}#sk-container-id-2 div.sk-estimator input.sk-toggleable__control:checked~label.sk-toggleable__label {background-color: #d4ebff;}#sk-container-id-2 div.sk-label input.sk-toggleable__control:checked~label.sk-toggleable__label {background-color: #d4ebff;}#sk-container-id-2 input.sk-hidden--visually {border: 0;clip: rect(1px 1px 1px 1px);clip: rect(1px, 1px, 1px, 1px);height: 1px;margin: -1px;overflow: hidden;padding: 0;position: absolute;width: 1px;}#sk-container-id-2 div.sk-estimator {font-family: monospace;background-color: #f0f8ff;border: 1px dotted black;border-radius: 0.25em;box-sizing: border-box;margin-bottom: 0.5em;}#sk-container-id-2 div.sk-estimator:hover {background-color: #d4ebff;}#sk-container-id-2 div.sk-parallel-item::after {content: \"\";width: 100%;border-bottom: 1px solid gray;flex-grow: 1;}#sk-container-id-2 div.sk-label:hover label.sk-toggleable__label {background-color: #d4ebff;}#sk-container-id-2 div.sk-serial::before {content: \"\";position: absolute;border-left: 1px solid gray;box-sizing: border-box;top: 0;bottom: 0;left: 50%;z-index: 0;}#sk-container-id-2 div.sk-serial {display: flex;flex-direction: column;align-items: center;background-color: white;padding-right: 0.2em;padding-left: 0.2em;position: relative;}#sk-container-id-2 div.sk-item {position: relative;z-index: 1;}#sk-container-id-2 div.sk-parallel {display: flex;align-items: stretch;justify-content: center;background-color: white;position: relative;}#sk-container-id-2 div.sk-item::before, #sk-container-id-2 div.sk-parallel-item::before {content: \"\";position: absolute;border-left: 1px solid gray;box-sizing: border-box;top: 0;bottom: 0;left: 50%;z-index: -1;}#sk-container-id-2 div.sk-parallel-item {display: flex;flex-direction: column;z-index: 1;position: relative;background-color: white;}#sk-container-id-2 div.sk-parallel-item:first-child::after {align-self: flex-end;width: 50%;}#sk-container-id-2 div.sk-parallel-item:last-child::after {align-self: flex-start;width: 50%;}#sk-container-id-2 div.sk-parallel-item:only-child::after {width: 0;}#sk-container-id-2 div.sk-dashed-wrapped {border: 1px dashed gray;margin: 0 0.4em 0.5em 0.4em;box-sizing: border-box;padding-bottom: 0.4em;background-color: white;}#sk-container-id-2 div.sk-label label {font-family: monospace;font-weight: bold;display: inline-block;line-height: 1.2em;}#sk-container-id-2 div.sk-label-container {text-align: center;}#sk-container-id-2 div.sk-container {/* jupyter's `normalize.less` sets `[hidden] { display: none; }` but bootstrap.min.css set `[hidden] { display: none !important; }` so we also need the `!important` here to be able to override the default hidden behavior on the sphinx rendered scikit-learn.org. See: https://github.com/scikit-learn/scikit-learn/issues/21755 */display: inline-block !important;position: relative;}#sk-container-id-2 div.sk-text-repr-fallback {display: none;}</style><div id=\"sk-container-id-2\" class=\"sk-top-container\"><div class=\"sk-text-repr-fallback\"><pre>MLPRegressor(hidden_layer_sizes=(50, 30), random_state=42, verbose=1)</pre><b>In a Jupyter environment, please rerun this cell to show the HTML representation or trust the notebook. <br />On GitHub, the HTML representation is unable to render, please try loading this page with nbviewer.org.</b></div><div class=\"sk-container\" hidden><div class=\"sk-item\"><div class=\"sk-estimator sk-toggleable\"><input class=\"sk-toggleable__control sk-hidden--visually\" id=\"sk-estimator-id-2\" type=\"checkbox\" checked><label for=\"sk-estimator-id-2\" class=\"sk-toggleable__label sk-toggleable__label-arrow\">MLPRegressor</label><div class=\"sk-toggleable__content\"><pre>MLPRegressor(hidden_layer_sizes=(50, 30), random_state=42, verbose=1)</pre></div></div></div></div></div>"
      ],
      "text/plain": [
       "MLPRegressor(hidden_layer_sizes=(50, 30), random_state=42, verbose=1)"
      ]
     },
     "execution_count": 55,
     "metadata": {},
     "output_type": "execute_result"
    }
   ],
   "source": [
    "mlp.fit(X_train_ss, y_train)"
   ]
  },
  {
   "cell_type": "code",
   "execution_count": null,
   "id": "76bd509d-7b8e-453d-af7d-293b193052b6",
   "metadata": {
    "id": "76bd509d-7b8e-453d-af7d-293b193052b6",
    "outputId": "ea458bd6-996e-4b90-d1cd-c589717e203e"
   },
   "outputs": [
    {
     "name": "stdout",
     "output_type": "stream",
     "text": [
      "Mean Squared Error: 5.183736767147114\n",
      "R^2 Score: 0.1446152002393556\n"
     ]
    }
   ],
   "source": [
    "# Make predictions on the validation set\n",
    "y_pred = mlp.predict(X_val_ss)\n",
    "\n",
    "# Calculate the mean squared error and R^2 score\n",
    "mse = mean_squared_error(y_val, y_pred)\n",
    "r2 = r2_score(y_val, y_pred)\n",
    "\n",
    "print(f'Mean Squared Error: {mse}')\n",
    "print(f'R^2 Score: {r2}')"
   ]
  },
  {
   "cell_type": "markdown",
   "id": "82517a4f-e76b-4116-875a-a96d708df236",
   "metadata": {
    "id": "82517a4f-e76b-4116-875a-a96d708df236"
   },
   "source": [
    "The initial results on Scikit-Learn Neural Networks are not great. Let's try this again using Tensorflow."
   ]
  },
  {
   "cell_type": "markdown",
   "id": "40a03a6e",
   "metadata": {},
   "source": [
    "### 5"
   ]
  },
  {
   "cell_type": "markdown",
   "id": "7624069f",
   "metadata": {},
   "source": [
    "### Modeling IMDB Votes using Tensor Flow"
   ]
  },
  {
   "cell_type": "code",
   "execution_count": null,
   "id": "afd61415-1be4-431f-ac84-c8d48d3dafd7",
   "metadata": {
    "id": "afd61415-1be4-431f-ac84-c8d48d3dafd7"
   },
   "outputs": [],
   "source": [
    "import tensorflow as tf\n",
    "from tensorflow import keras\n",
    "from tensorflow.keras import layers"
   ]
  },
  {
   "cell_type": "code",
   "execution_count": null,
   "id": "f0a25ed7-ca92-4bbc-b691-bbd02f46a953",
   "metadata": {
    "id": "f0a25ed7-ca92-4bbc-b691-bbd02f46a953"
   },
   "outputs": [],
   "source": [
    "# random seeds for reproducibility\n",
    "tf.random.set_seed(123)\n",
    "\n",
    "# Create a new sequential model\n",
    "model = keras.Sequential()\n",
    "\n",
    "# Declare the hidden layers\n",
    "model.add(layers.Dense(40, activation=\"relu\"))\n",
    "model.add(layers.Dense(40, activation=\"relu\"))\n",
    "\n",
    "# Declare the output layer\n",
    "model.add(layers.Dense(1)) # For regression, we don't specify any activation function.\n",
    "\n",
    "# Compile the model\n",
    "model.compile(\n",
    "    # Optimizer\n",
    "    optimizer=keras.optimizers.Adam(),  \n",
    "    # Loss function to minimize\n",
    "    loss=keras.losses.MeanSquaredError()\n",
    ")"
   ]
  },
  {
   "cell_type": "code",
   "execution_count": null,
   "id": "4965c78f-957c-4637-8572-d0788e6c7754",
   "metadata": {
    "colab": {
     "base_uri": "https://localhost:8080/"
    },
    "id": "4965c78f-957c-4637-8572-d0788e6c7754",
    "outputId": "1a640eae-7c1a-4f22-a36b-13c0ec9b0199"
   },
   "outputs": [
    {
     "name": "stdout",
     "output_type": "stream",
     "text": [
      "Epoch 1/50\n",
      "183/183 [==============================] - 2s 2ms/step - loss: 15.4368\n",
      "Epoch 2/50\n",
      "183/183 [==============================] - 0s 2ms/step - loss: 3.5192\n",
      "Epoch 3/50\n",
      "183/183 [==============================] - 0s 2ms/step - loss: 2.4910\n",
      "Epoch 4/50\n",
      "183/183 [==============================] - 0s 2ms/step - loss: 1.8898\n",
      "Epoch 5/50\n",
      "183/183 [==============================] - 1s 3ms/step - loss: 1.5323\n",
      "Epoch 6/50\n",
      "183/183 [==============================] - 1s 3ms/step - loss: 1.2381\n",
      "Epoch 7/50\n",
      "183/183 [==============================] - 1s 3ms/step - loss: 1.0410\n",
      "Epoch 8/50\n",
      "183/183 [==============================] - 1s 6ms/step - loss: 0.8443\n",
      "Epoch 9/50\n",
      "183/183 [==============================] - 1s 7ms/step - loss: 0.7251\n",
      "Epoch 10/50\n",
      "183/183 [==============================] - 1s 5ms/step - loss: 0.6157\n",
      "Epoch 11/50\n",
      "183/183 [==============================] - 1s 4ms/step - loss: 0.5206\n",
      "Epoch 12/50\n",
      "183/183 [==============================] - 1s 4ms/step - loss: 0.4320\n",
      "Epoch 13/50\n",
      "183/183 [==============================] - 1s 6ms/step - loss: 0.3835\n",
      "Epoch 14/50\n",
      "183/183 [==============================] - 1s 5ms/step - loss: 0.3176\n",
      "Epoch 15/50\n",
      "183/183 [==============================] - 0s 3ms/step - loss: 0.2904\n",
      "Epoch 16/50\n",
      "183/183 [==============================] - 0s 2ms/step - loss: 0.2696\n",
      "Epoch 17/50\n",
      "183/183 [==============================] - 0s 2ms/step - loss: 0.2675\n",
      "Epoch 18/50\n",
      "183/183 [==============================] - 0s 2ms/step - loss: 0.2598\n",
      "Epoch 19/50\n",
      "183/183 [==============================] - 0s 2ms/step - loss: 0.2418\n",
      "Epoch 20/50\n",
      "183/183 [==============================] - 0s 2ms/step - loss: 0.2361\n",
      "Epoch 21/50\n",
      "183/183 [==============================] - 0s 2ms/step - loss: 0.2217\n",
      "Epoch 22/50\n",
      "183/183 [==============================] - 0s 2ms/step - loss: 0.2082\n",
      "Epoch 23/50\n",
      "183/183 [==============================] - 0s 2ms/step - loss: 0.1948\n",
      "Epoch 24/50\n",
      "183/183 [==============================] - 0s 3ms/step - loss: 0.1948\n",
      "Epoch 25/50\n",
      "183/183 [==============================] - 0s 2ms/step - loss: 0.2094\n",
      "Epoch 26/50\n",
      "183/183 [==============================] - 1s 4ms/step - loss: 0.1936\n",
      "Epoch 27/50\n",
      "183/183 [==============================] - 1s 3ms/step - loss: 0.1917\n",
      "Epoch 28/50\n",
      "183/183 [==============================] - 1s 4ms/step - loss: 0.1895\n",
      "Epoch 29/50\n",
      "183/183 [==============================] - 1s 4ms/step - loss: 0.1909\n",
      "Epoch 30/50\n",
      "183/183 [==============================] - 1s 3ms/step - loss: 0.1722\n",
      "Epoch 31/50\n",
      "183/183 [==============================] - 0s 2ms/step - loss: 0.1631\n",
      "Epoch 32/50\n",
      "183/183 [==============================] - 0s 2ms/step - loss: 0.1370\n",
      "Epoch 33/50\n",
      "183/183 [==============================] - 0s 2ms/step - loss: 0.1420\n",
      "Epoch 34/50\n",
      "183/183 [==============================] - 0s 3ms/step - loss: 0.1449\n",
      "Epoch 35/50\n",
      "183/183 [==============================] - 0s 2ms/step - loss: 0.1615\n",
      "Epoch 36/50\n",
      "183/183 [==============================] - 0s 2ms/step - loss: 0.1929\n",
      "Epoch 37/50\n",
      "183/183 [==============================] - 0s 2ms/step - loss: 0.1999\n",
      "Epoch 38/50\n",
      "183/183 [==============================] - 0s 2ms/step - loss: 0.1675\n",
      "Epoch 39/50\n",
      "183/183 [==============================] - 0s 2ms/step - loss: 0.1412\n",
      "Epoch 40/50\n",
      "183/183 [==============================] - 0s 3ms/step - loss: 0.1279\n",
      "Epoch 41/50\n",
      "183/183 [==============================] - 0s 2ms/step - loss: 0.1155\n",
      "Epoch 42/50\n",
      "183/183 [==============================] - 0s 2ms/step - loss: 0.1176\n",
      "Epoch 43/50\n",
      "183/183 [==============================] - 0s 2ms/step - loss: 0.1300\n",
      "Epoch 44/50\n",
      "183/183 [==============================] - 0s 2ms/step - loss: 0.1364\n",
      "Epoch 45/50\n",
      "183/183 [==============================] - 0s 2ms/step - loss: 0.1452\n",
      "Epoch 46/50\n",
      "183/183 [==============================] - 0s 2ms/step - loss: 0.1466\n",
      "Epoch 47/50\n",
      "183/183 [==============================] - 0s 2ms/step - loss: 0.1460\n",
      "Epoch 48/50\n",
      "183/183 [==============================] - 0s 2ms/step - loss: 0.1529\n",
      "Epoch 49/50\n",
      "183/183 [==============================] - 0s 2ms/step - loss: 0.1240\n",
      "Epoch 50/50\n",
      "183/183 [==============================] - 0s 2ms/step - loss: 0.1110\n"
     ]
    }
   ],
   "source": [
    "history = model.fit(X_train_ss, y_train, epochs=50, verbose=1)"
   ]
  },
  {
   "cell_type": "code",
   "execution_count": null,
   "id": "6ce7fe41-cd8b-4034-b778-ebb4da67d205",
   "metadata": {
    "colab": {
     "base_uri": "https://localhost:8080/"
    },
    "id": "6ce7fe41-cd8b-4034-b778-ebb4da67d205",
    "outputId": "c51a343d-9c8b-4346-b59d-dfa9f3fcaba0"
   },
   "outputs": [
    {
     "name": "stdout",
     "output_type": "stream",
     "text": [
      "Train Loss: 0.1110\n",
      "Test Loss: 4.0952\n",
      "46/46 [==============================] - 0s 2ms/step\n"
     ]
    }
   ],
   "source": [
    "# Evaluate the model using the test data and generate predictions\n",
    "train_loss = history.history[\"loss\"][-1]\n",
    "result = model.evaluate(X_val_ss, y_val, verbose=0)\n",
    "\n",
    "print(f\"Train Loss: {train_loss:.4f}\")\n",
    "print(f\"Test Loss: {result:.4f}\")\n",
    "\n",
    "y_pred = model.predict(X_val_ss)"
   ]
  },
  {
   "cell_type": "code",
   "execution_count": null,
   "id": "ffca618b-8164-4042-a3a2-2ef3ab5920b9",
   "metadata": {
    "colab": {
     "base_uri": "https://localhost:8080/"
    },
    "id": "ffca618b-8164-4042-a3a2-2ef3ab5920b9",
    "outputId": "e6e460b5-657d-44cc-d96c-a7c686d98b87"
   },
   "outputs": [
    {
     "data": {
      "text/plain": [
       "0.26956077209921236"
      ]
     },
     "execution_count": 29,
     "metadata": {},
     "output_type": "execute_result"
    }
   ],
   "source": [
    "from sklearn.metrics import r2_score\n",
    "\n",
    "r2_score(y_val,y_pred)"
   ]
  },
  {
   "cell_type": "markdown",
   "id": "8Lul6EfxXy4K",
   "metadata": {
    "id": "8Lul6EfxXy4K"
   },
   "source": [
    "Definitely an improvement vs Scikit Learn, but let's try to improve the R2 score further. Now trying a more powerful neural network buy adding more layers, and specifying a droput and L2 regularizers to reduce overfitting."
   ]
  },
  {
   "cell_type": "code",
   "execution_count": null,
   "id": "61e84581-a217-4975-af88-abb0611dc727",
   "metadata": {
    "id": "61e84581-a217-4975-af88-abb0611dc727"
   },
   "outputs": [],
   "source": [
    "# random seeds for reproducibility\n",
    "tf.random.set_seed(123)\n",
    "\n",
    "# Create a new sequential model\n",
    "model = keras.Sequential()\n",
    "\n",
    "# Declare the hidden layers\n",
    "model.add(layers.Dense(128, activation=\"relu\", kernel_regularizer=keras.regularizers.l2(0.001)))\n",
    "model.add(layers.Dropout(0.2))\n",
    "model.add(layers.Dense(64, activation=\"relu\", kernel_regularizer=keras.regularizers.l2(0.001)))\n",
    "model.add(layers.Dropout(0.2))\n",
    "\n",
    "# Declare the output layer\n",
    "model.add(layers.Dense(1)) # For regression, we don't specify any activation function.\n",
    "\n",
    "# Compile the model\n",
    "model.compile(\n",
    "    # Optimizer\n",
    "    optimizer=keras.optimizers.Adam(learning_rate=0.001),  \n",
    "    # Loss function to minimize\n",
    "    loss=keras.losses.MeanSquaredError()\n",
    ")\n",
    "\n",
    "# Add early stopping\n",
    "early_stopping = keras.callbacks.EarlyStopping(\n",
    "    monitor=\"val_loss\",\n",
    "    patience=10,\n",
    "    restore_best_weights=True\n",
    ")\n",
    "\n"
   ]
  },
  {
   "cell_type": "code",
   "execution_count": null,
   "id": "5-mgVjDfXgbQ",
   "metadata": {
    "colab": {
     "base_uri": "https://localhost:8080/"
    },
    "id": "5-mgVjDfXgbQ",
    "outputId": "19a6fe3b-19ff-4918-c3e6-72a4d885aa49"
   },
   "outputs": [
    {
     "name": "stdout",
     "output_type": "stream",
     "text": [
      "Epoch 1/100\n",
      "182/183 [============================>.] - ETA: 0s - loss: 0.8630"
     ]
    },
    {
     "name": "stderr",
     "output_type": "stream",
     "text": [
      "WARNING:tensorflow:Early stopping conditioned on metric `val_loss` which is not available. Available metrics are: loss\n"
     ]
    },
    {
     "name": "stdout",
     "output_type": "stream",
     "text": [
      "\b\b\b\b\b\b\b\b\b\b\b\b\b\b\b\b\b\b\b\b\b\b\b\b\b\b\b\b\b\b\b\b\b\b\b\b\b\b\b\b\b\b\b\b\b\b\b\b\b\b\b\b\b\b\b\b\b\b\b\b\b\b\b\b\b\r",
      "183/183 [==============================] - 1s 4ms/step - loss: 0.8623\n",
      "Epoch 2/100\n",
      "175/183 [===========================>..] - ETA: 0s - loss: 0.8485"
     ]
    },
    {
     "name": "stderr",
     "output_type": "stream",
     "text": [
      "WARNING:tensorflow:Early stopping conditioned on metric `val_loss` which is not available. Available metrics are: loss\n"
     ]
    },
    {
     "name": "stdout",
     "output_type": "stream",
     "text": [
      "\b\b\b\b\b\b\b\b\b\b\b\b\b\b\b\b\b\b\b\b\b\b\b\b\b\b\b\b\b\b\b\b\b\b\b\b\b\b\b\b\b\b\b\b\b\b\b\b\b\b\b\b\b\b\b\b\b\b\b\b\b\b\b\b\b\r",
      "183/183 [==============================] - 1s 4ms/step - loss: 0.8460\n",
      "Epoch 3/100\n",
      "181/183 [============================>.] - ETA: 0s - loss: 0.8601"
     ]
    },
    {
     "name": "stderr",
     "output_type": "stream",
     "text": [
      "WARNING:tensorflow:Early stopping conditioned on metric `val_loss` which is not available. Available metrics are: loss\n"
     ]
    },
    {
     "name": "stdout",
     "output_type": "stream",
     "text": [
      "\b\b\b\b\b\b\b\b\b\b\b\b\b\b\b\b\b\b\b\b\b\b\b\b\b\b\b\b\b\b\b\b\b\b\b\b\b\b\b\b\b\b\b\b\b\b\b\b\b\b\b\b\b\b\b\b\b\b\b\b\b\b\b\b\b\r",
      "183/183 [==============================] - 1s 4ms/step - loss: 0.8613\n",
      "Epoch 4/100\n",
      "178/183 [============================>.] - ETA: 0s - loss: 0.8659"
     ]
    },
    {
     "name": "stderr",
     "output_type": "stream",
     "text": [
      "WARNING:tensorflow:Early stopping conditioned on metric `val_loss` which is not available. Available metrics are: loss\n"
     ]
    },
    {
     "name": "stdout",
     "output_type": "stream",
     "text": [
      "\b\b\b\b\b\b\b\b\b\b\b\b\b\b\b\b\b\b\b\b\b\b\b\b\b\b\b\b\b\b\b\b\b\b\b\b\b\b\b\b\b\b\b\b\b\b\b\b\b\b\b\b\b\b\b\b\b\b\b\b\b\b\b\b\b\r",
      "183/183 [==============================] - 1s 4ms/step - loss: 0.8656\n",
      "Epoch 5/100\n",
      "173/183 [===========================>..] - ETA: 0s - loss: 0.8405"
     ]
    },
    {
     "name": "stderr",
     "output_type": "stream",
     "text": [
      "WARNING:tensorflow:Early stopping conditioned on metric `val_loss` which is not available. Available metrics are: loss\n"
     ]
    },
    {
     "name": "stdout",
     "output_type": "stream",
     "text": [
      "\b\b\b\b\b\b\b\b\b\b\b\b\b\b\b\b\b\b\b\b\b\b\b\b\b\b\b\b\b\b\b\b\b\b\b\b\b\b\b\b\b\b\b\b\b\b\b\b\b\b\b\b\b\b\b\b\b\b\b\b\b\b\b\b\b\r",
      "183/183 [==============================] - 1s 4ms/step - loss: 0.8393\n",
      "Epoch 6/100\n",
      "180/183 [============================>.] - ETA: 0s - loss: 0.8299"
     ]
    },
    {
     "name": "stderr",
     "output_type": "stream",
     "text": [
      "WARNING:tensorflow:Early stopping conditioned on metric `val_loss` which is not available. Available metrics are: loss\n"
     ]
    },
    {
     "name": "stdout",
     "output_type": "stream",
     "text": [
      "\b\b\b\b\b\b\b\b\b\b\b\b\b\b\b\b\b\b\b\b\b\b\b\b\b\b\b\b\b\b\b\b\b\b\b\b\b\b\b\b\b\b\b\b\b\b\b\b\b\b\b\b\b\b\b\b\b\b\b\b\b\b\b\b\b\r",
      "183/183 [==============================] - 1s 4ms/step - loss: 0.8268\n",
      "Epoch 7/100\n",
      "181/183 [============================>.] - ETA: 0s - loss: 0.8324"
     ]
    },
    {
     "name": "stderr",
     "output_type": "stream",
     "text": [
      "WARNING:tensorflow:Early stopping conditioned on metric `val_loss` which is not available. Available metrics are: loss\n"
     ]
    },
    {
     "name": "stdout",
     "output_type": "stream",
     "text": [
      "\b\b\b\b\b\b\b\b\b\b\b\b\b\b\b\b\b\b\b\b\b\b\b\b\b\b\b\b\b\b\b\b\b\b\b\b\b\b\b\b\b\b\b\b\b\b\b\b\b\b\b\b\b\b\b\b\b\b\b\b\b\b\b\b\b\r",
      "183/183 [==============================] - 1s 4ms/step - loss: 0.8315\n",
      "Epoch 8/100\n",
      "180/183 [============================>.] - ETA: 0s - loss: 0.8202"
     ]
    },
    {
     "name": "stderr",
     "output_type": "stream",
     "text": [
      "WARNING:tensorflow:Early stopping conditioned on metric `val_loss` which is not available. Available metrics are: loss\n"
     ]
    },
    {
     "name": "stdout",
     "output_type": "stream",
     "text": [
      "\b\b\b\b\b\b\b\b\b\b\b\b\b\b\b\b\b\b\b\b\b\b\b\b\b\b\b\b\b\b\b\b\b\b\b\b\b\b\b\b\b\b\b\b\b\b\b\b\b\b\b\b\b\b\b\b\b\b\b\b\b\b\b\b\b\r",
      "183/183 [==============================] - 1s 4ms/step - loss: 0.8181\n",
      "Epoch 9/100\n",
      "176/183 [===========================>..] - ETA: 0s - loss: 0.8128"
     ]
    },
    {
     "name": "stderr",
     "output_type": "stream",
     "text": [
      "WARNING:tensorflow:Early stopping conditioned on metric `val_loss` which is not available. Available metrics are: loss\n"
     ]
    },
    {
     "name": "stdout",
     "output_type": "stream",
     "text": [
      "\b\b\b\b\b\b\b\b\b\b\b\b\b\b\b\b\b\b\b\b\b\b\b\b\b\b\b\b\b\b\b\b\b\b\b\b\b\b\b\b\b\b\b\b\b\b\b\b\b\b\b\b\b\b\b\b\b\b\b\b\b\b\b\b\b\r",
      "183/183 [==============================] - 1s 6ms/step - loss: 0.8126\n",
      "Epoch 10/100\n",
      "178/183 [============================>.] - ETA: 0s - loss: 0.8312"
     ]
    },
    {
     "name": "stderr",
     "output_type": "stream",
     "text": [
      "WARNING:tensorflow:Early stopping conditioned on metric `val_loss` which is not available. Available metrics are: loss\n"
     ]
    },
    {
     "name": "stdout",
     "output_type": "stream",
     "text": [
      "\b\b\b\b\b\b\b\b\b\b\b\b\b\b\b\b\b\b\b\b\b\b\b\b\b\b\b\b\b\b\b\b\b\b\b\b\b\b\b\b\b\b\b\b\b\b\b\b\b\b\b\b\b\b\b\b\b\b\b\b\b\b\b\b\b\r",
      "183/183 [==============================] - 1s 7ms/step - loss: 0.8287\n",
      "Epoch 11/100\n",
      "182/183 [============================>.] - ETA: 0s - loss: 0.8183"
     ]
    },
    {
     "name": "stderr",
     "output_type": "stream",
     "text": [
      "WARNING:tensorflow:Early stopping conditioned on metric `val_loss` which is not available. Available metrics are: loss\n"
     ]
    },
    {
     "name": "stdout",
     "output_type": "stream",
     "text": [
      "\b\b\b\b\b\b\b\b\b\b\b\b\b\b\b\b\b\b\b\b\b\b\b\b\b\b\b\b\b\b\b\b\b\b\b\b\b\b\b\b\b\b\b\b\b\b\b\b\b\b\b\b\b\b\b\b\b\b\b\b\b\b\b\b\b\r",
      "183/183 [==============================] - 1s 6ms/step - loss: 0.8182\n",
      "Epoch 12/100\n",
      "176/183 [===========================>..] - ETA: 0s - loss: 0.8069"
     ]
    },
    {
     "name": "stderr",
     "output_type": "stream",
     "text": [
      "WARNING:tensorflow:Early stopping conditioned on metric `val_loss` which is not available. Available metrics are: loss\n"
     ]
    },
    {
     "name": "stdout",
     "output_type": "stream",
     "text": [
      "\b\b\b\b\b\b\b\b\b\b\b\b\b\b\b\b\b\b\b\b\b\b\b\b\b\b\b\b\b\b\b\b\b\b\b\b\b\b\b\b\b\b\b\b\b\b\b\b\b\b\b\b\b\b\b\b\b\b\b\b\b\b\b\b\b\r",
      "183/183 [==============================] - 1s 4ms/step - loss: 0.8076\n",
      "Epoch 13/100\n",
      "179/183 [============================>.] - ETA: 0s - loss: 0.8344"
     ]
    },
    {
     "name": "stderr",
     "output_type": "stream",
     "text": [
      "WARNING:tensorflow:Early stopping conditioned on metric `val_loss` which is not available. Available metrics are: loss\n"
     ]
    },
    {
     "name": "stdout",
     "output_type": "stream",
     "text": [
      "\b\b\b\b\b\b\b\b\b\b\b\b\b\b\b\b\b\b\b\b\b\b\b\b\b\b\b\b\b\b\b\b\b\b\b\b\b\b\b\b\b\b\b\b\b\b\b\b\b\b\b\b\b\b\b\b\b\b\b\b\b\b\b\b\b\r",
      "183/183 [==============================] - 1s 4ms/step - loss: 0.8347\n",
      "Epoch 14/100\n",
      "181/183 [============================>.] - ETA: 0s - loss: 0.8367"
     ]
    },
    {
     "name": "stderr",
     "output_type": "stream",
     "text": [
      "WARNING:tensorflow:Early stopping conditioned on metric `val_loss` which is not available. Available metrics are: loss\n"
     ]
    },
    {
     "name": "stdout",
     "output_type": "stream",
     "text": [
      "\b\b\b\b\b\b\b\b\b\b\b\b\b\b\b\b\b\b\b\b\b\b\b\b\b\b\b\b\b\b\b\b\b\b\b\b\b\b\b\b\b\b\b\b\b\b\b\b\b\b\b\b\b\b\b\b\b\b\b\b\b\b\b\b\b\r",
      "183/183 [==============================] - 1s 4ms/step - loss: 0.8377\n",
      "Epoch 15/100\n",
      "176/183 [===========================>..] - ETA: 0s - loss: 0.7974"
     ]
    },
    {
     "name": "stderr",
     "output_type": "stream",
     "text": [
      "WARNING:tensorflow:Early stopping conditioned on metric `val_loss` which is not available. Available metrics are: loss\n"
     ]
    },
    {
     "name": "stdout",
     "output_type": "stream",
     "text": [
      "\b\b\b\b\b\b\b\b\b\b\b\b\b\b\b\b\b\b\b\b\b\b\b\b\b\b\b\b\b\b\b\b\b\b\b\b\b\b\b\b\b\b\b\b\b\b\b\b\b\b\b\b\b\b\b\b\b\b\b\b\b\b\b\b\b\r",
      "183/183 [==============================] - 1s 4ms/step - loss: 0.7977\n",
      "Epoch 16/100\n",
      "175/183 [===========================>..] - ETA: 0s - loss: 0.8019"
     ]
    },
    {
     "name": "stderr",
     "output_type": "stream",
     "text": [
      "WARNING:tensorflow:Early stopping conditioned on metric `val_loss` which is not available. Available metrics are: loss\n"
     ]
    },
    {
     "name": "stdout",
     "output_type": "stream",
     "text": [
      "\b\b\b\b\b\b\b\b\b\b\b\b\b\b\b\b\b\b\b\b\b\b\b\b\b\b\b\b\b\b\b\b\b\b\b\b\b\b\b\b\b\b\b\b\b\b\b\b\b\b\b\b\b\b\b\b\b\b\b\b\b\b\b\b\b\r",
      "183/183 [==============================] - 1s 4ms/step - loss: 0.8003\n",
      "Epoch 17/100\n",
      "173/183 [===========================>..] - ETA: 0s - loss: 0.7930"
     ]
    },
    {
     "name": "stderr",
     "output_type": "stream",
     "text": [
      "WARNING:tensorflow:Early stopping conditioned on metric `val_loss` which is not available. Available metrics are: loss\n"
     ]
    },
    {
     "name": "stdout",
     "output_type": "stream",
     "text": [
      "\b\b\b\b\b\b\b\b\b\b\b\b\b\b\b\b\b\b\b\b\b\b\b\b\b\b\b\b\b\b\b\b\b\b\b\b\b\b\b\b\b\b\b\b\b\b\b\b\b\b\b\b\b\b\b\b\b\b\b\b\b\b\b\b\b\r",
      "183/183 [==============================] - 1s 4ms/step - loss: 0.7970\n",
      "Epoch 18/100\n",
      "176/183 [===========================>..] - ETA: 0s - loss: 0.7824"
     ]
    },
    {
     "name": "stderr",
     "output_type": "stream",
     "text": [
      "WARNING:tensorflow:Early stopping conditioned on metric `val_loss` which is not available. Available metrics are: loss\n"
     ]
    },
    {
     "name": "stdout",
     "output_type": "stream",
     "text": [
      "\b\b\b\b\b\b\b\b\b\b\b\b\b\b\b\b\b\b\b\b\b\b\b\b\b\b\b\b\b\b\b\b\b\b\b\b\b\b\b\b\b\b\b\b\b\b\b\b\b\b\b\b\b\b\b\b\b\b\b\b\b\b\b\b\b\r",
      "183/183 [==============================] - 1s 4ms/step - loss: 0.7823\n",
      "Epoch 19/100\n",
      "174/183 [===========================>..] - ETA: 0s - loss: 0.7744"
     ]
    },
    {
     "name": "stderr",
     "output_type": "stream",
     "text": [
      "WARNING:tensorflow:Early stopping conditioned on metric `val_loss` which is not available. Available metrics are: loss\n"
     ]
    },
    {
     "name": "stdout",
     "output_type": "stream",
     "text": [
      "\b\b\b\b\b\b\b\b\b\b\b\b\b\b\b\b\b\b\b\b\b\b\b\b\b\b\b\b\b\b\b\b\b\b\b\b\b\b\b\b\b\b\b\b\b\b\b\b\b\b\b\b\b\b\b\b\b\b\b\b\b\b\b\b\b\r",
      "183/183 [==============================] - 1s 4ms/step - loss: 0.7736\n",
      "Epoch 20/100\n",
      "179/183 [============================>.] - ETA: 0s - loss: 0.8040"
     ]
    },
    {
     "name": "stderr",
     "output_type": "stream",
     "text": [
      "WARNING:tensorflow:Early stopping conditioned on metric `val_loss` which is not available. Available metrics are: loss\n"
     ]
    },
    {
     "name": "stdout",
     "output_type": "stream",
     "text": [
      "\b\b\b\b\b\b\b\b\b\b\b\b\b\b\b\b\b\b\b\b\b\b\b\b\b\b\b\b\b\b\b\b\b\b\b\b\b\b\b\b\b\b\b\b\b\b\b\b\b\b\b\b\b\b\b\b\b\b\b\b\b\b\b\b\b\r",
      "183/183 [==============================] - 1s 4ms/step - loss: 0.8064\n",
      "Epoch 21/100\n",
      "175/183 [===========================>..] - ETA: 0s - loss: 0.8039"
     ]
    },
    {
     "name": "stderr",
     "output_type": "stream",
     "text": [
      "WARNING:tensorflow:Early stopping conditioned on metric `val_loss` which is not available. Available metrics are: loss\n"
     ]
    },
    {
     "name": "stdout",
     "output_type": "stream",
     "text": [
      "\b\b\b\b\b\b\b\b\b\b\b\b\b\b\b\b\b\b\b\b\b\b\b\b\b\b\b\b\b\b\b\b\b\b\b\b\b\b\b\b\b\b\b\b\b\b\b\b\b\b\b\b\b\b\b\b\b\b\b\b\b\b\b\b\b\r",
      "183/183 [==============================] - 1s 4ms/step - loss: 0.8047\n",
      "Epoch 22/100\n",
      "175/183 [===========================>..] - ETA: 0s - loss: 0.7740"
     ]
    },
    {
     "name": "stderr",
     "output_type": "stream",
     "text": [
      "WARNING:tensorflow:Early stopping conditioned on metric `val_loss` which is not available. Available metrics are: loss\n"
     ]
    },
    {
     "name": "stdout",
     "output_type": "stream",
     "text": [
      "\b\b\b\b\b\b\b\b\b\b\b\b\b\b\b\b\b\b\b\b\b\b\b\b\b\b\b\b\b\b\b\b\b\b\b\b\b\b\b\b\b\b\b\b\b\b\b\b\b\b\b\b\b\b\b\b\b\b\b\b\b\b\b\b\b\r",
      "183/183 [==============================] - 1s 5ms/step - loss: 0.7739\n",
      "Epoch 23/100\n",
      "182/183 [============================>.] - ETA: 0s - loss: 0.7828"
     ]
    },
    {
     "name": "stderr",
     "output_type": "stream",
     "text": [
      "WARNING:tensorflow:Early stopping conditioned on metric `val_loss` which is not available. Available metrics are: loss\n"
     ]
    },
    {
     "name": "stdout",
     "output_type": "stream",
     "text": [
      "\b\b\b\b\b\b\b\b\b\b\b\b\b\b\b\b\b\b\b\b\b\b\b\b\b\b\b\b\b\b\b\b\b\b\b\b\b\b\b\b\b\b\b\b\b\b\b\b\b\b\b\b\b\b\b\b\b\b\b\b\b\b\b\b\b\r",
      "183/183 [==============================] - 1s 4ms/step - loss: 0.7834\n",
      "Epoch 24/100\n",
      "180/183 [============================>.] - ETA: 0s - loss: 0.7831"
     ]
    },
    {
     "name": "stderr",
     "output_type": "stream",
     "text": [
      "WARNING:tensorflow:Early stopping conditioned on metric `val_loss` which is not available. Available metrics are: loss\n"
     ]
    },
    {
     "name": "stdout",
     "output_type": "stream",
     "text": [
      "\b\b\b\b\b\b\b\b\b\b\b\b\b\b\b\b\b\b\b\b\b\b\b\b\b\b\b\b\b\b\b\b\b\b\b\b\b\b\b\b\b\b\b\b\b\b\b\b\b\b\b\b\b\b\b\b\b\b\b\b\b\b\b\b\b\r",
      "183/183 [==============================] - 1s 6ms/step - loss: 0.7823\n",
      "Epoch 25/100\n",
      "181/183 [============================>.] - ETA: 0s - loss: 0.7715"
     ]
    },
    {
     "name": "stderr",
     "output_type": "stream",
     "text": [
      "WARNING:tensorflow:Early stopping conditioned on metric `val_loss` which is not available. Available metrics are: loss\n"
     ]
    },
    {
     "name": "stdout",
     "output_type": "stream",
     "text": [
      "\b\b\b\b\b\b\b\b\b\b\b\b\b\b\b\b\b\b\b\b\b\b\b\b\b\b\b\b\b\b\b\b\b\b\b\b\b\b\b\b\b\b\b\b\b\b\b\b\b\b\b\b\b\b\b\b\b\b\b\b\b\b\b\b\b\r",
      "183/183 [==============================] - 1s 6ms/step - loss: 0.7705\n",
      "Epoch 26/100\n",
      "180/183 [============================>.] - ETA: 0s - loss: 0.7932"
     ]
    },
    {
     "name": "stderr",
     "output_type": "stream",
     "text": [
      "WARNING:tensorflow:Early stopping conditioned on metric `val_loss` which is not available. Available metrics are: loss\n"
     ]
    },
    {
     "name": "stdout",
     "output_type": "stream",
     "text": [
      "\b\b\b\b\b\b\b\b\b\b\b\b\b\b\b\b\b\b\b\b\b\b\b\b\b\b\b\b\b\b\b\b\b\b\b\b\b\b\b\b\b\b\b\b\b\b\b\b\b\b\b\b\b\b\b\b\b\b\b\b\b\b\b\b\b\r",
      "183/183 [==============================] - 1s 7ms/step - loss: 0.7936\n",
      "Epoch 27/100\n",
      "177/183 [============================>.] - ETA: 0s - loss: 0.7912"
     ]
    },
    {
     "name": "stderr",
     "output_type": "stream",
     "text": [
      "WARNING:tensorflow:Early stopping conditioned on metric `val_loss` which is not available. Available metrics are: loss\n"
     ]
    },
    {
     "name": "stdout",
     "output_type": "stream",
     "text": [
      "\b\b\b\b\b\b\b\b\b\b\b\b\b\b\b\b\b\b\b\b\b\b\b\b\b\b\b\b\b\b\b\b\b\b\b\b\b\b\b\b\b\b\b\b\b\b\b\b\b\b\b\b\b\b\b\b\b\b\b\b\b\b\b\b\b\r",
      "183/183 [==============================] - 1s 5ms/step - loss: 0.7928\n",
      "Epoch 28/100\n",
      "172/183 [===========================>..] - ETA: 0s - loss: 0.7687"
     ]
    },
    {
     "name": "stderr",
     "output_type": "stream",
     "text": [
      "WARNING:tensorflow:Early stopping conditioned on metric `val_loss` which is not available. Available metrics are: loss\n"
     ]
    },
    {
     "name": "stdout",
     "output_type": "stream",
     "text": [
      "\b\b\b\b\b\b\b\b\b\b\b\b\b\b\b\b\b\b\b\b\b\b\b\b\b\b\b\b\b\b\b\b\b\b\b\b\b\b\b\b\b\b\b\b\b\b\b\b\b\b\b\b\b\b\b\b\b\b\b\b\b\b\b\b\b\r",
      "183/183 [==============================] - 1s 4ms/step - loss: 0.7698\n",
      "Epoch 29/100\n",
      "176/183 [===========================>..] - ETA: 0s - loss: 0.7622"
     ]
    },
    {
     "name": "stderr",
     "output_type": "stream",
     "text": [
      "WARNING:tensorflow:Early stopping conditioned on metric `val_loss` which is not available. Available metrics are: loss\n"
     ]
    },
    {
     "name": "stdout",
     "output_type": "stream",
     "text": [
      "\b\b\b\b\b\b\b\b\b\b\b\b\b\b\b\b\b\b\b\b\b\b\b\b\b\b\b\b\b\b\b\b\b\b\b\b\b\b\b\b\b\b\b\b\b\b\b\b\b\b\b\b\b\b\b\b\b\b\b\b\b\b\b\b\b\r",
      "183/183 [==============================] - 1s 4ms/step - loss: 0.7688\n",
      "Epoch 30/100\n",
      "182/183 [============================>.] - ETA: 0s - loss: 0.7682"
     ]
    },
    {
     "name": "stderr",
     "output_type": "stream",
     "text": [
      "WARNING:tensorflow:Early stopping conditioned on metric `val_loss` which is not available. Available metrics are: loss\n"
     ]
    },
    {
     "name": "stdout",
     "output_type": "stream",
     "text": [
      "\b\b\b\b\b\b\b\b\b\b\b\b\b\b\b\b\b\b\b\b\b\b\b\b\b\b\b\b\b\b\b\b\b\b\b\b\b\b\b\b\b\b\b\b\b\b\b\b\b\b\b\b\b\b\b\b\b\b\b\b\b\b\b\b\b\r",
      "183/183 [==============================] - 1s 4ms/step - loss: 0.7689\n",
      "Epoch 31/100\n",
      "178/183 [============================>.] - ETA: 0s - loss: 0.7780"
     ]
    },
    {
     "name": "stderr",
     "output_type": "stream",
     "text": [
      "WARNING:tensorflow:Early stopping conditioned on metric `val_loss` which is not available. Available metrics are: loss\n"
     ]
    },
    {
     "name": "stdout",
     "output_type": "stream",
     "text": [
      "\b\b\b\b\b\b\b\b\b\b\b\b\b\b\b\b\b\b\b\b\b\b\b\b\b\b\b\b\b\b\b\b\b\b\b\b\b\b\b\b\b\b\b\b\b\b\b\b\b\b\b\b\b\b\b\b\b\b\b\b\b\b\b\b\b\r",
      "183/183 [==============================] - 1s 5ms/step - loss: 0.7772\n",
      "Epoch 32/100\n",
      "173/183 [===========================>..] - ETA: 0s - loss: 0.7527"
     ]
    },
    {
     "name": "stderr",
     "output_type": "stream",
     "text": [
      "WARNING:tensorflow:Early stopping conditioned on metric `val_loss` which is not available. Available metrics are: loss\n"
     ]
    },
    {
     "name": "stdout",
     "output_type": "stream",
     "text": [
      "\b\b\b\b\b\b\b\b\b\b\b\b\b\b\b\b\b\b\b\b\b\b\b\b\b\b\b\b\b\b\b\b\b\b\b\b\b\b\b\b\b\b\b\b\b\b\b\b\b\b\b\b\b\b\b\b\b\b\b\b\b\b\b\b\b\r",
      "183/183 [==============================] - 1s 5ms/step - loss: 0.7574\n",
      "Epoch 33/100\n",
      "177/183 [============================>.] - ETA: 0s - loss: 0.7509"
     ]
    },
    {
     "name": "stderr",
     "output_type": "stream",
     "text": [
      "WARNING:tensorflow:Early stopping conditioned on metric `val_loss` which is not available. Available metrics are: loss\n"
     ]
    },
    {
     "name": "stdout",
     "output_type": "stream",
     "text": [
      "\b\b\b\b\b\b\b\b\b\b\b\b\b\b\b\b\b\b\b\b\b\b\b\b\b\b\b\b\b\b\b\b\b\b\b\b\b\b\b\b\b\b\b\b\b\b\b\b\b\b\b\b\b\b\b\b\b\b\b\b\b\b\b\b\b\r",
      "183/183 [==============================] - 1s 5ms/step - loss: 0.7502\n",
      "Epoch 34/100\n",
      "173/183 [===========================>..] - ETA: 0s - loss: 0.7463"
     ]
    },
    {
     "name": "stderr",
     "output_type": "stream",
     "text": [
      "WARNING:tensorflow:Early stopping conditioned on metric `val_loss` which is not available. Available metrics are: loss\n"
     ]
    },
    {
     "name": "stdout",
     "output_type": "stream",
     "text": [
      "\b\b\b\b\b\b\b\b\b\b\b\b\b\b\b\b\b\b\b\b\b\b\b\b\b\b\b\b\b\b\b\b\b\b\b\b\b\b\b\b\b\b\b\b\b\b\b\b\b\b\b\b\b\b\b\b\b\b\b\b\b\b\b\b\b\r",
      "183/183 [==============================] - 1s 4ms/step - loss: 0.7448\n",
      "Epoch 35/100\n",
      "179/183 [============================>.] - ETA: 0s - loss: 0.7400"
     ]
    },
    {
     "name": "stderr",
     "output_type": "stream",
     "text": [
      "WARNING:tensorflow:Early stopping conditioned on metric `val_loss` which is not available. Available metrics are: loss\n"
     ]
    },
    {
     "name": "stdout",
     "output_type": "stream",
     "text": [
      "\b\b\b\b\b\b\b\b\b\b\b\b\b\b\b\b\b\b\b\b\b\b\b\b\b\b\b\b\b\b\b\b\b\b\b\b\b\b\b\b\b\b\b\b\b\b\b\b\b\b\b\b\b\b\b\b\b\b\b\b\b\b\b\b\b\r",
      "183/183 [==============================] - 1s 4ms/step - loss: 0.7418\n",
      "Epoch 36/100\n",
      "182/183 [============================>.] - ETA: 0s - loss: 0.7457"
     ]
    },
    {
     "name": "stderr",
     "output_type": "stream",
     "text": [
      "WARNING:tensorflow:Early stopping conditioned on metric `val_loss` which is not available. Available metrics are: loss\n"
     ]
    },
    {
     "name": "stdout",
     "output_type": "stream",
     "text": [
      "\b\b\b\b\b\b\b\b\b\b\b\b\b\b\b\b\b\b\b\b\b\b\b\b\b\b\b\b\b\b\b\b\b\b\b\b\b\b\b\b\b\b\b\b\b\b\b\b\b\b\b\b\b\b\b\b\b\b\b\b\b\b\b\b\b\r",
      "183/183 [==============================] - 1s 4ms/step - loss: 0.7459\n",
      "Epoch 37/100\n",
      "171/183 [===========================>..] - ETA: 0s - loss: 0.7477"
     ]
    },
    {
     "name": "stderr",
     "output_type": "stream",
     "text": [
      "WARNING:tensorflow:Early stopping conditioned on metric `val_loss` which is not available. Available metrics are: loss\n"
     ]
    },
    {
     "name": "stdout",
     "output_type": "stream",
     "text": [
      "\b\b\b\b\b\b\b\b\b\b\b\b\b\b\b\b\b\b\b\b\b\b\b\b\b\b\b\b\b\b\b\b\b\b\b\b\b\b\b\b\b\b\b\b\b\b\b\b\b\b\b\b\b\b\b\b\b\b\b\b\b\b\b\b\b\r",
      "183/183 [==============================] - 1s 4ms/step - loss: 0.7508\n",
      "Epoch 38/100\n",
      "171/183 [===========================>..] - ETA: 0s - loss: 0.7441"
     ]
    },
    {
     "name": "stderr",
     "output_type": "stream",
     "text": [
      "WARNING:tensorflow:Early stopping conditioned on metric `val_loss` which is not available. Available metrics are: loss\n"
     ]
    },
    {
     "name": "stdout",
     "output_type": "stream",
     "text": [
      "\b\b\b\b\b\b\b\b\b\b\b\b\b\b\b\b\b\b\b\b\b\b\b\b\b\b\b\b\b\b\b\b\b\b\b\b\b\b\b\b\b\b\b\b\b\b\b\b\b\b\b\b\b\b\b\b\b\b\b\b\b\b\b\b\b\r",
      "183/183 [==============================] - 1s 4ms/step - loss: 0.7449\n",
      "Epoch 39/100\n",
      "183/183 [==============================] - ETA: 0s - loss: 0.7527"
     ]
    },
    {
     "name": "stderr",
     "output_type": "stream",
     "text": [
      "WARNING:tensorflow:Early stopping conditioned on metric `val_loss` which is not available. Available metrics are: loss\n"
     ]
    },
    {
     "name": "stdout",
     "output_type": "stream",
     "text": [
      "\b\b\b\b\b\b\b\b\b\b\b\b\b\b\b\b\b\b\b\b\b\b\b\b\b\b\b\b\b\b\b\b\b\b\b\b\b\b\b\b\b\b\b\b\b\b\b\b\b\b\b\b\b\b\b\b\b\b\b\b\b\b\b\b\b\r",
      "183/183 [==============================] - 1s 6ms/step - loss: 0.7527\n",
      "Epoch 40/100\n",
      "177/183 [============================>.] - ETA: 0s - loss: 0.7514"
     ]
    },
    {
     "name": "stderr",
     "output_type": "stream",
     "text": [
      "WARNING:tensorflow:Early stopping conditioned on metric `val_loss` which is not available. Available metrics are: loss\n"
     ]
    },
    {
     "name": "stdout",
     "output_type": "stream",
     "text": [
      "\b\b\b\b\b\b\b\b\b\b\b\b\b\b\b\b\b\b\b\b\b\b\b\b\b\b\b\b\b\b\b\b\b\b\b\b\b\b\b\b\b\b\b\b\b\b\b\b\b\b\b\b\b\b\b\b\b\b\b\b\b\b\b\b\b\r",
      "183/183 [==============================] - 1s 6ms/step - loss: 0.7522\n",
      "Epoch 41/100\n",
      "178/183 [============================>.] - ETA: 0s - loss: 0.7744"
     ]
    },
    {
     "name": "stderr",
     "output_type": "stream",
     "text": [
      "WARNING:tensorflow:Early stopping conditioned on metric `val_loss` which is not available. Available metrics are: loss\n"
     ]
    },
    {
     "name": "stdout",
     "output_type": "stream",
     "text": [
      "\b\b\b\b\b\b\b\b\b\b\b\b\b\b\b\b\b\b\b\b\b\b\b\b\b\b\b\b\b\b\b\b\b\b\b\b\b\b\b\b\b\b\b\b\b\b\b\b\b\b\b\b\b\b\b\b\b\b\b\b\b\b\b\b\b\r",
      "183/183 [==============================] - 1s 6ms/step - loss: 0.7707\n",
      "Epoch 42/100\n",
      "171/183 [===========================>..] - ETA: 0s - loss: 0.7426"
     ]
    },
    {
     "name": "stderr",
     "output_type": "stream",
     "text": [
      "WARNING:tensorflow:Early stopping conditioned on metric `val_loss` which is not available. Available metrics are: loss\n"
     ]
    },
    {
     "name": "stdout",
     "output_type": "stream",
     "text": [
      "\b\b\b\b\b\b\b\b\b\b\b\b\b\b\b\b\b\b\b\b\b\b\b\b\b\b\b\b\b\b\b\b\b\b\b\b\b\b\b\b\b\b\b\b\b\b\b\b\b\b\b\b\b\b\b\b\b\b\b\b\b\b\b\b\b\r",
      "183/183 [==============================] - 1s 4ms/step - loss: 0.7411\n",
      "Epoch 43/100\n",
      "179/183 [============================>.] - ETA: 0s - loss: 0.7395"
     ]
    },
    {
     "name": "stderr",
     "output_type": "stream",
     "text": [
      "WARNING:tensorflow:Early stopping conditioned on metric `val_loss` which is not available. Available metrics are: loss\n"
     ]
    },
    {
     "name": "stdout",
     "output_type": "stream",
     "text": [
      "\b\b\b\b\b\b\b\b\b\b\b\b\b\b\b\b\b\b\b\b\b\b\b\b\b\b\b\b\b\b\b\b\b\b\b\b\b\b\b\b\b\b\b\b\b\b\b\b\b\b\b\b\b\b\b\b\b\b\b\b\b\b\b\b\b\r",
      "183/183 [==============================] - 1s 4ms/step - loss: 0.7424\n",
      "Epoch 44/100\n",
      "176/183 [===========================>..] - ETA: 0s - loss: 0.7362"
     ]
    },
    {
     "name": "stderr",
     "output_type": "stream",
     "text": [
      "WARNING:tensorflow:Early stopping conditioned on metric `val_loss` which is not available. Available metrics are: loss\n"
     ]
    },
    {
     "name": "stdout",
     "output_type": "stream",
     "text": [
      "\b\b\b\b\b\b\b\b\b\b\b\b\b\b\b\b\b\b\b\b\b\b\b\b\b\b\b\b\b\b\b\b\b\b\b\b\b\b\b\b\b\b\b\b\b\b\b\b\b\b\b\b\b\b\b\b\b\b\b\b\b\b\b\b\b\r",
      "183/183 [==============================] - 1s 4ms/step - loss: 0.7352\n",
      "Epoch 45/100\n",
      "176/183 [===========================>..] - ETA: 0s - loss: 0.7159"
     ]
    },
    {
     "name": "stderr",
     "output_type": "stream",
     "text": [
      "WARNING:tensorflow:Early stopping conditioned on metric `val_loss` which is not available. Available metrics are: loss\n"
     ]
    },
    {
     "name": "stdout",
     "output_type": "stream",
     "text": [
      "\b\b\b\b\b\b\b\b\b\b\b\b\b\b\b\b\b\b\b\b\b\b\b\b\b\b\b\b\b\b\b\b\b\b\b\b\b\b\b\b\b\b\b\b\b\b\b\b\b\b\b\b\b\b\b\b\b\b\b\b\b\b\b\b\b\r",
      "183/183 [==============================] - 1s 4ms/step - loss: 0.7172\n",
      "Epoch 46/100\n",
      "183/183 [==============================] - ETA: 0s - loss: 0.7152"
     ]
    },
    {
     "name": "stderr",
     "output_type": "stream",
     "text": [
      "WARNING:tensorflow:Early stopping conditioned on metric `val_loss` which is not available. Available metrics are: loss\n"
     ]
    },
    {
     "name": "stdout",
     "output_type": "stream",
     "text": [
      "\b\b\b\b\b\b\b\b\b\b\b\b\b\b\b\b\b\b\b\b\b\b\b\b\b\b\b\b\b\b\b\b\b\b\b\b\b\b\b\b\b\b\b\b\b\b\b\b\b\b\b\b\b\b\b\b\b\b\b\b\b\b\b\b\b\r",
      "183/183 [==============================] - 1s 4ms/step - loss: 0.7152\n",
      "Epoch 47/100\n",
      "176/183 [===========================>..] - ETA: 0s - loss: 0.7205"
     ]
    },
    {
     "name": "stderr",
     "output_type": "stream",
     "text": [
      "WARNING:tensorflow:Early stopping conditioned on metric `val_loss` which is not available. Available metrics are: loss\n"
     ]
    },
    {
     "name": "stdout",
     "output_type": "stream",
     "text": [
      "\b\b\b\b\b\b\b\b\b\b\b\b\b\b\b\b\b\b\b\b\b\b\b\b\b\b\b\b\b\b\b\b\b\b\b\b\b\b\b\b\b\b\b\b\b\b\b\b\b\b\b\b\b\b\b\b\b\b\b\b\b\b\b\b\b\r",
      "183/183 [==============================] - 1s 5ms/step - loss: 0.7201\n",
      "Epoch 48/100\n",
      "178/183 [============================>.] - ETA: 0s - loss: 0.7331"
     ]
    },
    {
     "name": "stderr",
     "output_type": "stream",
     "text": [
      "WARNING:tensorflow:Early stopping conditioned on metric `val_loss` which is not available. Available metrics are: loss\n"
     ]
    },
    {
     "name": "stdout",
     "output_type": "stream",
     "text": [
      "\b\b\b\b\b\b\b\b\b\b\b\b\b\b\b\b\b\b\b\b\b\b\b\b\b\b\b\b\b\b\b\b\b\b\b\b\b\b\b\b\b\b\b\b\b\b\b\b\b\b\b\b\b\b\b\b\b\b\b\b\b\b\b\b\b\r",
      "183/183 [==============================] - 1s 4ms/step - loss: 0.7319\n",
      "Epoch 49/100\n",
      "176/183 [===========================>..] - ETA: 0s - loss: 0.7546"
     ]
    },
    {
     "name": "stderr",
     "output_type": "stream",
     "text": [
      "WARNING:tensorflow:Early stopping conditioned on metric `val_loss` which is not available. Available metrics are: loss\n"
     ]
    },
    {
     "name": "stdout",
     "output_type": "stream",
     "text": [
      "\b\b\b\b\b\b\b\b\b\b\b\b\b\b\b\b\b\b\b\b\b\b\b\b\b\b\b\b\b\b\b\b\b\b\b\b\b\b\b\b\b\b\b\b\b\b\b\b\b\b\b\b\b\b\b\b\b\b\b\b\b\b\b\b\b\r",
      "183/183 [==============================] - 1s 4ms/step - loss: 0.7535\n",
      "Epoch 50/100\n",
      "179/183 [============================>.] - ETA: 0s - loss: 0.7196"
     ]
    },
    {
     "name": "stderr",
     "output_type": "stream",
     "text": [
      "WARNING:tensorflow:Early stopping conditioned on metric `val_loss` which is not available. Available metrics are: loss\n"
     ]
    },
    {
     "name": "stdout",
     "output_type": "stream",
     "text": [
      "\b\b\b\b\b\b\b\b\b\b\b\b\b\b\b\b\b\b\b\b\b\b\b\b\b\b\b\b\b\b\b\b\b\b\b\b\b\b\b\b\b\b\b\b\b\b\b\b\b\b\b\b\b\b\b\b\b\b\b\b\b\b\b\b\b\r",
      "183/183 [==============================] - 1s 4ms/step - loss: 0.7193\n",
      "Epoch 51/100\n",
      "172/183 [===========================>..] - ETA: 0s - loss: 0.7293"
     ]
    },
    {
     "name": "stderr",
     "output_type": "stream",
     "text": [
      "WARNING:tensorflow:Early stopping conditioned on metric `val_loss` which is not available. Available metrics are: loss\n"
     ]
    },
    {
     "name": "stdout",
     "output_type": "stream",
     "text": [
      "\b\b\b\b\b\b\b\b\b\b\b\b\b\b\b\b\b\b\b\b\b\b\b\b\b\b\b\b\b\b\b\b\b\b\b\b\b\b\b\b\b\b\b\b\b\b\b\b\b\b\b\b\b\b\b\b\b\b\b\b\b\b\b\b\b\r",
      "183/183 [==============================] - 1s 4ms/step - loss: 0.7262\n",
      "Epoch 52/100\n",
      "174/183 [===========================>..] - ETA: 0s - loss: 0.7194"
     ]
    },
    {
     "name": "stderr",
     "output_type": "stream",
     "text": [
      "WARNING:tensorflow:Early stopping conditioned on metric `val_loss` which is not available. Available metrics are: loss\n"
     ]
    },
    {
     "name": "stdout",
     "output_type": "stream",
     "text": [
      "\b\b\b\b\b\b\b\b\b\b\b\b\b\b\b\b\b\b\b\b\b\b\b\b\b\b\b\b\b\b\b\b\b\b\b\b\b\b\b\b\b\b\b\b\b\b\b\b\b\b\b\b\b\b\b\b\b\b\b\b\b\b\b\b\b\r",
      "183/183 [==============================] - 1s 4ms/step - loss: 0.7199\n",
      "Epoch 53/100\n",
      "171/183 [===========================>..] - ETA: 0s - loss: 0.7289"
     ]
    },
    {
     "name": "stderr",
     "output_type": "stream",
     "text": [
      "WARNING:tensorflow:Early stopping conditioned on metric `val_loss` which is not available. Available metrics are: loss\n"
     ]
    },
    {
     "name": "stdout",
     "output_type": "stream",
     "text": [
      "\b\b\b\b\b\b\b\b\b\b\b\b\b\b\b\b\b\b\b\b\b\b\b\b\b\b\b\b\b\b\b\b\b\b\b\b\b\b\b\b\b\b\b\b\b\b\b\b\b\b\b\b\b\b\b\b\b\b\b\b\b\b\b\b\b\r",
      "183/183 [==============================] - 1s 4ms/step - loss: 0.7243\n",
      "Epoch 54/100\n",
      "179/183 [============================>.] - ETA: 0s - loss: 0.7444"
     ]
    },
    {
     "name": "stderr",
     "output_type": "stream",
     "text": [
      "WARNING:tensorflow:Early stopping conditioned on metric `val_loss` which is not available. Available metrics are: loss\n"
     ]
    },
    {
     "name": "stdout",
     "output_type": "stream",
     "text": [
      "\b\b\b\b\b\b\b\b\b\b\b\b\b\b\b\b\b\b\b\b\b\b\b\b\b\b\b\b\b\b\b\b\b\b\b\b\b\b\b\b\b\b\b\b\b\b\b\b\b\b\b\b\b\b\b\b\b\b\b\b\b\b\b\b\b\r",
      "183/183 [==============================] - 1s 5ms/step - loss: 0.7449\n",
      "Epoch 55/100\n",
      "176/183 [===========================>..] - ETA: 0s - loss: 0.7403"
     ]
    },
    {
     "name": "stderr",
     "output_type": "stream",
     "text": [
      "WARNING:tensorflow:Early stopping conditioned on metric `val_loss` which is not available. Available metrics are: loss\n"
     ]
    },
    {
     "name": "stdout",
     "output_type": "stream",
     "text": [
      "\b\b\b\b\b\b\b\b\b\b\b\b\b\b\b\b\b\b\b\b\b\b\b\b\b\b\b\b\b\b\b\b\b\b\b\b\b\b\b\b\b\b\b\b\b\b\b\b\b\b\b\b\b\b\b\b\b\b\b\b\b\b\b\b\b\r",
      "183/183 [==============================] - 1s 6ms/step - loss: 0.7405\n",
      "Epoch 56/100\n",
      "176/183 [===========================>..] - ETA: 0s - loss: 0.7569"
     ]
    },
    {
     "name": "stderr",
     "output_type": "stream",
     "text": [
      "WARNING:tensorflow:Early stopping conditioned on metric `val_loss` which is not available. Available metrics are: loss\n"
     ]
    },
    {
     "name": "stdout",
     "output_type": "stream",
     "text": [
      "\b\b\b\b\b\b\b\b\b\b\b\b\b\b\b\b\b\b\b\b\b\b\b\b\b\b\b\b\b\b\b\b\b\b\b\b\b\b\b\b\b\b\b\b\b\b\b\b\b\b\b\b\b\b\b\b\b\b\b\b\b\b\b\b\b\r",
      "183/183 [==============================] - 1s 6ms/step - loss: 0.7552\n",
      "Epoch 57/100\n",
      "179/183 [============================>.] - ETA: 0s - loss: 0.7300"
     ]
    },
    {
     "name": "stderr",
     "output_type": "stream",
     "text": [
      "WARNING:tensorflow:Early stopping conditioned on metric `val_loss` which is not available. Available metrics are: loss\n"
     ]
    },
    {
     "name": "stdout",
     "output_type": "stream",
     "text": [
      "\b\b\b\b\b\b\b\b\b\b\b\b\b\b\b\b\b\b\b\b\b\b\b\b\b\b\b\b\b\b\b\b\b\b\b\b\b\b\b\b\b\b\b\b\b\b\b\b\b\b\b\b\b\b\b\b\b\b\b\b\b\b\b\b\b\r",
      "183/183 [==============================] - 1s 5ms/step - loss: 0.7303\n",
      "Epoch 58/100\n",
      "177/183 [============================>.] - ETA: 0s - loss: 0.7167"
     ]
    },
    {
     "name": "stderr",
     "output_type": "stream",
     "text": [
      "WARNING:tensorflow:Early stopping conditioned on metric `val_loss` which is not available. Available metrics are: loss\n"
     ]
    },
    {
     "name": "stdout",
     "output_type": "stream",
     "text": [
      "\b\b\b\b\b\b\b\b\b\b\b\b\b\b\b\b\b\b\b\b\b\b\b\b\b\b\b\b\b\b\b\b\b\b\b\b\b\b\b\b\b\b\b\b\b\b\b\b\b\b\b\b\b\b\b\b\b\b\b\b\b\b\b\b\b\r",
      "183/183 [==============================] - 1s 4ms/step - loss: 0.7179\n",
      "Epoch 59/100\n",
      "182/183 [============================>.] - ETA: 0s - loss: 0.7213"
     ]
    },
    {
     "name": "stderr",
     "output_type": "stream",
     "text": [
      "WARNING:tensorflow:Early stopping conditioned on metric `val_loss` which is not available. Available metrics are: loss\n"
     ]
    },
    {
     "name": "stdout",
     "output_type": "stream",
     "text": [
      "\b\b\b\b\b\b\b\b\b\b\b\b\b\b\b\b\b\b\b\b\b\b\b\b\b\b\b\b\b\b\b\b\b\b\b\b\b\b\b\b\b\b\b\b\b\b\b\b\b\b\b\b\b\b\b\b\b\b\b\b\b\b\b\b\b\r",
      "183/183 [==============================] - 1s 4ms/step - loss: 0.7215\n",
      "Epoch 60/100\n",
      "178/183 [============================>.] - ETA: 0s - loss: 0.7301"
     ]
    },
    {
     "name": "stderr",
     "output_type": "stream",
     "text": [
      "WARNING:tensorflow:Early stopping conditioned on metric `val_loss` which is not available. Available metrics are: loss\n"
     ]
    },
    {
     "name": "stdout",
     "output_type": "stream",
     "text": [
      "\b\b\b\b\b\b\b\b\b\b\b\b\b\b\b\b\b\b\b\b\b\b\b\b\b\b\b\b\b\b\b\b\b\b\b\b\b\b\b\b\b\b\b\b\b\b\b\b\b\b\b\b\b\b\b\b\b\b\b\b\b\b\b\b\b\r",
      "183/183 [==============================] - 2s 10ms/step - loss: 0.7322\n",
      "Epoch 61/100\n",
      "181/183 [============================>.] - ETA: 0s - loss: 0.7196"
     ]
    },
    {
     "name": "stderr",
     "output_type": "stream",
     "text": [
      "WARNING:tensorflow:Early stopping conditioned on metric `val_loss` which is not available. Available metrics are: loss\n"
     ]
    },
    {
     "name": "stdout",
     "output_type": "stream",
     "text": [
      "\b\b\b\b\b\b\b\b\b\b\b\b\b\b\b\b\b\b\b\b\b\b\b\b\b\b\b\b\b\b\b\b\b\b\b\b\b\b\b\b\b\b\b\b\b\b\b\b\b\b\b\b\b\b\b\b\b\b\b\b\b\b\b\b\b\r",
      "183/183 [==============================] - 1s 5ms/step - loss: 0.7197\n",
      "Epoch 62/100\n",
      "183/183 [==============================] - ETA: 0s - loss: 0.7116"
     ]
    },
    {
     "name": "stderr",
     "output_type": "stream",
     "text": [
      "WARNING:tensorflow:Early stopping conditioned on metric `val_loss` which is not available. Available metrics are: loss\n"
     ]
    },
    {
     "name": "stdout",
     "output_type": "stream",
     "text": [
      "\b\b\b\b\b\b\b\b\b\b\b\b\b\b\b\b\b\b\b\b\b\b\b\b\b\b\b\b\b\b\b\b\b\b\b\b\b\b\b\b\b\b\b\b\b\b\b\b\b\b\b\b\b\b\b\b\b\b\b\b\b\b\b\b\b\r",
      "183/183 [==============================] - 1s 4ms/step - loss: 0.7116\n",
      "Epoch 63/100\n",
      "178/183 [============================>.] - ETA: 0s - loss: 0.7109"
     ]
    },
    {
     "name": "stderr",
     "output_type": "stream",
     "text": [
      "WARNING:tensorflow:Early stopping conditioned on metric `val_loss` which is not available. Available metrics are: loss\n"
     ]
    },
    {
     "name": "stdout",
     "output_type": "stream",
     "text": [
      "\b\b\b\b\b\b\b\b\b\b\b\b\b\b\b\b\b\b\b\b\b\b\b\b\b\b\b\b\b\b\b\b\b\b\b\b\b\b\b\b\b\b\b\b\b\b\b\b\b\b\b\b\b\b\b\b\b\b\b\b\b\b\b\b\b\r",
      "183/183 [==============================] - 1s 4ms/step - loss: 0.7118\n",
      "Epoch 64/100\n",
      "178/183 [============================>.] - ETA: 0s - loss: 0.6944"
     ]
    },
    {
     "name": "stderr",
     "output_type": "stream",
     "text": [
      "WARNING:tensorflow:Early stopping conditioned on metric `val_loss` which is not available. Available metrics are: loss\n"
     ]
    },
    {
     "name": "stdout",
     "output_type": "stream",
     "text": [
      "\b\b\b\b\b\b\b\b\b\b\b\b\b\b\b\b\b\b\b\b\b\b\b\b\b\b\b\b\b\b\b\b\b\b\b\b\b\b\b\b\b\b\b\b\b\b\b\b\b\b\b\b\b\b\b\b\b\b\b\b\b\b\b\b\b\r",
      "183/183 [==============================] - 1s 4ms/step - loss: 0.6958\n",
      "Epoch 65/100\n",
      "173/183 [===========================>..] - ETA: 0s - loss: 0.6826"
     ]
    },
    {
     "name": "stderr",
     "output_type": "stream",
     "text": [
      "WARNING:tensorflow:Early stopping conditioned on metric `val_loss` which is not available. Available metrics are: loss\n"
     ]
    },
    {
     "name": "stdout",
     "output_type": "stream",
     "text": [
      "\b\b\b\b\b\b\b\b\b\b\b\b\b\b\b\b\b\b\b\b\b\b\b\b\b\b\b\b\b\b\b\b\b\b\b\b\b\b\b\b\b\b\b\b\b\b\b\b\b\b\b\b\b\b\b\b\b\b\b\b\b\b\b\b\b\r",
      "183/183 [==============================] - 1s 5ms/step - loss: 0.6829\n",
      "Epoch 66/100\n",
      "172/183 [===========================>..] - ETA: 0s - loss: 0.6849"
     ]
    },
    {
     "name": "stderr",
     "output_type": "stream",
     "text": [
      "WARNING:tensorflow:Early stopping conditioned on metric `val_loss` which is not available. Available metrics are: loss\n"
     ]
    },
    {
     "name": "stdout",
     "output_type": "stream",
     "text": [
      "\b\b\b\b\b\b\b\b\b\b\b\b\b\b\b\b\b\b\b\b\b\b\b\b\b\b\b\b\b\b\b\b\b\b\b\b\b\b\b\b\b\b\b\b\b\b\b\b\b\b\b\b\b\b\b\b\b\b\b\b\b\b\b\b\b\r",
      "183/183 [==============================] - 1s 4ms/step - loss: 0.6853\n",
      "Epoch 67/100\n",
      "180/183 [============================>.] - ETA: 0s - loss: 0.7121"
     ]
    },
    {
     "name": "stderr",
     "output_type": "stream",
     "text": [
      "WARNING:tensorflow:Early stopping conditioned on metric `val_loss` which is not available. Available metrics are: loss\n"
     ]
    },
    {
     "name": "stdout",
     "output_type": "stream",
     "text": [
      "\b\b\b\b\b\b\b\b\b\b\b\b\b\b\b\b\b\b\b\b\b\b\b\b\b\b\b\b\b\b\b\b\b\b\b\b\b\b\b\b\b\b\b\b\b\b\b\b\b\b\b\b\b\b\b\b\b\b\b\b\b\b\b\b\b\r",
      "183/183 [==============================] - 1s 4ms/step - loss: 0.7118\n",
      "Epoch 68/100\n",
      "182/183 [============================>.] - ETA: 0s - loss: 0.6949"
     ]
    },
    {
     "name": "stderr",
     "output_type": "stream",
     "text": [
      "WARNING:tensorflow:Early stopping conditioned on metric `val_loss` which is not available. Available metrics are: loss\n"
     ]
    },
    {
     "name": "stdout",
     "output_type": "stream",
     "text": [
      "\b\b\b\b\b\b\b\b\b\b\b\b\b\b\b\b\b\b\b\b\b\b\b\b\b\b\b\b\b\b\b\b\b\b\b\b\b\b\b\b\b\b\b\b\b\b\b\b\b\b\b\b\b\b\b\b\b\b\b\b\b\b\b\b\b\r",
      "183/183 [==============================] - 1s 6ms/step - loss: 0.6946\n",
      "Epoch 69/100\n",
      "181/183 [============================>.] - ETA: 0s - loss: 0.7018"
     ]
    },
    {
     "name": "stderr",
     "output_type": "stream",
     "text": [
      "WARNING:tensorflow:Early stopping conditioned on metric `val_loss` which is not available. Available metrics are: loss\n"
     ]
    },
    {
     "name": "stdout",
     "output_type": "stream",
     "text": [
      "\b\b\b\b\b\b\b\b\b\b\b\b\b\b\b\b\b\b\b\b\b\b\b\b\b\b\b\b\b\b\b\b\b\b\b\b\b\b\b\b\b\b\b\b\b\b\b\b\b\b\b\b\b\b\b\b\b\b\b\b\b\b\b\b\b\r",
      "183/183 [==============================] - 1s 7ms/step - loss: 0.7016\n",
      "Epoch 70/100\n",
      "180/183 [============================>.] - ETA: 0s - loss: 0.6913"
     ]
    },
    {
     "name": "stderr",
     "output_type": "stream",
     "text": [
      "WARNING:tensorflow:Early stopping conditioned on metric `val_loss` which is not available. Available metrics are: loss\n"
     ]
    },
    {
     "name": "stdout",
     "output_type": "stream",
     "text": [
      "\b\b\b\b\b\b\b\b\b\b\b\b\b\b\b\b\b\b\b\b\b\b\b\b\b\b\b\b\b\b\b\b\b\b\b\b\b\b\b\b\b\b\b\b\b\b\b\b\b\b\b\b\b\b\b\b\b\b\b\b\b\b\b\b\b\r",
      "183/183 [==============================] - 1s 6ms/step - loss: 0.6909\n",
      "Epoch 71/100\n",
      "182/183 [============================>.] - ETA: 0s - loss: 0.7161"
     ]
    },
    {
     "name": "stderr",
     "output_type": "stream",
     "text": [
      "WARNING:tensorflow:Early stopping conditioned on metric `val_loss` which is not available. Available metrics are: loss\n"
     ]
    },
    {
     "name": "stdout",
     "output_type": "stream",
     "text": [
      "\b\b\b\b\b\b\b\b\b\b\b\b\b\b\b\b\b\b\b\b\b\b\b\b\b\b\b\b\b\b\b\b\b\b\b\b\b\b\b\b\b\b\b\b\b\b\b\b\b\b\b\b\b\b\b\b\b\b\b\b\b\b\b\b\b\r",
      "183/183 [==============================] - 1s 4ms/step - loss: 0.7151\n",
      "Epoch 72/100\n",
      "183/183 [==============================] - ETA: 0s - loss: 0.7363"
     ]
    },
    {
     "name": "stderr",
     "output_type": "stream",
     "text": [
      "WARNING:tensorflow:Early stopping conditioned on metric `val_loss` which is not available. Available metrics are: loss\n"
     ]
    },
    {
     "name": "stdout",
     "output_type": "stream",
     "text": [
      "\b\b\b\b\b\b\b\b\b\b\b\b\b\b\b\b\b\b\b\b\b\b\b\b\b\b\b\b\b\b\b\b\b\b\b\b\b\b\b\b\b\b\b\b\b\b\b\b\b\b\b\b\b\b\b\b\b\b\b\b\b\b\b\b\b\r",
      "183/183 [==============================] - 1s 4ms/step - loss: 0.7363\n",
      "Epoch 73/100\n",
      "183/183 [==============================] - ETA: 0s - loss: 0.6975"
     ]
    },
    {
     "name": "stderr",
     "output_type": "stream",
     "text": [
      "WARNING:tensorflow:Early stopping conditioned on metric `val_loss` which is not available. Available metrics are: loss\n"
     ]
    },
    {
     "name": "stdout",
     "output_type": "stream",
     "text": [
      "\b\b\b\b\b\b\b\b\b\b\b\b\b\b\b\b\b\b\b\b\b\b\b\b\b\b\b\b\b\b\b\b\b\b\b\b\b\b\b\b\b\b\b\b\b\b\b\b\b\b\b\b\b\b\b\b\b\b\b\b\b\b\b\b\b\r",
      "183/183 [==============================] - 1s 4ms/step - loss: 0.6975\n",
      "Epoch 74/100\n",
      "181/183 [============================>.] - ETA: 0s - loss: 0.7107"
     ]
    },
    {
     "name": "stderr",
     "output_type": "stream",
     "text": [
      "WARNING:tensorflow:Early stopping conditioned on metric `val_loss` which is not available. Available metrics are: loss\n"
     ]
    },
    {
     "name": "stdout",
     "output_type": "stream",
     "text": [
      "\b\b\b\b\b\b\b\b\b\b\b\b\b\b\b\b\b\b\b\b\b\b\b\b\b\b\b\b\b\b\b\b\b\b\b\b\b\b\b\b\b\b\b\b\b\b\b\b\b\b\b\b\b\b\b\b\b\b\b\b\b\b\b\b\b\r",
      "183/183 [==============================] - 1s 4ms/step - loss: 0.7106\n",
      "Epoch 75/100\n",
      "182/183 [============================>.] - ETA: 0s - loss: 0.7087"
     ]
    },
    {
     "name": "stderr",
     "output_type": "stream",
     "text": [
      "WARNING:tensorflow:Early stopping conditioned on metric `val_loss` which is not available. Available metrics are: loss\n"
     ]
    },
    {
     "name": "stdout",
     "output_type": "stream",
     "text": [
      "\b\b\b\b\b\b\b\b\b\b\b\b\b\b\b\b\b\b\b\b\b\b\b\b\b\b\b\b\b\b\b\b\b\b\b\b\b\b\b\b\b\b\b\b\b\b\b\b\b\b\b\b\b\b\b\b\b\b\b\b\b\b\b\b\b\r",
      "183/183 [==============================] - 1s 4ms/step - loss: 0.7102\n",
      "Epoch 76/100\n",
      "180/183 [============================>.] - ETA: 0s - loss: 0.7160"
     ]
    },
    {
     "name": "stderr",
     "output_type": "stream",
     "text": [
      "WARNING:tensorflow:Early stopping conditioned on metric `val_loss` which is not available. Available metrics are: loss\n"
     ]
    },
    {
     "name": "stdout",
     "output_type": "stream",
     "text": [
      "\b\b\b\b\b\b\b\b\b\b\b\b\b\b\b\b\b\b\b\b\b\b\b\b\b\b\b\b\b\b\b\b\b\b\b\b\b\b\b\b\b\b\b\b\b\b\b\b\b\b\b\b\b\b\b\b\b\b\b\b\b\b\b\b\b\r",
      "183/183 [==============================] - 1s 4ms/step - loss: 0.7159\n",
      "Epoch 77/100\n",
      "180/183 [============================>.] - ETA: 0s - loss: 0.7009"
     ]
    },
    {
     "name": "stderr",
     "output_type": "stream",
     "text": [
      "WARNING:tensorflow:Early stopping conditioned on metric `val_loss` which is not available. Available metrics are: loss\n"
     ]
    },
    {
     "name": "stdout",
     "output_type": "stream",
     "text": [
      "\b\b\b\b\b\b\b\b\b\b\b\b\b\b\b\b\b\b\b\b\b\b\b\b\b\b\b\b\b\b\b\b\b\b\b\b\b\b\b\b\b\b\b\b\b\b\b\b\b\b\b\b\b\b\b\b\b\b\b\b\b\b\b\b\b\r",
      "183/183 [==============================] - 1s 4ms/step - loss: 0.7012\n",
      "Epoch 78/100\n",
      "171/183 [===========================>..] - ETA: 0s - loss: 0.7140"
     ]
    },
    {
     "name": "stderr",
     "output_type": "stream",
     "text": [
      "WARNING:tensorflow:Early stopping conditioned on metric `val_loss` which is not available. Available metrics are: loss\n"
     ]
    },
    {
     "name": "stdout",
     "output_type": "stream",
     "text": [
      "\b\b\b\b\b\b\b\b\b\b\b\b\b\b\b\b\b\b\b\b\b\b\b\b\b\b\b\b\b\b\b\b\b\b\b\b\b\b\b\b\b\b\b\b\b\b\b\b\b\b\b\b\b\b\b\b\b\b\b\b\b\b\b\b\b\r",
      "183/183 [==============================] - 1s 4ms/step - loss: 0.7101\n",
      "Epoch 79/100\n",
      "178/183 [============================>.] - ETA: 0s - loss: 0.6918"
     ]
    },
    {
     "name": "stderr",
     "output_type": "stream",
     "text": [
      "WARNING:tensorflow:Early stopping conditioned on metric `val_loss` which is not available. Available metrics are: loss\n"
     ]
    },
    {
     "name": "stdout",
     "output_type": "stream",
     "text": [
      "\b\b\b\b\b\b\b\b\b\b\b\b\b\b\b\b\b\b\b\b\b\b\b\b\b\b\b\b\b\b\b\b\b\b\b\b\b\b\b\b\b\b\b\b\b\b\b\b\b\b\b\b\b\b\b\b\b\b\b\b\b\b\b\b\b\r",
      "183/183 [==============================] - 1s 4ms/step - loss: 0.6923\n",
      "Epoch 80/100\n",
      "182/183 [============================>.] - ETA: 0s - loss: 0.6959"
     ]
    },
    {
     "name": "stderr",
     "output_type": "stream",
     "text": [
      "WARNING:tensorflow:Early stopping conditioned on metric `val_loss` which is not available. Available metrics are: loss\n"
     ]
    },
    {
     "name": "stdout",
     "output_type": "stream",
     "text": [
      "\b\b\b\b\b\b\b\b\b\b\b\b\b\b\b\b\b\b\b\b\b\b\b\b\b\b\b\b\b\b\b\b\b\b\b\b\b\b\b\b\b\b\b\b\b\b\b\b\b\b\b\b\b\b\b\b\b\b\b\b\b\b\b\b\b\r",
      "183/183 [==============================] - 1s 4ms/step - loss: 0.6960\n",
      "Epoch 81/100\n",
      "177/183 [============================>.] - ETA: 0s - loss: 0.6873"
     ]
    },
    {
     "name": "stderr",
     "output_type": "stream",
     "text": [
      "WARNING:tensorflow:Early stopping conditioned on metric `val_loss` which is not available. Available metrics are: loss\n"
     ]
    },
    {
     "name": "stdout",
     "output_type": "stream",
     "text": [
      "\b\b\b\b\b\b\b\b\b\b\b\b\b\b\b\b\b\b\b\b\b\b\b\b\b\b\b\b\b\b\b\b\b\b\b\b\b\b\b\b\b\b\b\b\b\b\b\b\b\b\b\b\b\b\b\b\b\b\b\b\b\b\b\b\b\r",
      "183/183 [==============================] - 1s 5ms/step - loss: 0.6885\n",
      "Epoch 82/100\n",
      "181/183 [============================>.] - ETA: 0s - loss: 0.6949"
     ]
    },
    {
     "name": "stderr",
     "output_type": "stream",
     "text": [
      "WARNING:tensorflow:Early stopping conditioned on metric `val_loss` which is not available. Available metrics are: loss\n"
     ]
    },
    {
     "name": "stdout",
     "output_type": "stream",
     "text": [
      "\b\b\b\b\b\b\b\b\b\b\b\b\b\b\b\b\b\b\b\b\b\b\b\b\b\b\b\b\b\b\b\b\b\b\b\b\b\b\b\b\b\b\b\b\b\b\b\b\b\b\b\b\b\b\b\b\b\b\b\b\b\b\b\b\b\r",
      "183/183 [==============================] - 1s 5ms/step - loss: 0.6942\n",
      "Epoch 83/100\n",
      "183/183 [==============================] - ETA: 0s - loss: 0.7033"
     ]
    },
    {
     "name": "stderr",
     "output_type": "stream",
     "text": [
      "WARNING:tensorflow:Early stopping conditioned on metric `val_loss` which is not available. Available metrics are: loss\n"
     ]
    },
    {
     "name": "stdout",
     "output_type": "stream",
     "text": [
      "\b\b\b\b\b\b\b\b\b\b\b\b\b\b\b\b\b\b\b\b\b\b\b\b\b\b\b\b\b\b\b\b\b\b\b\b\b\b\b\b\b\b\b\b\b\b\b\b\b\b\b\b\b\b\b\b\b\b\b\b\b\b\b\b\b\r",
      "183/183 [==============================] - 1s 6ms/step - loss: 0.7033\n",
      "Epoch 84/100\n",
      "182/183 [============================>.] - ETA: 0s - loss: 0.7046"
     ]
    },
    {
     "name": "stderr",
     "output_type": "stream",
     "text": [
      "WARNING:tensorflow:Early stopping conditioned on metric `val_loss` which is not available. Available metrics are: loss\n"
     ]
    },
    {
     "name": "stdout",
     "output_type": "stream",
     "text": [
      "\b\b\b\b\b\b\b\b\b\b\b\b\b\b\b\b\b\b\b\b\b\b\b\b\b\b\b\b\b\b\b\b\b\b\b\b\b\b\b\b\b\b\b\b\b\b\b\b\b\b\b\b\b\b\b\b\b\b\b\b\b\b\b\b\b\r",
      "183/183 [==============================] - 1s 6ms/step - loss: 0.7039\n",
      "Epoch 85/100\n",
      "180/183 [============================>.] - ETA: 0s - loss: 0.6834"
     ]
    },
    {
     "name": "stderr",
     "output_type": "stream",
     "text": [
      "WARNING:tensorflow:Early stopping conditioned on metric `val_loss` which is not available. Available metrics are: loss\n"
     ]
    },
    {
     "name": "stdout",
     "output_type": "stream",
     "text": [
      "\b\b\b\b\b\b\b\b\b\b\b\b\b\b\b\b\b\b\b\b\b\b\b\b\b\b\b\b\b\b\b\b\b\b\b\b\b\b\b\b\b\b\b\b\b\b\b\b\b\b\b\b\b\b\b\b\b\b\b\b\b\b\b\b\b\r",
      "183/183 [==============================] - 1s 7ms/step - loss: 0.6827\n",
      "Epoch 86/100\n",
      "179/183 [============================>.] - ETA: 0s - loss: 0.6730"
     ]
    },
    {
     "name": "stderr",
     "output_type": "stream",
     "text": [
      "WARNING:tensorflow:Early stopping conditioned on metric `val_loss` which is not available. Available metrics are: loss\n"
     ]
    },
    {
     "name": "stdout",
     "output_type": "stream",
     "text": [
      "\b\b\b\b\b\b\b\b\b\b\b\b\b\b\b\b\b\b\b\b\b\b\b\b\b\b\b\b\b\b\b\b\b\b\b\b\b\b\b\b\b\b\b\b\b\b\b\b\b\b\b\b\b\b\b\b\b\b\b\b\b\b\b\b\b\r",
      "183/183 [==============================] - 1s 4ms/step - loss: 0.6723\n",
      "Epoch 87/100\n",
      "174/183 [===========================>..] - ETA: 0s - loss: 0.6904"
     ]
    },
    {
     "name": "stderr",
     "output_type": "stream",
     "text": [
      "WARNING:tensorflow:Early stopping conditioned on metric `val_loss` which is not available. Available metrics are: loss\n"
     ]
    },
    {
     "name": "stdout",
     "output_type": "stream",
     "text": [
      "\b\b\b\b\b\b\b\b\b\b\b\b\b\b\b\b\b\b\b\b\b\b\b\b\b\b\b\b\b\b\b\b\b\b\b\b\b\b\b\b\b\b\b\b\b\b\b\b\b\b\b\b\b\b\b\b\b\b\b\b\b\b\b\b\b\r",
      "183/183 [==============================] - 1s 4ms/step - loss: 0.6886\n",
      "Epoch 88/100\n",
      "183/183 [==============================] - ETA: 0s - loss: 0.6954"
     ]
    },
    {
     "name": "stderr",
     "output_type": "stream",
     "text": [
      "WARNING:tensorflow:Early stopping conditioned on metric `val_loss` which is not available. Available metrics are: loss\n"
     ]
    },
    {
     "name": "stdout",
     "output_type": "stream",
     "text": [
      "\b\b\b\b\b\b\b\b\b\b\b\b\b\b\b\b\b\b\b\b\b\b\b\b\b\b\b\b\b\b\b\b\b\b\b\b\b\b\b\b\b\b\b\b\b\b\b\b\b\b\b\b\b\b\b\b\b\b\b\b\b\b\b\b\b\r",
      "183/183 [==============================] - 1s 4ms/step - loss: 0.6954\n",
      "Epoch 89/100\n",
      "179/183 [============================>.] - ETA: 0s - loss: 0.6822"
     ]
    },
    {
     "name": "stderr",
     "output_type": "stream",
     "text": [
      "WARNING:tensorflow:Early stopping conditioned on metric `val_loss` which is not available. Available metrics are: loss\n"
     ]
    },
    {
     "name": "stdout",
     "output_type": "stream",
     "text": [
      "\b\b\b\b\b\b\b\b\b\b\b\b\b\b\b\b\b\b\b\b\b\b\b\b\b\b\b\b\b\b\b\b\b\b\b\b\b\b\b\b\b\b\b\b\b\b\b\b\b\b\b\b\b\b\b\b\b\b\b\b\b\b\b\b\b\r",
      "183/183 [==============================] - 1s 4ms/step - loss: 0.6840\n",
      "Epoch 90/100\n",
      "175/183 [===========================>..] - ETA: 0s - loss: 0.6714"
     ]
    },
    {
     "name": "stderr",
     "output_type": "stream",
     "text": [
      "WARNING:tensorflow:Early stopping conditioned on metric `val_loss` which is not available. Available metrics are: loss\n"
     ]
    },
    {
     "name": "stdout",
     "output_type": "stream",
     "text": [
      "\b\b\b\b\b\b\b\b\b\b\b\b\b\b\b\b\b\b\b\b\b\b\b\b\b\b\b\b\b\b\b\b\b\b\b\b\b\b\b\b\b\b\b\b\b\b\b\b\b\b\b\b\b\b\b\b\b\b\b\b\b\b\b\b\b\r",
      "183/183 [==============================] - 1s 4ms/step - loss: 0.6715\n",
      "Epoch 91/100\n",
      "175/183 [===========================>..] - ETA: 0s - loss: 0.6805"
     ]
    },
    {
     "name": "stderr",
     "output_type": "stream",
     "text": [
      "WARNING:tensorflow:Early stopping conditioned on metric `val_loss` which is not available. Available metrics are: loss\n"
     ]
    },
    {
     "name": "stdout",
     "output_type": "stream",
     "text": [
      "\b\b\b\b\b\b\b\b\b\b\b\b\b\b\b\b\b\b\b\b\b\b\b\b\b\b\b\b\b\b\b\b\b\b\b\b\b\b\b\b\b\b\b\b\b\b\b\b\b\b\b\b\b\b\b\b\b\b\b\b\b\b\b\b\b\r",
      "183/183 [==============================] - 1s 4ms/step - loss: 0.6790\n",
      "Epoch 92/100\n",
      "182/183 [============================>.] - ETA: 0s - loss: 0.7001"
     ]
    },
    {
     "name": "stderr",
     "output_type": "stream",
     "text": [
      "WARNING:tensorflow:Early stopping conditioned on metric `val_loss` which is not available. Available metrics are: loss\n"
     ]
    },
    {
     "name": "stdout",
     "output_type": "stream",
     "text": [
      "\b\b\b\b\b\b\b\b\b\b\b\b\b\b\b\b\b\b\b\b\b\b\b\b\b\b\b\b\b\b\b\b\b\b\b\b\b\b\b\b\b\b\b\b\b\b\b\b\b\b\b\b\b\b\b\b\b\b\b\b\b\b\b\b\b\r",
      "183/183 [==============================] - 1s 4ms/step - loss: 0.7001\n",
      "Epoch 93/100\n",
      "176/183 [===========================>..] - ETA: 0s - loss: 0.6801"
     ]
    },
    {
     "name": "stderr",
     "output_type": "stream",
     "text": [
      "WARNING:tensorflow:Early stopping conditioned on metric `val_loss` which is not available. Available metrics are: loss\n"
     ]
    },
    {
     "name": "stdout",
     "output_type": "stream",
     "text": [
      "\b\b\b\b\b\b\b\b\b\b\b\b\b\b\b\b\b\b\b\b\b\b\b\b\b\b\b\b\b\b\b\b\b\b\b\b\b\b\b\b\b\b\b\b\b\b\b\b\b\b\b\b\b\b\b\b\b\b\b\b\b\b\b\b\b\r",
      "183/183 [==============================] - 1s 4ms/step - loss: 0.6814\n",
      "Epoch 94/100\n",
      "183/183 [==============================] - ETA: 0s - loss: 0.6760"
     ]
    },
    {
     "name": "stderr",
     "output_type": "stream",
     "text": [
      "WARNING:tensorflow:Early stopping conditioned on metric `val_loss` which is not available. Available metrics are: loss\n"
     ]
    },
    {
     "name": "stdout",
     "output_type": "stream",
     "text": [
      "\b\b\b\b\b\b\b\b\b\b\b\b\b\b\b\b\b\b\b\b\b\b\b\b\b\b\b\b\b\b\b\b\b\b\b\b\b\b\b\b\b\b\b\b\b\b\b\b\b\b\b\b\b\b\b\b\b\b\b\b\b\b\b\b\b\r",
      "183/183 [==============================] - 1s 4ms/step - loss: 0.6760\n",
      "Epoch 95/100\n",
      "177/183 [============================>.] - ETA: 0s - loss: 0.6945"
     ]
    },
    {
     "name": "stderr",
     "output_type": "stream",
     "text": [
      "WARNING:tensorflow:Early stopping conditioned on metric `val_loss` which is not available. Available metrics are: loss\n"
     ]
    },
    {
     "name": "stdout",
     "output_type": "stream",
     "text": [
      "\b\b\b\b\b\b\b\b\b\b\b\b\b\b\b\b\b\b\b\b\b\b\b\b\b\b\b\b\b\b\b\b\b\b\b\b\b\b\b\b\b\b\b\b\b\b\b\b\b\b\b\b\b\b\b\b\b\b\b\b\b\b\b\b\b\r",
      "183/183 [==============================] - 1s 4ms/step - loss: 0.6932\n",
      "Epoch 96/100\n",
      "177/183 [============================>.] - ETA: 0s - loss: 0.6811"
     ]
    },
    {
     "name": "stderr",
     "output_type": "stream",
     "text": [
      "WARNING:tensorflow:Early stopping conditioned on metric `val_loss` which is not available. Available metrics are: loss\n"
     ]
    },
    {
     "name": "stdout",
     "output_type": "stream",
     "text": [
      "\b\b\b\b\b\b\b\b\b\b\b\b\b\b\b\b\b\b\b\b\b\b\b\b\b\b\b\b\b\b\b\b\b\b\b\b\b\b\b\b\b\b\b\b\b\b\b\b\b\b\b\b\b\b\b\b\b\b\b\b\b\b\b\b\b\r",
      "183/183 [==============================] - 1s 4ms/step - loss: 0.6810\n",
      "Epoch 97/100\n",
      "177/183 [============================>.] - ETA: 0s - loss: 0.6756"
     ]
    },
    {
     "name": "stderr",
     "output_type": "stream",
     "text": [
      "WARNING:tensorflow:Early stopping conditioned on metric `val_loss` which is not available. Available metrics are: loss\n"
     ]
    },
    {
     "name": "stdout",
     "output_type": "stream",
     "text": [
      "\b\b\b\b\b\b\b\b\b\b\b\b\b\b\b\b\b\b\b\b\b\b\b\b\b\b\b\b\b\b\b\b\b\b\b\b\b\b\b\b\b\b\b\b\b\b\b\b\b\b\b\b\b\b\b\b\b\b\b\b\b\b\b\b\b\r",
      "183/183 [==============================] - 1s 4ms/step - loss: 0.6755\n",
      "Epoch 98/100\n",
      "181/183 [============================>.] - ETA: 0s - loss: 0.6776"
     ]
    },
    {
     "name": "stderr",
     "output_type": "stream",
     "text": [
      "WARNING:tensorflow:Early stopping conditioned on metric `val_loss` which is not available. Available metrics are: loss\n"
     ]
    },
    {
     "name": "stdout",
     "output_type": "stream",
     "text": [
      "\b\b\b\b\b\b\b\b\b\b\b\b\b\b\b\b\b\b\b\b\b\b\b\b\b\b\b\b\b\b\b\b\b\b\b\b\b\b\b\b\b\b\b\b\b\b\b\b\b\b\b\b\b\b\b\b\b\b\b\b\b\b\b\b\b\r",
      "183/183 [==============================] - 1s 7ms/step - loss: 0.6777\n",
      "Epoch 99/100\n",
      "176/183 [===========================>..] - ETA: 0s - loss: 0.6474"
     ]
    },
    {
     "name": "stderr",
     "output_type": "stream",
     "text": [
      "WARNING:tensorflow:Early stopping conditioned on metric `val_loss` which is not available. Available metrics are: loss\n"
     ]
    },
    {
     "name": "stdout",
     "output_type": "stream",
     "text": [
      "\b\b\b\b\b\b\b\b\b\b\b\b\b\b\b\b\b\b\b\b\b\b\b\b\b\b\b\b\b\b\b\b\b\b\b\b\b\b\b\b\b\b\b\b\b\b\b\b\b\b\b\b\b\b\b\b\b\b\b\b\b\b\b\b\b\r",
      "183/183 [==============================] - 3s 16ms/step - loss: 0.6481\n",
      "Epoch 100/100\n",
      "173/183 [===========================>..] - ETA: 0s - loss: 0.6693"
     ]
    },
    {
     "name": "stderr",
     "output_type": "stream",
     "text": [
      "WARNING:tensorflow:Early stopping conditioned on metric `val_loss` which is not available. Available metrics are: loss\n"
     ]
    },
    {
     "name": "stdout",
     "output_type": "stream",
     "text": [
      "\b\b\b\b\b\b\b\b\b\b\b\b\b\b\b\b\b\b\b\b\b\b\b\b\b\b\b\b\b\b\b\b\b\b\b\b\b\b\b\b\b\b\b\b\b\b\b\b\b\b\b\b\b\b\b\b\b\b\b\b\b\b\b\b\b\r",
      "183/183 [==============================] - 1s 4ms/step - loss: 0.6709\n"
     ]
    }
   ],
   "source": [
    "history = model.fit(X_train_ss, y_train, epochs=100, verbose=1, batch_size=32,\n",
    "    callbacks=[early_stopping])"
   ]
  },
  {
   "cell_type": "code",
   "execution_count": null,
   "id": "o9w-nK8iXg-q",
   "metadata": {
    "colab": {
     "base_uri": "https://localhost:8080/"
    },
    "id": "o9w-nK8iXg-q",
    "outputId": "ee418055-916c-4546-dfbf-f23575092aa1"
   },
   "outputs": [
    {
     "name": "stdout",
     "output_type": "stream",
     "text": [
      "46/46 [==============================] - 0s 3ms/step\n",
      "R^2 Score: 0.48759360336581115\n"
     ]
    }
   ],
   "source": [
    "\n",
    "# Make predictions on the validation set\n",
    "y_pred = model.predict(X_val_ss).flatten()\n",
    "\n",
    "# Calculate the R2 score\n",
    "r2 = r2_score(y_val, y_pred)\n",
    "\n",
    "print(f'R^2 Score: {r2}')"
   ]
  },
  {
   "cell_type": "markdown",
   "id": "i2pnbop5XhGu",
   "metadata": {
    "id": "i2pnbop5XhGu"
   },
   "source": [
    "Trying one more time with a even more powerful neural network."
   ]
  },
  {
   "cell_type": "code",
   "execution_count": null,
   "id": "azZZRevOCVp6",
   "metadata": {
    "id": "azZZRevOCVp6"
   },
   "outputs": [],
   "source": [
    "# random seeds for reproducibility\n",
    "tf.random.set_seed(123)\n",
    "\n",
    "# Create a new sequential model\n",
    "model = keras.Sequential()\n",
    "\n",
    "# Declare the hidden layers\n",
    "model.add(layers.Dense(256, activation=\"relu\", kernel_regularizer=keras.regularizers.l2(0.001)))\n",
    "model.add(layers.Dropout(0.3))\n",
    "model.add(layers.Dense(128, activation=\"relu\", kernel_regularizer=keras.regularizers.l2(0.001)))\n",
    "model.add(layers.Dropout(0.3))\n",
    "model.add(layers.Dense(64, activation=\"relu\", kernel_regularizer=keras.regularizers.l2(0.001)))\n",
    "model.add(layers.Dropout(0.3))\n",
    "model.add(layers.Dense(32, activation=\"relu\", kernel_regularizer=keras.regularizers.l2(0.001)))\n",
    "model.add(layers.Dropout(0.3))\n",
    "\n",
    "# Declare the output layer\n",
    "model.add(layers.Dense(1)) # For regression, we don't specify any activation function.\n",
    "\n",
    "# Compile the model\n",
    "model.compile(\n",
    "    # Optimizer\n",
    "    optimizer=keras.optimizers.Adam(learning_rate=0.0005),\n",
    "    # Loss function to minimize\n",
    "    loss=keras.losses.MeanSquaredError()\n",
    ")\n"
   ]
  },
  {
   "cell_type": "code",
   "execution_count": null,
   "id": "E9pTk0k8CWKR",
   "metadata": {
    "colab": {
     "base_uri": "https://localhost:8080/"
    },
    "id": "E9pTk0k8CWKR",
    "outputId": "19cb3138-885d-4b56-fe05-69960e42808e"
   },
   "outputs": [
    {
     "name": "stdout",
     "output_type": "stream",
     "text": [
      "Epoch 1/100\n",
      "337/337 [==============================] - 4s 7ms/step - loss: 12.3255\n",
      "Epoch 2/100\n",
      "337/337 [==============================] - 3s 8ms/step - loss: 8.2557\n",
      "Epoch 3/100\n",
      "337/337 [==============================] - 3s 8ms/step - loss: 7.1843\n",
      "Epoch 4/100\n",
      "337/337 [==============================] - 2s 6ms/step - loss: 6.5003\n",
      "Epoch 5/100\n",
      "337/337 [==============================] - 2s 6ms/step - loss: 6.0769\n",
      "Epoch 6/100\n",
      "337/337 [==============================] - 2s 6ms/step - loss: 5.6576\n",
      "Epoch 7/100\n",
      "337/337 [==============================] - 2s 6ms/step - loss: 5.3220\n",
      "Epoch 8/100\n",
      "337/337 [==============================] - 3s 9ms/step - loss: 5.0478\n",
      "Epoch 9/100\n",
      "337/337 [==============================] - 2s 6ms/step - loss: 4.7954\n",
      "Epoch 10/100\n",
      "337/337 [==============================] - 2s 6ms/step - loss: 4.5513\n",
      "Epoch 11/100\n",
      "337/337 [==============================] - 2s 7ms/step - loss: 4.3412\n",
      "Epoch 12/100\n",
      "337/337 [==============================] - 2s 7ms/step - loss: 4.2632\n",
      "Epoch 13/100\n",
      "337/337 [==============================] - 3s 8ms/step - loss: 4.0732\n",
      "Epoch 14/100\n",
      "337/337 [==============================] - 3s 8ms/step - loss: 3.9471\n",
      "Epoch 15/100\n",
      "337/337 [==============================] - 2s 6ms/step - loss: 3.7640\n",
      "Epoch 16/100\n",
      "337/337 [==============================] - 2s 7ms/step - loss: 3.7342\n",
      "Epoch 17/100\n",
      "337/337 [==============================] - 2s 7ms/step - loss: 3.6301\n",
      "Epoch 18/100\n",
      "337/337 [==============================] - 2s 7ms/step - loss: 3.5222\n",
      "Epoch 19/100\n",
      "337/337 [==============================] - 3s 10ms/step - loss: 3.3986\n",
      "Epoch 20/100\n",
      "337/337 [==============================] - 2s 7ms/step - loss: 3.3033\n",
      "Epoch 21/100\n",
      "337/337 [==============================] - 2s 6ms/step - loss: 3.3201\n",
      "Epoch 22/100\n",
      "337/337 [==============================] - 2s 7ms/step - loss: 3.1750\n",
      "Epoch 23/100\n",
      "337/337 [==============================] - 2s 7ms/step - loss: 3.2078\n",
      "Epoch 24/100\n",
      "337/337 [==============================] - 3s 9ms/step - loss: 3.0526\n",
      "Epoch 25/100\n",
      "337/337 [==============================] - 3s 7ms/step - loss: 3.0070\n",
      "Epoch 26/100\n",
      "337/337 [==============================] - 2s 6ms/step - loss: 2.9968\n",
      "Epoch 27/100\n",
      "337/337 [==============================] - 2s 7ms/step - loss: 2.9610\n",
      "Epoch 28/100\n",
      "337/337 [==============================] - 2s 6ms/step - loss: 2.9125\n",
      "Epoch 29/100\n",
      "337/337 [==============================] - 2s 7ms/step - loss: 2.8103\n",
      "Epoch 30/100\n",
      "337/337 [==============================] - 3s 9ms/step - loss: 2.7782\n",
      "Epoch 31/100\n",
      "337/337 [==============================] - 2s 7ms/step - loss: 2.7331\n",
      "Epoch 32/100\n",
      "337/337 [==============================] - 2s 7ms/step - loss: 2.6679\n",
      "Epoch 33/100\n",
      "337/337 [==============================] - 2s 7ms/step - loss: 2.6213\n",
      "Epoch 34/100\n",
      "337/337 [==============================] - 2s 7ms/step - loss: 2.5987\n",
      "Epoch 35/100\n",
      "337/337 [==============================] - 3s 9ms/step - loss: 2.5113\n",
      "Epoch 36/100\n",
      "337/337 [==============================] - 2s 6ms/step - loss: 2.4829\n",
      "Epoch 37/100\n",
      "337/337 [==============================] - 2s 6ms/step - loss: 2.4027\n",
      "Epoch 38/100\n",
      "337/337 [==============================] - 2s 6ms/step - loss: 2.3978\n",
      "Epoch 39/100\n",
      "337/337 [==============================] - 2s 7ms/step - loss: 2.3541\n",
      "Epoch 40/100\n",
      "337/337 [==============================] - 3s 7ms/step - loss: 2.2970\n",
      "Epoch 41/100\n",
      "337/337 [==============================] - 3s 9ms/step - loss: 2.2708\n",
      "Epoch 42/100\n",
      "337/337 [==============================] - 2s 6ms/step - loss: 2.2854\n",
      "Epoch 43/100\n",
      "337/337 [==============================] - 2s 6ms/step - loss: 2.2367\n",
      "Epoch 44/100\n",
      "337/337 [==============================] - 2s 6ms/step - loss: 2.1953\n",
      "Epoch 45/100\n",
      "337/337 [==============================] - 2s 6ms/step - loss: 2.1908\n",
      "Epoch 46/100\n",
      "337/337 [==============================] - 3s 9ms/step - loss: 2.1573\n",
      "Epoch 47/100\n",
      "337/337 [==============================] - 2s 7ms/step - loss: 2.0740\n",
      "Epoch 48/100\n",
      "337/337 [==============================] - 2s 6ms/step - loss: 2.0649\n",
      "Epoch 49/100\n",
      "337/337 [==============================] - 2s 6ms/step - loss: 2.0558\n",
      "Epoch 50/100\n",
      "337/337 [==============================] - 2s 6ms/step - loss: 2.0336\n",
      "Epoch 51/100\n",
      "337/337 [==============================] - 2s 7ms/step - loss: 1.9715\n",
      "Epoch 52/100\n",
      "337/337 [==============================] - 3s 10ms/step - loss: 1.9841\n",
      "Epoch 53/100\n",
      "337/337 [==============================] - 2s 7ms/step - loss: 1.9404\n",
      "Epoch 54/100\n",
      "337/337 [==============================] - 2s 6ms/step - loss: 1.9295\n",
      "Epoch 55/100\n",
      "337/337 [==============================] - 2s 6ms/step - loss: 1.9326\n",
      "Epoch 56/100\n",
      "337/337 [==============================] - 2s 6ms/step - loss: 1.8578\n",
      "Epoch 57/100\n",
      "337/337 [==============================] - 3s 9ms/step - loss: 1.8709\n",
      "Epoch 58/100\n",
      "337/337 [==============================] - 3s 7ms/step - loss: 1.8319\n",
      "Epoch 59/100\n",
      "337/337 [==============================] - 2s 6ms/step - loss: 1.8158\n",
      "Epoch 60/100\n",
      "337/337 [==============================] - 2s 6ms/step - loss: 1.8119\n",
      "Epoch 61/100\n",
      "337/337 [==============================] - 2s 6ms/step - loss: 1.7823\n",
      "Epoch 62/100\n",
      "337/337 [==============================] - 2s 6ms/step - loss: 1.8025\n",
      "Epoch 63/100\n",
      "337/337 [==============================] - 3s 9ms/step - loss: 1.7670\n",
      "Epoch 64/100\n",
      "337/337 [==============================] - 2s 6ms/step - loss: 1.7428\n",
      "Epoch 65/100\n",
      "337/337 [==============================] - 2s 6ms/step - loss: 1.7015\n",
      "Epoch 66/100\n",
      "337/337 [==============================] - 2s 6ms/step - loss: 1.7076\n",
      "Epoch 67/100\n",
      "337/337 [==============================] - 2s 6ms/step - loss: 1.6990\n",
      "Epoch 68/100\n",
      "337/337 [==============================] - 2s 6ms/step - loss: 1.7068\n",
      "Epoch 69/100\n",
      "337/337 [==============================] - 3s 9ms/step - loss: 1.6765\n",
      "Epoch 70/100\n",
      "337/337 [==============================] - 2s 6ms/step - loss: 1.6805\n",
      "Epoch 71/100\n",
      "337/337 [==============================] - 2s 6ms/step - loss: 1.6590\n",
      "Epoch 72/100\n",
      "337/337 [==============================] - 2s 6ms/step - loss: 1.6609\n",
      "Epoch 73/100\n",
      "337/337 [==============================] - 2s 6ms/step - loss: 1.6348\n",
      "Epoch 74/100\n",
      "337/337 [==============================] - 3s 8ms/step - loss: 1.6171\n",
      "Epoch 75/100\n",
      "337/337 [==============================] - 3s 8ms/step - loss: 1.6471\n",
      "Epoch 76/100\n",
      "337/337 [==============================] - 2s 6ms/step - loss: 1.5814\n",
      "Epoch 77/100\n",
      "337/337 [==============================] - 2s 6ms/step - loss: 1.6346\n",
      "Epoch 78/100\n",
      "337/337 [==============================] - 2s 6ms/step - loss: 1.5849\n",
      "Epoch 79/100\n",
      "337/337 [==============================] - 2s 6ms/step - loss: 1.5923\n",
      "Epoch 80/100\n",
      "337/337 [==============================] - 3s 8ms/step - loss: 1.5531\n",
      "Epoch 81/100\n",
      "337/337 [==============================] - 3s 7ms/step - loss: 1.5201\n",
      "Epoch 82/100\n",
      "337/337 [==============================] - 2s 6ms/step - loss: 1.5363\n",
      "Epoch 83/100\n",
      "337/337 [==============================] - 2s 6ms/step - loss: 1.5316\n",
      "Epoch 84/100\n",
      "337/337 [==============================] - 2s 6ms/step - loss: 1.5266\n",
      "Epoch 85/100\n",
      "337/337 [==============================] - 2s 6ms/step - loss: 1.5430\n",
      "Epoch 86/100\n",
      "337/337 [==============================] - 3s 9ms/step - loss: 1.5170\n",
      "Epoch 87/100\n",
      "337/337 [==============================] - 2s 7ms/step - loss: 1.5144\n",
      "Epoch 88/100\n",
      "337/337 [==============================] - 2s 6ms/step - loss: 1.5317\n",
      "Epoch 89/100\n",
      "337/337 [==============================] - 2s 6ms/step - loss: 1.5035\n",
      "Epoch 90/100\n",
      "337/337 [==============================] - 2s 6ms/step - loss: 1.4996\n",
      "Epoch 91/100\n",
      "337/337 [==============================] - 2s 6ms/step - loss: 1.4972\n",
      "Epoch 92/100\n",
      "337/337 [==============================] - 3s 10ms/step - loss: 1.4679\n",
      "Epoch 93/100\n",
      "337/337 [==============================] - 2s 6ms/step - loss: 1.4694\n",
      "Epoch 94/100\n",
      "337/337 [==============================] - 2s 6ms/step - loss: 1.4871\n",
      "Epoch 95/100\n",
      "337/337 [==============================] - 2s 6ms/step - loss: 1.4927\n",
      "Epoch 96/100\n",
      "337/337 [==============================] - 2s 6ms/step - loss: 1.4574\n",
      "Epoch 97/100\n",
      "337/337 [==============================] - 2s 7ms/step - loss: 1.4556\n",
      "Epoch 98/100\n",
      "337/337 [==============================] - 3s 9ms/step - loss: 1.4446\n",
      "Epoch 99/100\n",
      "337/337 [==============================] - 2s 6ms/step - loss: 1.4569\n",
      "Epoch 100/100\n",
      "337/337 [==============================] - 2s 6ms/step - loss: 1.4392\n"
     ]
    }
   ],
   "source": [
    "# Train the model\n",
    "history = model.fit(X_train_ss, y_train, epochs=100, verbose=1, batch_size=32)"
   ]
  },
  {
   "cell_type": "code",
   "execution_count": null,
   "id": "K-YIwH2-CWQb",
   "metadata": {
    "colab": {
     "base_uri": "https://localhost:8080/"
    },
    "id": "K-YIwH2-CWQb",
    "outputId": "ee5900dc-3333-4770-8c79-0e769e83ac9f"
   },
   "outputs": [
    {
     "name": "stdout",
     "output_type": "stream",
     "text": [
      "Train Loss: 1.4392\n",
      "Test Loss: 3.4084\n"
     ]
    }
   ],
   "source": [
    "# Cell 2: Evaluate the model and generate predictions\n",
    "train_loss = history.history[\"loss\"][-1]\n",
    "result = model.evaluate(X_val_ss, y_val, verbose=0)\n",
    "\n",
    "print(f\"Train Loss: {train_loss:.4f}\")\n",
    "print(f\"Test Loss: {result:.4f}\")\n"
   ]
  },
  {
   "cell_type": "code",
   "execution_count": null,
   "id": "lmbEcqSyCWXs",
   "metadata": {
    "colab": {
     "base_uri": "https://localhost:8080/"
    },
    "id": "lmbEcqSyCWXs",
    "outputId": "7831c2e8-944e-44f8-ac59-6ad9d4816040"
   },
   "outputs": [
    {
     "data": {
      "text/plain": [
       "3.408396005630493"
      ]
     },
     "execution_count": 37,
     "metadata": {},
     "output_type": "execute_result"
    }
   ],
   "source": [
    "result"
   ]
  },
  {
   "cell_type": "code",
   "execution_count": null,
   "id": "jY3nrgH8CWeQ",
   "metadata": {
    "colab": {
     "base_uri": "https://localhost:8080/"
    },
    "id": "jY3nrgH8CWeQ",
    "outputId": "82a4c77f-1e7d-4292-fabb-0b1106fb7799"
   },
   "outputs": [
    {
     "name": "stdout",
     "output_type": "stream",
     "text": [
      "85/85 [==============================] - 0s 4ms/step\n",
      "R^2 Score: 0.513278343640384\n"
     ]
    }
   ],
   "source": [
    "# Make predictions on the validation set\n",
    "y_pred = model.predict(X_val_ss)\n",
    "\n",
    "# Calculate the R2 score\n",
    "r2 = r2_score(y_val, y_pred)\n",
    "\n",
    "print(f'R^2 Score: {r2}')"
   ]
  },
  {
   "cell_type": "markdown",
   "id": "5a1ec8d4",
   "metadata": {
    "id": "03GuOd4TCWkF"
   },
   "source": [
    "This is our best score so far in the neural network modelling. We can add even more layers to try and improve the R2 score, though I'm not convinced that doing so will significantly increase the R2 score to get it close to what we were getting with XGBoost (0.607), so I'm going to stop here."
   ]
  },
  {
   "cell_type": "markdown",
   "id": "44a5e12e",
   "metadata": {},
   "source": [
    "### 6"
   ]
  },
  {
   "cell_type": "markdown",
   "id": "QxnyZHABCWp5",
   "metadata": {
    "id": "QxnyZHABCWp5"
   },
   "source": [
    "### Modeling IMDB Score with Tensor Flow"
   ]
  },
  {
   "cell_type": "markdown",
   "id": "6yIsvAkQPqx2",
   "metadata": {
    "id": "6yIsvAkQPqx2"
   },
   "source": [
    "Running a neural network for a multi-class class classification is not as straightforward as a regression problem or a binary classification. So I'm going to try using the neural network in this instance for our original regression problem for IMDB score, without creating the 5 different classes."
   ]
  },
  {
   "cell_type": "code",
   "execution_count": null,
   "id": "S_o5V0wfjTGX",
   "metadata": {
    "id": "S_o5V0wfjTGX"
   },
   "outputs": [],
   "source": [
    "#The _log part here doesn't matter as we're dropping the IMDB votes column anyway\n",
    "#This is just the file that we read in the csv from, after the word embedding\n",
    "\n",
    "C = df_log.drop(columns = ['imdb_score','imdb_votes'])\n",
    "d = df_log['imdb_score']"
   ]
  },
  {
   "cell_type": "code",
   "execution_count": null,
   "id": "PdBmqBAjleRD",
   "metadata": {
    "colab": {
     "base_uri": "https://localhost:8080/"
    },
    "id": "PdBmqBAjleRD",
    "outputId": "47e6f21d-c391-419e-9061-f2f1affc343c"
   },
   "outputs": [
    {
     "data": {
      "text/plain": [
       "0    8.2\n",
       "1    7.7\n",
       "Name: imdb_score, dtype: float64"
      ]
     },
     "execution_count": 56,
     "metadata": {},
     "output_type": "execute_result"
    }
   ],
   "source": [
    "d.head(2)"
   ]
  },
  {
   "cell_type": "code",
   "execution_count": null,
   "id": "EDvmLItYlet7",
   "metadata": {
    "id": "EDvmLItYlet7"
   },
   "outputs": [],
   "source": [
    "# Split the data into remainder and testing sets\n",
    "C_rem, C_test, d_rem, d_test = train_test_split(C, d, test_size=0.2, random_state=42)\n",
    "\n",
    "# Split the remainder into training and validation sets\n",
    "C_train, C_val, d_train, d_val = train_test_split(C_rem, d_rem, \\\n",
    "                                                    test_size=0.2, random_state=42)\n"
   ]
  },
  {
   "cell_type": "code",
   "execution_count": null,
   "id": "nJrrMps0lfJv",
   "metadata": {
    "id": "nJrrMps0lfJv"
   },
   "outputs": [],
   "source": [
    "scaler = StandardScaler().fit(C_train)\n",
    "\n",
    "C_train_ss = scaler.transform(C_train)\n",
    "C_val_ss = scaler.transform(C_val)"
   ]
  },
  {
   "cell_type": "markdown",
   "id": "b924b50f",
   "metadata": {},
   "source": [
    "Using a neural network with the same configurations as our most recent iteration for the IMDB votes modeling."
   ]
  },
  {
   "cell_type": "code",
   "execution_count": null,
   "id": "8E5t4wiElfQH",
   "metadata": {
    "id": "8E5t4wiElfQH"
   },
   "outputs": [],
   "source": [
    "# random seeds for reproducibility\n",
    "tf.random.set_seed(123)\n",
    "\n",
    "# Create a new sequential model\n",
    "model = keras.Sequential()\n",
    "\n",
    "# Declare the hidden layers\n",
    "model.add(layers.Dense(256, activation=\"relu\", kernel_regularizer=keras.regularizers.l2(0.001)))\n",
    "model.add(layers.Dropout(0.3))\n",
    "model.add(layers.Dense(128, activation=\"relu\", kernel_regularizer=keras.regularizers.l2(0.001)))\n",
    "model.add(layers.Dropout(0.3))\n",
    "model.add(layers.Dense(64, activation=\"relu\", kernel_regularizer=keras.regularizers.l2(0.001)))\n",
    "model.add(layers.Dropout(0.3))\n",
    "model.add(layers.Dense(32, activation=\"relu\", kernel_regularizer=keras.regularizers.l2(0.001)))\n",
    "model.add(layers.Dropout(0.3))\n",
    "\n",
    "# Declare the output layer\n",
    "model.add(layers.Dense(1)) # For regression, we don't specify any activation function.\n",
    "\n",
    "# Compile the model\n",
    "model.compile(\n",
    "    # Optimizer\n",
    "    optimizer=keras.optimizers.Adam(learning_rate=0.0005),\n",
    "    # Loss function to minimize\n",
    "    loss=keras.losses.MeanSquaredError()\n",
    ")"
   ]
  },
  {
   "cell_type": "code",
   "execution_count": null,
   "id": "fUc4KV6slfVl",
   "metadata": {
    "colab": {
     "base_uri": "https://localhost:8080/"
    },
    "id": "fUc4KV6slfVl",
    "outputId": "e111437e-5eaa-42f1-8218-c24edb7f7095"
   },
   "outputs": [
    {
     "name": "stdout",
     "output_type": "stream",
     "text": [
      "Epoch 1/100\n",
      "337/337 [==============================] - 6s 8ms/step - loss: 7.4627\n",
      "Epoch 2/100\n",
      "337/337 [==============================] - 2s 6ms/step - loss: 4.7839\n",
      "Epoch 3/100\n",
      "337/337 [==============================] - 2s 6ms/step - loss: 4.0341\n",
      "Epoch 4/100\n",
      "337/337 [==============================] - 2s 7ms/step - loss: 3.6859\n",
      "Epoch 5/100\n",
      "337/337 [==============================] - 4s 10ms/step - loss: 3.4401\n",
      "Epoch 6/100\n",
      "337/337 [==============================] - 3s 9ms/step - loss: 3.1662\n",
      "Epoch 7/100\n",
      "337/337 [==============================] - 3s 10ms/step - loss: 2.9845\n",
      "Epoch 8/100\n",
      "337/337 [==============================] - 2s 6ms/step - loss: 2.8419\n",
      "Epoch 9/100\n",
      "337/337 [==============================] - 4s 13ms/step - loss: 2.6465\n",
      "Epoch 10/100\n",
      "337/337 [==============================] - 4s 12ms/step - loss: 2.4949\n",
      "Epoch 11/100\n",
      "337/337 [==============================] - 5s 13ms/step - loss: 2.4261\n",
      "Epoch 12/100\n",
      "337/337 [==============================] - 4s 11ms/step - loss: 2.3228\n",
      "Epoch 13/100\n",
      "337/337 [==============================] - 4s 12ms/step - loss: 2.2370\n",
      "Epoch 14/100\n",
      "337/337 [==============================] - 4s 10ms/step - loss: 2.1661\n",
      "Epoch 15/100\n",
      "337/337 [==============================] - 2s 6ms/step - loss: 2.0929\n",
      "Epoch 16/100\n",
      "337/337 [==============================] - 2s 6ms/step - loss: 2.0124\n",
      "Epoch 17/100\n",
      "337/337 [==============================] - 4s 11ms/step - loss: 1.9424\n",
      "Epoch 18/100\n",
      "337/337 [==============================] - 2s 7ms/step - loss: 1.9031\n",
      "Epoch 19/100\n",
      "337/337 [==============================] - 2s 6ms/step - loss: 1.8214\n",
      "Epoch 20/100\n",
      "337/337 [==============================] - 2s 7ms/step - loss: 1.7667\n",
      "Epoch 21/100\n",
      "337/337 [==============================] - 2s 7ms/step - loss: 1.7158\n",
      "Epoch 22/100\n",
      "337/337 [==============================] - 3s 10ms/step - loss: 1.6531\n",
      "Epoch 23/100\n",
      "337/337 [==============================] - 2s 6ms/step - loss: 1.6130\n",
      "Epoch 24/100\n",
      "337/337 [==============================] - 2s 6ms/step - loss: 1.5522\n",
      "Epoch 25/100\n",
      "337/337 [==============================] - 2s 6ms/step - loss: 1.5239\n",
      "Epoch 26/100\n",
      "337/337 [==============================] - 2s 6ms/step - loss: 1.4797\n",
      "Epoch 27/100\n",
      "337/337 [==============================] - 3s 8ms/step - loss: 1.4302\n",
      "Epoch 28/100\n",
      "337/337 [==============================] - 3s 8ms/step - loss: 1.3911\n",
      "Epoch 29/100\n",
      "337/337 [==============================] - 2s 6ms/step - loss: 1.3538\n",
      "Epoch 30/100\n",
      "337/337 [==============================] - 2s 6ms/step - loss: 1.3232\n",
      "Epoch 31/100\n",
      "337/337 [==============================] - 3s 8ms/step - loss: 1.3016\n",
      "Epoch 32/100\n",
      "337/337 [==============================] - 3s 8ms/step - loss: 1.2521\n",
      "Epoch 33/100\n",
      "337/337 [==============================] - 3s 9ms/step - loss: 1.2230\n",
      "Epoch 34/100\n",
      "337/337 [==============================] - 2s 6ms/step - loss: 1.1982\n",
      "Epoch 35/100\n",
      "337/337 [==============================] - 2s 7ms/step - loss: 1.1624\n",
      "Epoch 36/100\n",
      "337/337 [==============================] - 2s 6ms/step - loss: 1.1416\n",
      "Epoch 37/100\n",
      "337/337 [==============================] - 2s 6ms/step - loss: 1.0991\n",
      "Epoch 38/100\n",
      "337/337 [==============================] - 3s 9ms/step - loss: 1.1097\n",
      "Epoch 39/100\n",
      "337/337 [==============================] - 2s 7ms/step - loss: 1.0610\n",
      "Epoch 40/100\n",
      "337/337 [==============================] - 2s 6ms/step - loss: 1.0393\n",
      "Epoch 41/100\n",
      "337/337 [==============================] - 2s 7ms/step - loss: 1.0240\n",
      "Epoch 42/100\n",
      "337/337 [==============================] - 2s 6ms/step - loss: 1.0095\n",
      "Epoch 43/100\n",
      "337/337 [==============================] - 3s 8ms/step - loss: 0.9734\n",
      "Epoch 44/100\n",
      "337/337 [==============================] - 3s 9ms/step - loss: 0.9594\n",
      "Epoch 45/100\n",
      "337/337 [==============================] - 2s 6ms/step - loss: 0.9417\n",
      "Epoch 46/100\n",
      "337/337 [==============================] - 2s 7ms/step - loss: 0.9157\n",
      "Epoch 47/100\n",
      "337/337 [==============================] - 2s 6ms/step - loss: 0.8928\n",
      "Epoch 48/100\n",
      "337/337 [==============================] - 2s 6ms/step - loss: 0.8928\n",
      "Epoch 49/100\n",
      "337/337 [==============================] - 3s 9ms/step - loss: 0.8773\n",
      "Epoch 50/100\n",
      "337/337 [==============================] - 2s 6ms/step - loss: 0.8700\n",
      "Epoch 51/100\n",
      "337/337 [==============================] - 2s 6ms/step - loss: 0.8403\n",
      "Epoch 52/100\n",
      "337/337 [==============================] - 3s 10ms/step - loss: 0.8292\n",
      "Epoch 53/100\n",
      "337/337 [==============================] - 2s 6ms/step - loss: 0.8082\n",
      "Epoch 54/100\n",
      "337/337 [==============================] - 3s 9ms/step - loss: 0.8137\n",
      "Epoch 55/100\n",
      "337/337 [==============================] - 2s 7ms/step - loss: 0.8008\n",
      "Epoch 56/100\n",
      "337/337 [==============================] - 2s 7ms/step - loss: 0.7799\n",
      "Epoch 57/100\n",
      "337/337 [==============================] - 2s 7ms/step - loss: 0.7708\n",
      "Epoch 58/100\n",
      "337/337 [==============================] - 2s 6ms/step - loss: 0.7593\n",
      "Epoch 59/100\n",
      "337/337 [==============================] - 3s 8ms/step - loss: 0.7528\n",
      "Epoch 60/100\n",
      "337/337 [==============================] - 3s 8ms/step - loss: 0.7404\n",
      "Epoch 61/100\n",
      "337/337 [==============================] - 2s 7ms/step - loss: 0.7331\n",
      "Epoch 62/100\n",
      "337/337 [==============================] - 2s 6ms/step - loss: 0.7260\n",
      "Epoch 63/100\n",
      "337/337 [==============================] - 2s 6ms/step - loss: 0.7048\n",
      "Epoch 64/100\n",
      "337/337 [==============================] - 2s 6ms/step - loss: 0.6983\n",
      "Epoch 65/100\n",
      "337/337 [==============================] - 3s 10ms/step - loss: 0.7014\n",
      "Epoch 66/100\n",
      "337/337 [==============================] - 2s 6ms/step - loss: 0.6866\n",
      "Epoch 67/100\n",
      "337/337 [==============================] - 2s 6ms/step - loss: 0.6720\n",
      "Epoch 68/100\n",
      "337/337 [==============================] - 2s 6ms/step - loss: 0.6777\n",
      "Epoch 69/100\n",
      "337/337 [==============================] - 2s 6ms/step - loss: 0.6766\n",
      "Epoch 70/100\n",
      "337/337 [==============================] - 3s 7ms/step - loss: 0.6687\n",
      "Epoch 71/100\n",
      "337/337 [==============================] - 3s 8ms/step - loss: 0.6632\n",
      "Epoch 72/100\n",
      "337/337 [==============================] - 2s 6ms/step - loss: 0.6556\n",
      "Epoch 73/100\n",
      "337/337 [==============================] - 2s 6ms/step - loss: 0.6443\n",
      "Epoch 74/100\n",
      "337/337 [==============================] - 2s 6ms/step - loss: 0.6451\n",
      "Epoch 75/100\n",
      "337/337 [==============================] - 2s 6ms/step - loss: 0.6443\n",
      "Epoch 76/100\n",
      "337/337 [==============================] - 4s 12ms/step - loss: 0.6481\n",
      "Epoch 77/100\n",
      "337/337 [==============================] - 2s 6ms/step - loss: 0.6244\n",
      "Epoch 78/100\n",
      "337/337 [==============================] - 2s 6ms/step - loss: 0.6299\n",
      "Epoch 79/100\n",
      "337/337 [==============================] - 2s 6ms/step - loss: 0.6278\n",
      "Epoch 80/100\n",
      "337/337 [==============================] - 2s 6ms/step - loss: 0.6226\n",
      "Epoch 81/100\n",
      "337/337 [==============================] - 3s 9ms/step - loss: 0.6205\n",
      "Epoch 82/100\n",
      "337/337 [==============================] - 3s 8ms/step - loss: 0.6125\n",
      "Epoch 83/100\n",
      "337/337 [==============================] - 2s 6ms/step - loss: 0.6122\n",
      "Epoch 84/100\n",
      "337/337 [==============================] - 2s 7ms/step - loss: 0.6096\n",
      "Epoch 85/100\n",
      "337/337 [==============================] - 2s 7ms/step - loss: 0.5948\n",
      "Epoch 86/100\n",
      "337/337 [==============================] - 2s 7ms/step - loss: 0.5932\n",
      "Epoch 87/100\n",
      "337/337 [==============================] - 3s 9ms/step - loss: 0.5954\n",
      "Epoch 88/100\n",
      "337/337 [==============================] - 2s 6ms/step - loss: 0.5965\n",
      "Epoch 89/100\n",
      "337/337 [==============================] - 2s 6ms/step - loss: 0.5841\n",
      "Epoch 90/100\n",
      "337/337 [==============================] - 2s 6ms/step - loss: 0.5838\n",
      "Epoch 91/100\n",
      "337/337 [==============================] - 2s 6ms/step - loss: 0.5851\n",
      "Epoch 92/100\n",
      "337/337 [==============================] - 3s 8ms/step - loss: 0.5967\n",
      "Epoch 93/100\n",
      "337/337 [==============================] - 3s 8ms/step - loss: 0.5933\n",
      "Epoch 94/100\n",
      "337/337 [==============================] - 2s 7ms/step - loss: 0.5770\n",
      "Epoch 95/100\n",
      "337/337 [==============================] - 2s 6ms/step - loss: 0.5756\n",
      "Epoch 96/100\n",
      "337/337 [==============================] - 3s 8ms/step - loss: 0.5718\n",
      "Epoch 97/100\n",
      "337/337 [==============================] - 3s 10ms/step - loss: 0.5779\n",
      "Epoch 98/100\n",
      "337/337 [==============================] - 3s 8ms/step - loss: 0.5660\n",
      "Epoch 99/100\n",
      "337/337 [==============================] - 2s 7ms/step - loss: 0.5661\n",
      "Epoch 100/100\n",
      "337/337 [==============================] - 2s 6ms/step - loss: 0.5823\n"
     ]
    }
   ],
   "source": [
    "# Train the model\n",
    "history = model.fit(C_train_ss, d_train, epochs=100, verbose=1, batch_size=32)"
   ]
  },
  {
   "cell_type": "code",
   "execution_count": null,
   "id": "4PKvXb0ilfaB",
   "metadata": {
    "colab": {
     "base_uri": "https://localhost:8080/"
    },
    "id": "4PKvXb0ilfaB",
    "outputId": "440ebb21-3a2e-42c8-d32e-99de00c6a1a9"
   },
   "outputs": [
    {
     "name": "stdout",
     "output_type": "stream",
     "text": [
      "Train Loss: 0.5823\n",
      "Test Loss: 1.3115\n",
      "85/85 [==============================] - 0s 2ms/step\n",
      "R^2 Score: 0.319510306657088\n"
     ]
    }
   ],
   "source": [
    "# Cell 2: Evaluate the model and generate predictions\n",
    "train_loss = history.history[\"loss\"][-1]\n",
    "result = model.evaluate(C_val_ss, d_val, verbose=0)\n",
    "\n",
    "print(f\"Train Loss: {train_loss:.4f}\")\n",
    "print(f\"Test Loss: {result:.4f}\")\n",
    "\n",
    "# Make predictions on the validation set\n",
    "d_pred = model.predict(C_val_ss)\n",
    "\n",
    "# Calculate the R2 score\n",
    "r2 = r2_score(d_val, d_pred)\n",
    "\n",
    "print(f'R^2 Score: {r2}')"
   ]
  },
  {
   "cell_type": "markdown",
   "id": "8a3b5831",
   "metadata": {
    "id": "ea9p5_CYlfdv"
   },
   "source": [
    "Similar to the IMDB votes modeling,  we can add even more layers to try and improve the R2 score. However this R2 score is still quite far away from the 0.514 score for the XGBoost model, and I'm not convinced that adding more complexity to the neural network model will increase the score that much. For that reason, stopping the modeling here."
   ]
  },
  {
   "cell_type": "markdown",
   "id": "67d01ea3",
   "metadata": {},
   "source": [
    "### 7"
   ]
  },
  {
   "cell_type": "markdown",
   "id": "01a3a510",
   "metadata": {
    "id": "8egnI6Wglfkg"
   },
   "source": [
    "### Conclusion"
   ]
  },
  {
   "cell_type": "markdown",
   "id": "20516b85",
   "metadata": {
    "id": "BraYaI_clfnh"
   },
   "source": [
    "Using word embeddings was an interesting alternate approach to the Count Vectorizer, though ultimately the Description and Title columns are not huge predictors of either IMDB score or votes. We also tried neural networks on both IMDB Votes and Score but ultimately could not approach the results we were getting with XGBoost."
   ]
  }
 ],
 "metadata": {
  "colab": {
   "provenance": []
  },
  "kernelspec": {
   "display_name": "Python 3 (ipykernel)",
   "language": "python",
   "name": "python3"
  },
  "language_info": {
   "codemirror_mode": {
    "name": "ipython",
    "version": 3
   },
   "file_extension": ".py",
   "mimetype": "text/x-python",
   "name": "python",
   "nbconvert_exporter": "python",
   "pygments_lexer": "ipython3",
   "version": "3.9.13"
  }
 },
 "nbformat": 4,
 "nbformat_minor": 5
}
