{
 "cells": [
  {
   "cell_type": "markdown",
   "id": "f4aed931-5e00-4a17-966d-320649a23211",
   "metadata": {},
   "source": [
    "## Capstone Modeling"
   ]
  },
  {
   "cell_type": "code",
   "execution_count": 1,
   "id": "7b10c9bc-bf1d-4ec9-aa3b-afc89571e876",
   "metadata": {},
   "outputs": [],
   "source": [
    "# Installing Basic packages\n",
    "import numpy as np\n",
    "import pandas as pd\n",
    "import matplotlib.pyplot as plt\n",
    "import seaborn as sns\n",
    "\n",
    "# To split the data as necessary for modelling\n",
    "from sklearn.model_selection import train_test_split\n",
    "\n",
    "# To get rid of logistic regression default solver warnings that appear if sklearn hasn't been updated\n",
    "import warnings\n",
    "warnings.filterwarnings('ignore')\n",
    "\n",
    "# To \"pickle\" things, like accuracies or even an entire fitted model\n",
    "import joblib\n",
    "\n",
    "# To cross-validate\n",
    "from sklearn.model_selection import cross_val_score\n",
    "\n",
    "# To set up a temporary directory for caching pipeline results\n",
    "from tempfile import mkdtemp\n",
    "\n",
    "# To build a pipeline\n",
    "from sklearn.pipeline import Pipeline\n",
    "\n",
    "# To try scaling the data in various ways\n",
    "from sklearn.preprocessing import StandardScaler\n",
    "from sklearn.preprocessing import MinMaxScaler\n",
    "from sklearn.preprocessing import RobustScaler\n",
    "\n",
    "# To try dimensionality reduction\n",
    "from sklearn.decomposition import PCA\n",
    "\n",
    "# To do a cross-validated grid search\n",
    "from sklearn.model_selection import GridSearchCV"
   ]
  },
  {
   "cell_type": "code",
   "execution_count": 46,
   "id": "2830b9c4-0bc3-4a17-95e3-ab1afea487b4",
   "metadata": {},
   "outputs": [],
   "source": [
    "df = pd.read_csv('data/ready_for_modeling.csv')"
   ]
  },
  {
   "cell_type": "markdown",
   "id": "f39364cf-f96d-41e6-afde-2241750e7581",
   "metadata": {},
   "source": [
    "Focusing only on the IMDB score column for now"
   ]
  },
  {
   "cell_type": "code",
   "execution_count": 47,
   "id": "07d65aea-7d2e-4288-8fda-da0321c67743",
   "metadata": {},
   "outputs": [],
   "source": [
    "X = df.drop(columns = ['imdb_score','imdb_votes'])\n",
    "y = df['imdb_score']"
   ]
  },
  {
   "cell_type": "code",
   "execution_count": 48,
   "id": "08a629d9-a76d-4238-91d2-75ce5767e819",
   "metadata": {},
   "outputs": [
    {
     "data": {
      "text/plain": [
       "0        8.2\n",
       "1        7.7\n",
       "2        8.2\n",
       "3        7.7\n",
       "4        7.7\n",
       "        ... \n",
       "17042    8.4\n",
       "17043    3.9\n",
       "17044    4.0\n",
       "17045    5.3\n",
       "17046    8.4\n",
       "Name: imdb_score, Length: 17047, dtype: float64"
      ]
     },
     "execution_count": 48,
     "metadata": {},
     "output_type": "execute_result"
    }
   ],
   "source": [
    "y"
   ]
  },
  {
   "cell_type": "code",
   "execution_count": 49,
   "id": "b76bce2e-d9d0-4bc9-bc22-6be8557f5b85",
   "metadata": {},
   "outputs": [],
   "source": [
    "#Not using stratify=y as giving an error, plus this is a regression problem\n",
    "#not a classification one\n",
    "\n",
    "X_rem, X_test, y_rem, y_test = \\\n",
    "train_test_split(X, y, \\\n",
    "                 test_size=0.25, random_state=23)"
   ]
  },
  {
   "cell_type": "markdown",
   "id": "e6966e9e-073d-4d11-8418-1c758a1accd5",
   "metadata": {},
   "source": [
    "Further splitting into train and validation."
   ]
  },
  {
   "cell_type": "code",
   "execution_count": 50,
   "id": "b343933c-d95b-4dd2-9f62-029d421a552f",
   "metadata": {},
   "outputs": [],
   "source": [
    "X_train, X_val, y_train, y_val = \\\n",
    "train_test_split(X_rem, y_rem, \\\n",
    "                 test_size=0.2, random_state=23)"
   ]
  },
  {
   "cell_type": "code",
   "execution_count": 11,
   "id": "c3bcb2a7-7b17-41ad-ae41-f0db36c03630",
   "metadata": {},
   "outputs": [],
   "source": [
    "from sklearn.linear_model import LogisticRegression"
   ]
  },
  {
   "cell_type": "code",
   "execution_count": 12,
   "id": "5745feb6-0375-415e-a2bd-945a43e7eccd",
   "metadata": {},
   "outputs": [
    {
     "ename": "ValueError",
     "evalue": "Unknown label type: 'continuous'",
     "output_type": "error",
     "traceback": [
      "\u001b[0;31m---------------------------------------------------------------------------\u001b[0m",
      "\u001b[0;31mValueError\u001b[0m                                Traceback (most recent call last)",
      "Cell \u001b[0;32mIn[12], line 5\u001b[0m\n\u001b[1;32m      1\u001b[0m logreg \u001b[38;5;241m=\u001b[39m LogisticRegression(solver \u001b[38;5;241m=\u001b[39m \u001b[38;5;124m'\u001b[39m\u001b[38;5;124mlbfgs\u001b[39m\u001b[38;5;124m'\u001b[39m, max_iter\u001b[38;5;241m=\u001b[39m\u001b[38;5;241m10000\u001b[39m) \n\u001b[1;32m      2\u001b[0m \u001b[38;5;66;03m#this is the default solver anyway, but specifying it here as it's asked int he question\u001b[39;00m\n\u001b[1;32m      3\u001b[0m \n\u001b[1;32m      4\u001b[0m \u001b[38;5;66;03m# Fitting to the test data\u001b[39;00m\n\u001b[0;32m----> 5\u001b[0m \u001b[43mlogreg\u001b[49m\u001b[38;5;241;43m.\u001b[39;49m\u001b[43mfit\u001b[49m\u001b[43m(\u001b[49m\u001b[43mX_train\u001b[49m\u001b[43m,\u001b[49m\u001b[43my_train\u001b[49m\u001b[43m)\u001b[49m\n\u001b[1;32m      8\u001b[0m \u001b[38;5;66;03m# Scoring on train and test sets\u001b[39;00m\n\u001b[1;32m     10\u001b[0m \u001b[38;5;28mprint\u001b[39m(\u001b[38;5;124mf\u001b[39m\u001b[38;5;124m'\u001b[39m\u001b[38;5;124mTrain Score: \u001b[39m\u001b[38;5;132;01m{\u001b[39;00mlogreg\u001b[38;5;241m.\u001b[39mscore(X_train, y_train)\u001b[38;5;132;01m}\u001b[39;00m\u001b[38;5;124m'\u001b[39m)\n",
      "File \u001b[0;32m~/opt/anaconda3/envs/capstone/lib/python3.10/site-packages/sklearn/linear_model/_logistic.py:1204\u001b[0m, in \u001b[0;36mLogisticRegression.fit\u001b[0;34m(self, X, y, sample_weight)\u001b[0m\n\u001b[1;32m   1194\u001b[0m     _dtype \u001b[38;5;241m=\u001b[39m [np\u001b[38;5;241m.\u001b[39mfloat64, np\u001b[38;5;241m.\u001b[39mfloat32]\n\u001b[1;32m   1196\u001b[0m X, y \u001b[38;5;241m=\u001b[39m \u001b[38;5;28mself\u001b[39m\u001b[38;5;241m.\u001b[39m_validate_data(\n\u001b[1;32m   1197\u001b[0m     X,\n\u001b[1;32m   1198\u001b[0m     y,\n\u001b[0;32m   (...)\u001b[0m\n\u001b[1;32m   1202\u001b[0m     accept_large_sparse\u001b[38;5;241m=\u001b[39msolver \u001b[38;5;129;01mnot\u001b[39;00m \u001b[38;5;129;01min\u001b[39;00m [\u001b[38;5;124m\"\u001b[39m\u001b[38;5;124mliblinear\u001b[39m\u001b[38;5;124m\"\u001b[39m, \u001b[38;5;124m\"\u001b[39m\u001b[38;5;124msag\u001b[39m\u001b[38;5;124m\"\u001b[39m, \u001b[38;5;124m\"\u001b[39m\u001b[38;5;124msaga\u001b[39m\u001b[38;5;124m\"\u001b[39m],\n\u001b[1;32m   1203\u001b[0m )\n\u001b[0;32m-> 1204\u001b[0m \u001b[43mcheck_classification_targets\u001b[49m\u001b[43m(\u001b[49m\u001b[43my\u001b[49m\u001b[43m)\u001b[49m\n\u001b[1;32m   1205\u001b[0m \u001b[38;5;28mself\u001b[39m\u001b[38;5;241m.\u001b[39mclasses_ \u001b[38;5;241m=\u001b[39m np\u001b[38;5;241m.\u001b[39munique(y)\n\u001b[1;32m   1207\u001b[0m multi_class \u001b[38;5;241m=\u001b[39m _check_multi_class(\u001b[38;5;28mself\u001b[39m\u001b[38;5;241m.\u001b[39mmulti_class, solver, \u001b[38;5;28mlen\u001b[39m(\u001b[38;5;28mself\u001b[39m\u001b[38;5;241m.\u001b[39mclasses_))\n",
      "File \u001b[0;32m~/opt/anaconda3/envs/capstone/lib/python3.10/site-packages/sklearn/utils/multiclass.py:207\u001b[0m, in \u001b[0;36mcheck_classification_targets\u001b[0;34m(y)\u001b[0m\n\u001b[1;32m    199\u001b[0m y_type \u001b[38;5;241m=\u001b[39m type_of_target(y, input_name\u001b[38;5;241m=\u001b[39m\u001b[38;5;124m\"\u001b[39m\u001b[38;5;124my\u001b[39m\u001b[38;5;124m\"\u001b[39m)\n\u001b[1;32m    200\u001b[0m \u001b[38;5;28;01mif\u001b[39;00m y_type \u001b[38;5;129;01mnot\u001b[39;00m \u001b[38;5;129;01min\u001b[39;00m [\n\u001b[1;32m    201\u001b[0m     \u001b[38;5;124m\"\u001b[39m\u001b[38;5;124mbinary\u001b[39m\u001b[38;5;124m\"\u001b[39m,\n\u001b[1;32m    202\u001b[0m     \u001b[38;5;124m\"\u001b[39m\u001b[38;5;124mmulticlass\u001b[39m\u001b[38;5;124m\"\u001b[39m,\n\u001b[0;32m   (...)\u001b[0m\n\u001b[1;32m    205\u001b[0m     \u001b[38;5;124m\"\u001b[39m\u001b[38;5;124mmultilabel-sequences\u001b[39m\u001b[38;5;124m\"\u001b[39m,\n\u001b[1;32m    206\u001b[0m ]:\n\u001b[0;32m--> 207\u001b[0m     \u001b[38;5;28;01mraise\u001b[39;00m \u001b[38;5;167;01mValueError\u001b[39;00m(\u001b[38;5;124m\"\u001b[39m\u001b[38;5;124mUnknown label type: \u001b[39m\u001b[38;5;132;01m%r\u001b[39;00m\u001b[38;5;124m\"\u001b[39m \u001b[38;5;241m%\u001b[39m y_type)\n",
      "\u001b[0;31mValueError\u001b[0m: Unknown label type: 'continuous'"
     ]
    }
   ],
   "source": [
    "logreg = LogisticRegression(solver = 'lbfgs', max_iter=10000) \n",
    "#this is the default solver anyway, but specifying it here as it's asked int he question\n",
    "\n",
    "# Fitting to the test data\n",
    "logreg.fit(X_train,y_train)\n",
    "\n",
    "\n",
    "# Scoring on train and test sets\n",
    "\n",
    "print(f'Train Score: {logreg.score(X_train, y_train)}')\n",
    "print(f'Test Score: {logreg.score(X_val, y_val)}')\n"
   ]
  },
  {
   "cell_type": "code",
   "execution_count": 40,
   "id": "946dfe99-b8cf-4254-8837-412642a8af6b",
   "metadata": {},
   "outputs": [],
   "source": [
    "from sklearn.neighbors import KNeighborsRegressor\n",
    "from sklearn.metrics import mean_squared_error, r2_score"
   ]
  },
  {
   "cell_type": "code",
   "execution_count": 41,
   "id": "d3202f34-41be-4e2d-854b-f29001d9b2f4",
   "metadata": {},
   "outputs": [
    {
     "name": "stdout",
     "output_type": "stream",
     "text": [
      "KNN Regression\n",
      "Mean Squared Error: 1.624487915526007\n",
      "R2 Score: -0.03192056152066902\n",
      "\n"
     ]
    }
   ],
   "source": [
    "knn_model = KNeighborsRegressor(n_neighbors=5)\n",
    "knn_model.fit(X_train_ss, y_train)\n",
    "y_pred_knn = knn_model.predict(X_val_ss)\n",
    "print(\"KNN Regression\")\n",
    "print(\"Mean Squared Error:\", mean_squared_error(y_val, y_pred_knn))\n",
    "print(\"R2 Score:\", r2_score(y_val, y_pred_knn))\n",
    "print()"
   ]
  },
  {
   "cell_type": "code",
   "execution_count": 20,
   "id": "ae291cb5-494b-4998-9605-da03e3849a13",
   "metadata": {},
   "outputs": [],
   "source": [
    "#Creating a function to get the Fibonacci sequence\n",
    "\n",
    "def fibonacci(n):\n",
    "   \n",
    "    # If input is negative then it will print incorrect input\n",
    "    if n < 0:\n",
    "        print(\"Incorrect input\")\n",
    " \n",
    "    # If n is 0 then it will return 0\n",
    "    elif n == 0:\n",
    "        return 0\n",
    " \n",
    "    # If n is 1,2 it will return 1 (the first 2 values of the sequence)\n",
    "    elif n == 1 or n == 2:\n",
    "        return 1\n",
    " \n",
    "    else:\n",
    "        return fibonacci(n-1) + fibonacci(n-2)\n",
    "     "
   ]
  },
  {
   "cell_type": "code",
   "execution_count": 21,
   "id": "4e78500c-479b-4aba-bf59-8922f8406429",
   "metadata": {},
   "outputs": [
    {
     "name": "stdout",
     "output_type": "stream",
     "text": [
      "[1, 2, 3, 5, 8, 13, 21, 34, 55, 89, 144, 233, 377, 610, 987, 1597, 2584, 4181, 6765]\n"
     ]
    }
   ],
   "source": [
    "#Check to see if it works\n",
    "\n",
    "fib_list = []\n",
    "for i in np.arange(2,21,1): #starting from 2 as we want to being with 1,2....\n",
    "    fib_list.append(fibonacci(i))\n",
    "    \n",
    "print (fib_list)"
   ]
  },
  {
   "cell_type": "code",
   "execution_count": 24,
   "id": "1b37159b-6229-422e-8d81-742601ea200e",
   "metadata": {},
   "outputs": [],
   "source": [
    "#Doing this for KNN\n",
    "\n",
    "scaler = StandardScaler()\n",
    "scaler.fit(X_train)\n",
    "\n",
    "X_train_ss = scaler.transform(X_train)\n",
    "\n",
    "X_val_ss = scaler.transform(X_val)"
   ]
  },
  {
   "cell_type": "code",
   "execution_count": 28,
   "id": "55e4f6d6-e4ea-4202-ac26-08a34ae6b269",
   "metadata": {},
   "outputs": [
    {
     "name": "stdout",
     "output_type": "stream",
     "text": [
      "Now running the KNN model with n=6765\r"
     ]
    }
   ],
   "source": [
    "#Now creating the For loop to look at optimal values for the number of neighbours\n",
    "\n",
    "train_acc=[]\n",
    "val_acc=[]\n",
    "\n",
    "for n in fib_list:\n",
    "    \n",
    "    print(f'Now running the KNN model with n={n}', end='\\r')\n",
    "    \n",
    "    # Instantiate the KNN model \n",
    "    KNN_model= KNeighborsRegressor(n_neighbors = n)\n",
    "    KNN_model.fit(X_train_ss, y_train)\n",
    "    \n",
    "    train_accuracy = KNN_model.score(X_train_ss, y_train)\n",
    "    val_accuracy = KNN_model.score(X_val_ss, y_val)\n",
    "    \n",
    "    train_acc.append(train_accuracy)\n",
    "    val_acc.append(val_accuracy)"
   ]
  },
  {
   "cell_type": "code",
   "execution_count": 29,
   "id": "2d486f9c-91e4-466a-adeb-ad74ce5f418e",
   "metadata": {},
   "outputs": [
    {
     "data": {
      "image/png": "[encoded data removed]",
      "text/plain": [
       "<Figure size 1000x600 with 1 Axes>"
      ]
     },
     "metadata": {},
     "output_type": "display_data"
    }
   ],
   "source": [
    "#Plotting this with a log scale for the X-axis for better interpretability\n",
    "\n",
    "plt.figure(figsize=(10,6))\n",
    "plt.plot(fib_list, train_acc, color='red', label = 'Training accurary', marker = 'o')\n",
    "plt.plot(fib_list, val_acc, color='blue', label = 'Validation accurary', marker = 'o')\n",
    "plt.xscale('log') #Using a log scale to better spread out the values\n",
    "plt.xlabel('Number of neighbours (log scale)')\n",
    "plt.ylabel('Accuracy scores')\n",
    "plt.title('KNN model accuracy scores vs number of neighbours')\n",
    "plt.legend()\n",
    "plt.grid()\n",
    "plt.show()"
   ]
  },
  {
   "cell_type": "markdown",
   "id": "0407e70f-ee28-4703-b2ed-8a0d6a1b896a",
   "metadata": {},
   "source": [
    "## Decision Trees"
   ]
  },
  {
   "cell_type": "code",
   "execution_count": 34,
   "id": "9104f807-1cc8-42fa-aed3-1e8deef58e09",
   "metadata": {},
   "outputs": [],
   "source": [
    "from sklearn.tree import DecisionTreeRegressor"
   ]
  },
  {
   "cell_type": "code",
   "execution_count": 35,
   "id": "8f3a015f-a773-481e-821c-ccf71ad7b8ba",
   "metadata": {},
   "outputs": [
    {
     "data": {
      "text/html": [
       "<style>#sk-container-id-1 {color: black;background-color: white;}#sk-container-id-1 pre{padding: 0;}#sk-container-id-1 div.sk-toggleable {background-color: white;}#sk-container-id-1 label.sk-toggleable__label {cursor: pointer;display: block;width: 100%;margin-bottom: 0;padding: 0.3em;box-sizing: border-box;text-align: center;}#sk-container-id-1 label.sk-toggleable__label-arrow:before {content: \"▸\";float: left;margin-right: 0.25em;color: #696969;}#sk-container-id-1 label.sk-toggleable__label-arrow:hover:before {color: black;}#sk-container-id-1 div.sk-estimator:hover label.sk-toggleable__label-arrow:before {color: black;}#sk-container-id-1 div.sk-toggleable__content {max-height: 0;max-width: 0;overflow: hidden;text-align: left;background-color: #f0f8ff;}#sk-container-id-1 div.sk-toggleable__content pre {margin: 0.2em;color: black;border-radius: 0.25em;background-color: #f0f8ff;}#sk-container-id-1 input.sk-toggleable__control:checked~div.sk-toggleable__content {max-height: 200px;max-width: 100%;overflow: auto;}#sk-container-id-1 input.sk-toggleable__control:checked~label.sk-toggleable__label-arrow:before {content: \"▾\";}#sk-container-id-1 div.sk-estimator input.sk-toggleable__control:checked~label.sk-toggleable__label {background-color: #d4ebff;}#sk-container-id-1 div.sk-label input.sk-toggleable__control:checked~label.sk-toggleable__label {background-color: #d4ebff;}#sk-container-id-1 input.sk-hidden--visually {border: 0;clip: rect(1px 1px 1px 1px);clip: rect(1px, 1px, 1px, 1px);height: 1px;margin: -1px;overflow: hidden;padding: 0;position: absolute;width: 1px;}#sk-container-id-1 div.sk-estimator {font-family: monospace;background-color: #f0f8ff;border: 1px dotted black;border-radius: 0.25em;box-sizing: border-box;margin-bottom: 0.5em;}#sk-container-id-1 div.sk-estimator:hover {background-color: #d4ebff;}#sk-container-id-1 div.sk-parallel-item::after {content: \"\";width: 100%;border-bottom: 1px solid gray;flex-grow: 1;}#sk-container-id-1 div.sk-label:hover label.sk-toggleable__label {background-color: #d4ebff;}#sk-container-id-1 div.sk-serial::before {content: \"\";position: absolute;border-left: 1px solid gray;box-sizing: border-box;top: 0;bottom: 0;left: 50%;z-index: 0;}#sk-container-id-1 div.sk-serial {display: flex;flex-direction: column;align-items: center;background-color: white;padding-right: 0.2em;padding-left: 0.2em;position: relative;}#sk-container-id-1 div.sk-item {position: relative;z-index: 1;}#sk-container-id-1 div.sk-parallel {display: flex;align-items: stretch;justify-content: center;background-color: white;position: relative;}#sk-container-id-1 div.sk-item::before, #sk-container-id-1 div.sk-parallel-item::before {content: \"\";position: absolute;border-left: 1px solid gray;box-sizing: border-box;top: 0;bottom: 0;left: 50%;z-index: -1;}#sk-container-id-1 div.sk-parallel-item {display: flex;flex-direction: column;z-index: 1;position: relative;background-color: white;}#sk-container-id-1 div.sk-parallel-item:first-child::after {align-self: flex-end;width: 50%;}#sk-container-id-1 div.sk-parallel-item:last-child::after {align-self: flex-start;width: 50%;}#sk-container-id-1 div.sk-parallel-item:only-child::after {width: 0;}#sk-container-id-1 div.sk-dashed-wrapped {border: 1px dashed gray;margin: 0 0.4em 0.5em 0.4em;box-sizing: border-box;padding-bottom: 0.4em;background-color: white;}#sk-container-id-1 div.sk-label label {font-family: monospace;font-weight: bold;display: inline-block;line-height: 1.2em;}#sk-container-id-1 div.sk-label-container {text-align: center;}#sk-container-id-1 div.sk-container {/* jupyter's `normalize.less` sets `[hidden] { display: none; }` but bootstrap.min.css set `[hidden] { display: none !important; }` so we also need the `!important` here to be able to override the default hidden behavior on the sphinx rendered scikit-learn.org. See: https://github.com/scikit-learn/scikit-learn/issues/21755 */display: inline-block !important;position: relative;}#sk-container-id-1 div.sk-text-repr-fallback {display: none;}</style><div id=\"sk-container-id-1\" class=\"sk-top-container\"><div class=\"sk-text-repr-fallback\"><pre>DecisionTreeRegressor(random_state=42)</pre><b>In a Jupyter environment, please rerun this cell to show the HTML representation or trust the notebook. <br />On GitHub, the HTML representation is unable to render, please try loading this page with nbviewer.org.</b></div><div class=\"sk-container\" hidden><div class=\"sk-item\"><div class=\"sk-estimator sk-toggleable\"><input class=\"sk-toggleable__control sk-hidden--visually\" id=\"sk-estimator-id-1\" type=\"checkbox\" checked><label for=\"sk-estimator-id-1\" class=\"sk-toggleable__label sk-toggleable__label-arrow\">DecisionTreeRegressor</label><div class=\"sk-toggleable__content\"><pre>DecisionTreeRegressor(random_state=42)</pre></div></div></div></div></div>"
      ],
      "text/plain": [
       "DecisionTreeRegressor(random_state=42)"
      ]
     },
     "execution_count": 35,
     "metadata": {},
     "output_type": "execute_result"
    }
   ],
   "source": [
    "dt_baseline = DecisionTreeRegressor(random_state=42)\n",
    "dt_baseline.fit(X_train, y_train)"
   ]
  },
  {
   "cell_type": "code",
   "execution_count": 38,
   "id": "8f7a9129-f91a-4e49-9410-91aa7e3c5ec3",
   "metadata": {},
   "outputs": [
    {
     "name": "stdout",
     "output_type": "stream",
     "text": [
      "The training accuracy is 100.0% and the test accuracy is 1.35%\n"
     ]
    }
   ],
   "source": [
    "print(f'The training accuracy is {round(dt_baseline.score(X_train, y_train)*100,2)}% \\\n",
    "and the validation accuracy is {round(dt_baseline.score(X_val, y_val)*100,2)}%')"
   ]
  },
  {
   "cell_type": "code",
   "execution_count": null,
   "id": "f77ccf73-0c32-4ce9-9410-07eee9ea2cd2",
   "metadata": {},
   "outputs": [],
   "source": []
  },
  {
   "cell_type": "code",
   "execution_count": null,
   "id": "9b1f202a-b524-4dcd-94e7-e1d08d08e15e",
   "metadata": {},
   "outputs": [],
   "source": []
  },
  {
   "cell_type": "code",
   "execution_count": null,
   "id": "6750ed5b-6ae3-4d80-a549-02e9651d7c07",
   "metadata": {},
   "outputs": [],
   "source": []
  },
  {
   "cell_type": "code",
   "execution_count": 42,
   "id": "39b28c54-b312-4e19-9c29-9261751bd8f8",
   "metadata": {},
   "outputs": [
    {
     "name": "stdout",
     "output_type": "stream",
     "text": [
      "Decision Tree Regression\n",
      "Mean Squared Error: 1.5530308955807586\n",
      "R2 Score: 0.013470953825025833\n"
     ]
    }
   ],
   "source": [
    "dt_model = DecisionTreeRegressor(random_state=42)\n",
    "dt_model.fit(X_train, y_train)\n",
    "y_pred_dt = dt_model.predict(X_val)\n",
    "print(\"Decision Tree Regression\")\n",
    "print(\"Mean Squared Error:\", mean_squared_error(y_val, y_pred_dt))\n",
    "print(\"R2 Score:\", r2_score(y_val, y_pred_dt))"
   ]
  },
  {
   "cell_type": "code",
   "execution_count": 43,
   "id": "8e8a5d02-2395-4946-b131-3e93f28cd732",
   "metadata": {},
   "outputs": [],
   "source": [
    "from sklearn.linear_model import LinearRegression"
   ]
  },
  {
   "cell_type": "code",
   "execution_count": 44,
   "id": "9eaf5645-7c68-4bad-bfd5-6db84d05cf0b",
   "metadata": {},
   "outputs": [
    {
     "name": "stdout",
     "output_type": "stream",
     "text": [
      "Linear Regression\n",
      "Mean Squared Error: 1.0984972319070514\n",
      "R2 Score: 0.3022035623999215\n",
      "\n"
     ]
    }
   ],
   "source": [
    "linear_model = LinearRegression()\n",
    "linear_model.fit(X_train, y_train)\n",
    "y_pred_lin = linear_model.predict(X_val)\n",
    "print(\"Linear Regression\")\n",
    "print(\"Mean Squared Error:\", mean_squared_error(y_val, y_pred_lin))\n",
    "print(\"R2 Score:\", r2_score(y_val, y_pred_lin))\n",
    "print()"
   ]
  },
  {
   "cell_type": "code",
   "execution_count": 45,
   "id": "0cb0ceb2-aef8-41c4-8d9c-757186073078",
   "metadata": {},
   "outputs": [
    {
     "name": "stdout",
     "output_type": "stream",
     "text": [
      "Linear Regression\n",
      "Mean Squared Error: 1.098390474190223\n",
      "R2 Score: 0.30227137791399405\n",
      "\n"
     ]
    }
   ],
   "source": [
    "linear_model = LinearRegression()\n",
    "linear_model.fit(X_train_ss, y_train)\n",
    "y_pred_lin = linear_model.predict(X_val_ss)\n",
    "print(\"Linear Regression\")\n",
    "print(\"Mean Squared Error:\", mean_squared_error(y_val, y_pred_lin))\n",
    "print(\"R2 Score:\", r2_score(y_val, y_pred_lin))\n",
    "print()"
   ]
  },
  {
   "cell_type": "code",
   "execution_count": null,
   "id": "90d1abfb-7873-4838-b813-f89586201bcb",
   "metadata": {},
   "outputs": [],
   "source": []
  },
  {
   "cell_type": "code",
   "execution_count": 51,
   "id": "bb88113e-4965-4357-bd4d-d8a065f047d1",
   "metadata": {},
   "outputs": [],
   "source": [
    "from sklearn.model_selection import cross_val_score"
   ]
  },
  {
   "cell_type": "code",
   "execution_count": 57,
   "id": "88ee72b7-7cb1-45a3-96e4-afe06055921d",
   "metadata": {},
   "outputs": [
    {
     "name": "stdout",
     "output_type": "stream",
     "text": [
      "Linear Regression\n",
      "R2 Scores: [0.31236515 0.28670341 0.30099018 0.27837932 0.31221393]\n",
      "Average R2 Score: 0.2981303960788738\n",
      "\n"
     ]
    }
   ],
   "source": [
    "# Linear Regression\n",
    "linear_model = LinearRegression()\n",
    "lin_scores = cross_val_score(linear_model, X_rem_ss, y_rem, cv=5, scoring='r2')\n",
    "print(\"Linear Regression\")\n",
    "print(\"R2 Scores:\", lin_scores)\n",
    "print(\"Average R2 Score:\", np.mean(lin_scores))\n",
    "print()"
   ]
  },
  {
   "cell_type": "code",
   "execution_count": 53,
   "id": "a0a38169-0f02-4614-982c-656d7b077ed6",
   "metadata": {},
   "outputs": [
    {
     "name": "stdout",
     "output_type": "stream",
     "text": [
      "KNN Regression\n",
      "R2 Scores: [0.18935126 0.15242987 0.18748405 0.16743761 0.20064971]\n",
      "Average R2 Score: 0.1794705007736734\n",
      "\n"
     ]
    }
   ],
   "source": [
    "# KNN Regression\n",
    "knn_model = KNeighborsRegressor(n_neighbors=5)\n",
    "knn_scores = cross_val_score(knn_model, X_rem, y_rem, cv=5, scoring='r2')\n",
    "print(\"KNN Regression\")\n",
    "print(\"R2 Scores:\", knn_scores)\n",
    "print(\"Average R2 Score:\", np.mean(knn_scores))\n",
    "print()"
   ]
  },
  {
   "cell_type": "code",
   "execution_count": 54,
   "id": "58880ad4-489b-4161-822c-cffd0fbe3be3",
   "metadata": {},
   "outputs": [],
   "source": [
    "#Doing this for KNN\n",
    "\n",
    "scaler = StandardScaler()\n",
    "scaler.fit(X_rem)\n",
    "\n",
    "X_rem_ss = scaler.transform(X_rem)"
   ]
  },
  {
   "cell_type": "code",
   "execution_count": 56,
   "id": "f5a6ef90-ff05-4074-bcad-24463cfa4d20",
   "metadata": {},
   "outputs": [
    {
     "name": "stdout",
     "output_type": "stream",
     "text": [
      "KNN Regression\n",
      "R2 Scores: [-0.03483853 -0.06375581 -0.02363718 -0.05211699 -0.03713307]\n",
      "Average R2 Score: -0.042296315967833606\n",
      "\n"
     ]
    }
   ],
   "source": [
    "# KNN Regression\n",
    "knn_model = KNeighborsRegressor(n_neighbors=5)\n",
    "knn_scores = cross_val_score(knn_model, X_rem_ss, y_rem, cv=5, scoring='r2')\n",
    "print(\"KNN Regression\")\n",
    "print(\"R2 Scores:\", knn_scores)\n",
    "print(\"Average R2 Score:\", np.mean(knn_scores))\n",
    "print()"
   ]
  },
  {
   "cell_type": "code",
   "execution_count": null,
   "id": "dec1f218-1ab1-4123-9793-ddeb29c8c169",
   "metadata": {},
   "outputs": [],
   "source": []
  },
  {
   "cell_type": "code",
   "execution_count": null,
   "id": "9d5714ce-9b6b-4d43-ab78-138627df54aa",
   "metadata": {},
   "outputs": [],
   "source": []
  },
  {
   "cell_type": "code",
   "execution_count": null,
   "id": "45eade03-8b75-45a4-a848-881ab8d7be86",
   "metadata": {},
   "outputs": [],
   "source": []
  },
  {
   "cell_type": "code",
   "execution_count": null,
   "id": "f268bae0-bec9-4589-9505-eef7d4dcd488",
   "metadata": {},
   "outputs": [],
   "source": []
  }
 ],
 "metadata": {
  "kernelspec": {
   "display_name": "capstone",
   "language": "python",
   "name": "capstone"
  },
  "language_info": {
   "codemirror_mode": {
    "name": "ipython",
    "version": 3
   },
   "file_extension": ".py",
   "mimetype": "text/x-python",
   "name": "python",
   "nbconvert_exporter": "python",
   "pygments_lexer": "ipython3",
   "version": "3.10.9"
  }
 },
 "nbformat": 4,
 "nbformat_minor": 5
}
